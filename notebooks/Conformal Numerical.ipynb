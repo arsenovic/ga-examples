{
 "metadata": {
  "name": "",
  "signature": "sha256:11d400c5e0d8207181f89f391514ce407569d221be40ff754755260500daf43c"
 },
 "nbformat": 3,
 "nbformat_minor": 0,
 "worksheets": [
  {
   "cells": [
    {
     "cell_type": "code",
     "collapsed": false,
     "input": [
      "\n",
      "from clifford import * #from https://bitbucket.org/robertkern/clifford\n",
      "\n",
      "pretty()\n",
      "layout, blades = Cl(3,1)\n",
      "rb = lambda g:randomMV(layout, grades=[g])\n"
     ],
     "language": "python",
     "metadata": {},
     "outputs": [],
     "prompt_number": 70
    },
    {
     "cell_type": "code",
     "collapsed": true,
     "input": [
      "e0,e1,e2,e3 = [blades['e%i'%k] for k in range(4)]\n",
      "\n",
      "# setup  null basis, and minkowski subspace bivector\n",
      "eo = .5^(e3-e2)\n",
      "einf= e2+e3\n",
      "E0= einf^eo\n",
      "\n",
      "\n",
      "v4 =  lambda : rb(1)\n",
      "def v2():\n",
      "    x=v4()\n",
      "    return x- E0.project(x)\n",
      "up = lambda x: x + (.5^((x**2)&einf)) + eo\n",
      "homo = lambda x: x & (-x*einf).normalInv()\n",
      "down = lambda x: (homo(x)^E0)&E0\n",
      "\n",
      "c2v = lambda x: (x.real&e0) + (x.imag&e1) # complex2vector\n",
      "v2c = lambda x: float(x*e0)+ float(x*e1)*1j\n",
      "\n",
      "\n"
     ],
     "language": "python",
     "metadata": {},
     "outputs": [],
     "prompt_number": 71
    },
    {
     "cell_type": "code",
     "collapsed": false,
     "input": [
      "einf&eo"
     ],
     "language": "python",
     "metadata": {},
     "outputs": [
      {
       "metadata": {},
       "output_type": "pyout",
       "prompt_number": 72,
       "text": [
        "-1.0 + (1.0^e23)"
       ]
      }
     ],
     "prompt_number": 72
    },
    {
     "cell_type": "code",
     "collapsed": false,
     "input": [
      "einf-(2^eo)"
     ],
     "language": "python",
     "metadata": {},
     "outputs": [
      {
       "metadata": {},
       "output_type": "pyout",
       "prompt_number": 73,
       "text": [
        "(2.0^e2)"
       ]
      }
     ],
     "prompt_number": 73
    },
    {
     "cell_type": "code",
     "collapsed": false,
     "input": [
      "x = v2()\n",
      "x"
     ],
     "language": "python",
     "metadata": {},
     "outputs": [
      {
       "metadata": {},
       "output_type": "pyout",
       "prompt_number": 74,
       "text": [
        "-(0.705616446207^e0) - (0.284457181241^e1)"
       ]
      }
     ],
     "prompt_number": 74
    },
    {
     "cell_type": "code",
     "collapsed": false,
     "input": [
      "X=up(x)\n",
      "X"
     ],
     "language": "python",
     "metadata": {},
     "outputs": [
      {
       "metadata": {},
       "output_type": "pyout",
       "prompt_number": 75,
       "text": [
        "-(0.705616446207^e0) - (0.284457181241^e1) - (0.210594771441^e2) + (0.789405228559^e3)"
       ]
      }
     ],
     "prompt_number": 75
    },
    {
     "cell_type": "code",
     "collapsed": false,
     "input": [
      "x = v2()\n",
      "X = up(x)\n",
      "assert(X**2 ==0)\n",
      "assert(down(X) ==x)"
     ],
     "language": "python",
     "metadata": {},
     "outputs": [],
     "prompt_number": 76
    },
    {
     "cell_type": "heading",
     "level": 1,
     "metadata": {},
     "source": [
      "Operations"
     ]
    },
    {
     "cell_type": "markdown",
     "metadata": {},
     "source": [
      "Operations in conformal GA are acchieved through versers. These versers can be categorized by their relation to the minkowski plane, $E_0$. There are three categories,\n",
      "\n",
      "* verser purley in $E_0$\n",
      "* verser partly in $E_0$\n",
      "* verser out of $E_0$\n"
     ]
    },
    {
     "cell_type": "code",
     "collapsed": false,
     "input": [
      "from IPython.display import Image,SVG\n",
      "SVG('pics/conformal space.svg')"
     ],
     "language": "python",
     "metadata": {},
     "outputs": [
      {
       "metadata": {},
       "output_type": "pyout",
       "prompt_number": 77,
       "svg": [
        "<svg height=\"360\" id=\"svg2\" inkscape:version=\"0.48.3.1 r9886\" sodipodi:docname=\"conformal space.svg\" version=\"1.1\" width=\"540\" xmlns=\"http://www.w3.org/2000/svg\" xmlns:cc=\"http://creativecommons.org/ns#\" xmlns:dc=\"http://purl.org/dc/elements/1.1/\" xmlns:inkscape=\"http://www.inkscape.org/namespaces/inkscape\" xmlns:rdf=\"http://www.w3.org/1999/02/22-rdf-syntax-ns#\" xmlns:sodipodi=\"http://sodipodi.sourceforge.net/DTD/sodipodi-0.dtd\" xmlns:svg=\"http://www.w3.org/2000/svg\">\n",
        "  <defs id=\"defs4\">\n",
        "    <marker id=\"Arrow2Lend\" inkscape:stockid=\"Arrow2Lend\" orient=\"auto\" refX=\"0.0\" refY=\"0.0\" style=\"overflow:visible;\">\n",
        "      <path d=\"M 8.7185878,4.0337352 L -2.2072895,0.016013256 L 8.7185884,-4.0017078 C 6.9730900,-1.6296469 6.9831476,1.6157441 8.7185878,4.0337352 z \" id=\"path3949\" style=\"fill-rule:evenodd;stroke-width:0.62500000;stroke-linejoin:round;\" transform=\"scale(1.1) rotate(180) translate(1,0)\"/>\n",
        "    </marker>\n",
        "    <marker id=\"Arrow1Lend\" inkscape:stockid=\"Arrow1Lend\" orient=\"auto\" refX=\"0.0\" refY=\"0.0\" style=\"overflow:visible;\">\n",
        "      <path d=\"M 0.0,0.0 L 5.0,-5.0 L -12.5,0.0 L 5.0,5.0 L 0.0,0.0 z \" id=\"path3931\" style=\"fill-rule:evenodd;stroke:#000000;stroke-width:1.0pt;\" transform=\"scale(0.8) rotate(180) translate(12.5,0)\"/>\n",
        "    </marker>\n",
        "    <marker id=\"Arrow2Lend-4\" inkscape:stockid=\"Arrow2Lend\" orient=\"auto\" refX=\"0\" refY=\"0\" style=\"overflow:visible\">\n",
        "      <path d=\"M 8.7185878,4.0337352 -2.2072895,0.01601326 8.7185884,-4.0017078 c -1.7454984,2.3720609 -1.7354408,5.6174519 -6e-7,8.035443 z\" id=\"path3949-1\" inkscape:connector-curvature=\"0\" style=\"fill-rule:evenodd;stroke-width:0.625;stroke-linejoin:round\" transform=\"matrix(-1.1,0,0,-1.1,-1.1,0)\"/>\n",
        "    </marker>\n",
        "    <marker id=\"Arrow2Lend-3\" inkscape:stockid=\"Arrow2Lend\" orient=\"auto\" refX=\"0\" refY=\"0\" style=\"overflow:visible\">\n",
        "      <path d=\"M 8.7185878,4.0337352 -2.2072895,0.01601326 8.7185884,-4.0017078 c -1.7454984,2.3720609 -1.7354408,5.6174519 -6e-7,8.035443 z\" id=\"path3949-19\" inkscape:connector-curvature=\"0\" style=\"fill-rule:evenodd;stroke-width:0.625;stroke-linejoin:round\" transform=\"matrix(-1.1,0,0,-1.1,-1.1,0)\"/>\n",
        "    </marker>\n",
        "    <marker id=\"Arrow2Lend-8\" inkscape:stockid=\"Arrow2Lend\" orient=\"auto\" refX=\"0\" refY=\"0\" style=\"overflow:visible\">\n",
        "      <path d=\"M 8.7185878,4.0337352 -2.2072895,0.01601326 8.7185884,-4.0017078 c -1.7454984,2.3720609 -1.7354408,5.6174519 -6e-7,8.035443 z\" id=\"path3949-8\" inkscape:connector-curvature=\"0\" style=\"fill-rule:evenodd;stroke-width:0.625;stroke-linejoin:round\" transform=\"matrix(-1.1,0,0,-1.1,-1.1,0)\"/>\n",
        "    </marker>\n",
        "  </defs>\n",
        "  <sodipodi:namedview bordercolor=\"#666666\" borderopacity=\"1.0\" id=\"base\" inkscape:bbox-nodes=\"true\" inkscape:bbox-paths=\"true\" inkscape:current-layer=\"layer1\" inkscape:cx=\"348.31552\" inkscape:cy=\"138.16758\" inkscape:document-units=\"px\" inkscape:object-nodes=\"true\" inkscape:object-paths=\"true\" inkscape:pageopacity=\"0.0\" inkscape:pageshadow=\"2\" inkscape:snap-bbox=\"true\" inkscape:snap-bbox-edge-midpoints=\"true\" inkscape:snap-bbox-midpoints=\"true\" inkscape:snap-center=\"true\" inkscape:snap-intersection-paths=\"true\" inkscape:snap-midpoints=\"true\" inkscape:snap-object-midpoints=\"true\" inkscape:snap-smooth-nodes=\"true\" inkscape:window-height=\"712\" inkscape:window-maximized=\"0\" inkscape:window-width=\"970\" inkscape:window-x=\"746\" inkscape:window-y=\"137\" inkscape:zoom=\"1.8535102\" pagecolor=\"#ffffff\" showgrid=\"false\" units=\"in\"/>\n",
        "  <metadata id=\"metadata7\">\n",
        "    <rdf:RDF>\n",
        "      <cc:Work rdf:about=\"\">\n",
        "        <dc:format>image/svg+xml</dc:format>\n",
        "        <dc:type rdf:resource=\"http://purl.org/dc/dcmitype/StillImage\"/>\n",
        "      </cc:Work>\n",
        "    </rdf:RDF>\n",
        "  </metadata>\n",
        "  <g id=\"layer1\" inkscape:groupmode=\"layer\" inkscape:label=\"Layer 1\" transform=\"translate(0,-692.35975)\">\n",
        "    <path d=\"M 179.66798,927.36571 397.06397,985.6168\" id=\"path2987\" inkscape:connector-curvature=\"0\" sodipodi:nodetypes=\"cc\" style=\"fill:none;stroke:#000000;stroke-width:1.17096198px;stroke-linecap:butt;stroke-linejoin:miter;stroke-opacity:1;marker-end:url(#Arrow2Lend)\"/>\n",
        "    <path d=\"M 179.28571,235 382.75684,180.48007\" id=\"path2989\" inkscape:connector-curvature=\"0\" style=\"fill:none;stroke:#000000;stroke-width:1px;stroke-linecap:butt;stroke-linejoin:miter;stroke-opacity:1;marker-end:url(#Arrow2Lend)\" transform=\"translate(0,692.35975)\"/>\n",
        "    <rect height=\"102.37164\" id=\"rect3009\" style=\"color:#000000;fill:#e9e9e9;fill-opacity:0.5151515;fill-rule:nonzero;stroke:#000000;stroke-width:0.50873774;stroke-linecap:butt;stroke-linejoin:miter;stroke-miterlimit:4;stroke-opacity:1;stroke-dasharray:none;stroke-dashoffset:0;marker:none;visibility:visible;display:inline;overflow:visible;enable-background:accumulate\" transform=\"matrix(0.96857373,0.24872661,0.01036231,0.99994631,0,0)\" width=\"170.23985\" x=\"176.2645\" y=\"781.97742\"/>\n",
        "    <rect height=\"102.41894\" id=\"rect3009-8\" style=\"color:#000000;fill:#e9e9e9;fill-opacity:0.5151515;fill-rule:nonzero;stroke:#000000;stroke-width:0.43992743;stroke-linecap:butt;stroke-linejoin:miter;stroke-miterlimit:4;stroke-opacity:1;stroke-dasharray:none;stroke-dashoffset:0;marker:none;visibility:visible;display:inline;overflow:visible;enable-background:accumulate\" transform=\"matrix(0.96607676,-0.25825511,0,1,0,0)\" width=\"127.24326\" x=\"185.1077\" y=\"873.58215\"/>\n",
        "    <path d=\"M 344.2801,970.768 465.54234,938.27588\" id=\"path2989-0\" inkscape:connector-curvature=\"0\" style=\"fill:none;stroke:#000000;stroke-width:0.59596777px;stroke-linecap:butt;stroke-linejoin:miter;stroke-opacity:1\"/>\n",
        "    <path d=\"m 302.17866,894.43066 163.22208,43.73527\" id=\"path2987-5\" inkscape:connector-curvature=\"0\" sodipodi:nodetypes=\"cc\" style=\"fill:none;stroke:#000000;stroke-width:0.87916458px;stroke-linecap:butt;stroke-linejoin:miter;stroke-opacity:1\"/>\n",
        "    <path d=\"m 179.5825,928.10824 0,-177.14286\" id=\"path2987-0\" inkscape:connector-curvature=\"0\" sodipodi:nodetypes=\"cc\" style=\"fill:none;stroke:#000000;stroke-width:1px;stroke-linecap:butt;stroke-linejoin:miter;stroke-opacity:1;marker-end:url(#Arrow2Lend)\"/>\n",
        "    <text id=\"text4819\" sodipodi:linespacing=\"125%\" style=\"font-size:31.69242287px;font-style:normal;font-variant:normal;font-weight:normal;font-stretch:normal;line-height:125%;letter-spacing:0px;word-spacing:0px;fill:#000000;fill-opacity:1;stroke:none;font-family:Bitstream Charter;-inkscape-font-specification:Bitstream Charter\" transform=\"matrix(0.96272524,0.27048127,-1.5852548,0.59333467,0,0)\" x=\"1702.4872\" xml:space=\"preserve\" y=\"833.15594\"><tspan id=\"tspan4821\" sodipodi:role=\"line\" x=\"1702.4872\" y=\"833.15594\">E<tspan id=\"tspan4827\" style=\"font-size:20.60036469px;baseline-shift:sub\">0</tspan></tspan></text>\n",
        "    <path d=\"m 180.65177,927.81715 59.04655,-66.54564\" id=\"path2989-5\" inkscape:connector-curvature=\"0\" sodipodi:nodetypes=\"cc\" style=\"fill:none;stroke:#b7b7b7;stroke-width:0.70372373;stroke-linecap:butt;stroke-linejoin:miter;stroke-miterlimit:4;stroke-opacity:1;stroke-dasharray:4.22234251, 4.22234251;stroke-dashoffset:0;marker-end:url(#Arrow2Lend)\"/>\n",
        "    <path d=\"M 180.79991,927.66901 523.1356,941.05537\" id=\"path2989-5-5\" inkscape:connector-curvature=\"0\" sodipodi:nodetypes=\"cc\" style=\"fill:none;stroke:#000000;stroke-width:1;stroke-linecap:butt;stroke-linejoin:miter;stroke-miterlimit:4;stroke-opacity:1;stroke-dasharray:6, 6;stroke-dashoffset:0;marker-end:url(#Arrow2Lend)\"/>\n",
        "    <text id=\"text4901\" sodipodi:linespacing=\"125%\" style=\"font-size:12px;font-style:normal;font-variant:normal;font-weight:normal;font-stretch:normal;line-height:125%;letter-spacing:0px;word-spacing:0px;fill:#000000;fill-opacity:1;stroke:none;font-family:Asana Math;-inkscape-font-specification:Asana Math\" transform=\"translate(0,692.35975)\" x=\"79.848495\" xml:space=\"preserve\" y=\"96.715767\"><tspan id=\"tspan4903\" sodipodi:role=\"line\" x=\"79.848495\" y=\"96.715767\"/></text>\n",
        "    <text id=\"text4905\" sodipodi:linespacing=\"125%\" style=\"font-size:16px;font-style:normal;font-variant:normal;font-weight:normal;font-stretch:normal;line-height:125%;letter-spacing:0px;word-spacing:0px;fill:#000000;fill-opacity:1;stroke:none;font-family:Asana Math;-inkscape-font-specification:Asana Math\" transform=\"translate(0,692.35975)\" x=\"418.12558\" xml:space=\"preserve\" y=\"306.58783\"><tspan id=\"tspan4907\" sodipodi:role=\"line\"/></text>\n",
        "    <text id=\"text4909\" sodipodi:linespacing=\"125%\" style=\"font-size:12px;font-style:normal;font-variant:normal;font-weight:normal;font-stretch:normal;line-height:125%;letter-spacing:0px;word-spacing:0px;fill:#000000;fill-opacity:1;stroke:none;font-family:Asana Math;-inkscape-font-specification:Asana Math\" transform=\"translate(0,692.35975)\" x=\"406.79572\" xml:space=\"preserve\" y=\"307.12735\"><tspan id=\"tspan4911\" sodipodi:role=\"line\" x=\"406.79572\" y=\"307.12735\">e<tspan id=\"tspan4913\" style=\"font-size:65%;baseline-shift:sub\">o</tspan></tspan></text>\n",
        "    <text id=\"text4915\" sodipodi:linespacing=\"125%\" style=\"font-size:12px;font-style:normal;font-variant:normal;font-weight:normal;font-stretch:normal;line-height:125%;letter-spacing:0px;word-spacing:0px;fill:#000000;fill-opacity:1;stroke:none;font-family:Asana Math;-inkscape-font-specification:Asana Math\" transform=\"translate(0,692.35975)\" x=\"394.38684\" xml:space=\"preserve\" y=\"184.11749\"><tspan id=\"tspan4917\" sodipodi:role=\"line\" x=\"394.38684\" y=\"184.11749\">e</tspan></text>\n",
        "  </g>\n",
        "</svg>"
       ],
       "text": [
        "<IPython.core.display.SVG at 0xc6339d0>"
       ]
      }
     ],
     "prompt_number": 77
    },
    {
     "cell_type": "heading",
     "level": 2,
     "metadata": {},
     "source": [
      "Versers purely in $E_0$"
     ]
    },
    {
     "cell_type": "code",
     "collapsed": false,
     "input": [
      "eps(1e-13)\n",
      "a = v2()\n",
      "b = v2()"
     ],
     "language": "python",
     "metadata": {},
     "outputs": [],
     "prompt_number": 94
    },
    {
     "cell_type": "heading",
     "level": 3,
     "metadata": {},
     "source": [
      "Inversions"
     ]
    },
    {
     "cell_type": "markdown",
     "metadata": {},
     "source": [
      "Inversion is a reflection in $e_-$, this swaps $e_o$  and $e_{\\infty}$"
     ]
    },
    {
     "cell_type": "code",
     "collapsed": false,
     "input": [
      "assert(down(e2&up(a)&e2)  == a.inv())\n"
     ],
     "language": "python",
     "metadata": {},
     "outputs": [],
     "prompt_number": 95
    },
    {
     "cell_type": "heading",
     "level": 3,
     "metadata": {},
     "source": [
      "Involutions "
     ]
    },
    {
     "cell_type": "code",
     "collapsed": false,
     "input": [
      "assert(down(E0&up(a)&E0) == -a)"
     ],
     "language": "python",
     "metadata": {},
     "outputs": [],
     "prompt_number": 96
    },
    {
     "cell_type": "heading",
     "level": 3,
     "metadata": {},
     "source": [
      "Dialations"
     ]
    },
    {
     "cell_type": "heading",
     "level": 2,
     "metadata": {},
     "source": [
      "Versers partly in $E_0$"
     ]
    },
    {
     "cell_type": "heading",
     "level": 3,
     "metadata": {},
     "source": [
      "Translations"
     ]
    },
    {
     "cell_type": "code",
     "collapsed": false,
     "input": [
      "T = lambda x: e**(1/2.&(einf&x)) # translation Rotor \n",
      "\n",
      "assert(down( T(a)&up(b)&~T(a)) == b+a)\n",
      "\n"
     ],
     "language": "python",
     "metadata": {},
     "outputs": [],
     "prompt_number": 97
    },
    {
     "cell_type": "heading",
     "level": 3,
     "metadata": {},
     "source": [
      "Transversions"
     ]
    },
    {
     "cell_type": "markdown",
     "metadata": {},
     "source": [
      "A transversion is an inversion,  followed by a translation, followed by a inversion. "
     ]
    },
    {
     "cell_type": "code",
     "collapsed": false,
     "input": [
      "\n",
      "down(e2&T(b)&e2&up(a)&e2&~T(b)&e2) == 1/(b+1/a)\n",
      "\n"
     ],
     "language": "python",
     "metadata": {},
     "outputs": []
    },
    {
     "cell_type": "code",
     "collapsed": false,
     "input": [
      "Q = lambda theta: e**(-.5&(eo^a))\n",
      "a = e1\n",
      "b = e0\n",
      "down( Q(a)&up(b)&~Q(a))"
     ],
     "language": "python",
     "metadata": {},
     "outputs": []
    },
    {
     "cell_type": "heading",
     "level": 2,
     "metadata": {},
     "source": [
      "Versers Out of  $E_0$"
     ]
    },
    {
     "cell_type": "heading",
     "level": 3,
     "metadata": {},
     "source": [
      "Rotations"
     ]
    },
    {
     "cell_type": "markdown",
     "metadata": {},
     "source": [
      "Rotations are identical to the form in $G^n$"
     ]
    },
    {
     "cell_type": "code",
     "collapsed": false,
     "input": [
      "R = lambda theta: e**((-.5*theta)&(e0^e1))\n",
      "theta = pi/2\n",
      "assert(down( R(theta)&up(a)&~R(theta)) == R(theta)&a&~R(theta))\n"
     ],
     "language": "python",
     "metadata": {},
     "outputs": []
    },
    {
     "cell_type": "code",
     "collapsed": false,
     "input": [],
     "language": "python",
     "metadata": {},
     "outputs": []
    }
   ],
   "metadata": {}
  }
 ]
}