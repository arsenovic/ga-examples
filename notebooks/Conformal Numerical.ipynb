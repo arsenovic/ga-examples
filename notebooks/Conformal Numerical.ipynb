{
 "metadata": {
  "name": "",
  "signature": "sha256:4d6532cc8e7ee3ab8cd3fc68601cd0c4eef1fe4e7a755808a441bc71835e3f15"
 },
 "nbformat": 3,
 "nbformat_minor": 0,
 "worksheets": [
  {
   "cells": [
    {
     "cell_type": "code",
     "collapsed": false,
     "input": [
      "\n",
      "from clifford import * #from https://bitbucket.org/robertkern/clifford\n",
      "\n",
      "pretty()\n",
      "layout, blades = Cl(3,1)\n",
      "rb = lambda g:randomMV(layout, grades=[g])\n"
     ],
     "language": "python",
     "metadata": {},
     "outputs": [],
     "prompt_number": 27
    },
    {
     "cell_type": "heading",
     "level": 1,
     "metadata": {},
     "source": [
      "Conformal Space"
     ]
    },
    {
     "cell_type": "markdown",
     "metadata": {},
     "source": [
      "Vectors in the orignal space are mapped to vectors in conformal space through the map:\n",
      "\n",
      "$X = x + \\frac{1}{2} x^2 e_{\\infty} +e_o $\n",
      "\n",
      "\n",
      "The inverse map is the made by normalizing the conformal vector, then rejection from the minkowski plane $E_0$,\n",
      "\n",
      "\n",
      "$ X = \\frac{X}{X \\cdot e_{\\infty}}$\n",
      "\n",
      "then \n",
      "\n",
      "$x = X \\wedge E_0\\, E_0^{-1}$"
     ]
    },
    {
     "cell_type": "code",
     "collapsed": true,
     "input": [
      "e0,e1,e2,e3 = [blades['e%i'%k] for k in range(4)]\n",
      "\n",
      "# setup  null basis, and minkowski subspace bivector\n",
      "eo = .5^(e3-e2)\n",
      "einf= e2+e3\n",
      "E0= einf^eo\n",
      "\n",
      "\n",
      "v4 =  lambda : rb(1)\n",
      "def v2():\n",
      "    x=v4()\n",
      "    return x- E0.project(x)\n",
      "up = lambda x: x + (.5^((x**2)&einf)) + eo\n",
      "homo = lambda x: x & (-x*einf).normalInv()\n",
      "down = lambda x: (homo(x)^E0)&E0\n",
      "\n",
      "c2v = lambda x: (x.real&e0) + (x.imag&e1) # complex2vector\n",
      "v2c = lambda x: float(x*e0)+ float(x*e1)*1j\n",
      "\n",
      "\n"
     ],
     "language": "python",
     "metadata": {},
     "outputs": [],
     "prompt_number": 28
    },
    {
     "cell_type": "code",
     "collapsed": false,
     "input": [
      "eo^einf == -E0"
     ],
     "language": "python",
     "metadata": {},
     "outputs": [
      {
       "metadata": {},
       "output_type": "pyout",
       "prompt_number": 29,
       "text": [
        "True"
       ]
      }
     ],
     "prompt_number": 29
    },
    {
     "cell_type": "code",
     "collapsed": false,
     "input": [
      "einf&eo"
     ],
     "language": "python",
     "metadata": {},
     "outputs": [
      {
       "metadata": {},
       "output_type": "pyout",
       "prompt_number": 30,
       "text": [
        "-1.0 + (1.0^e23)"
       ]
      }
     ],
     "prompt_number": 30
    },
    {
     "cell_type": "code",
     "collapsed": false,
     "input": [
      "einf-(2^eo)"
     ],
     "language": "python",
     "metadata": {},
     "outputs": [
      {
       "metadata": {},
       "output_type": "pyout",
       "prompt_number": 31,
       "text": [
        "(2.0^e2)"
       ]
      }
     ],
     "prompt_number": 31
    },
    {
     "cell_type": "code",
     "collapsed": false,
     "input": [
      "x = v2()\n",
      "x"
     ],
     "language": "python",
     "metadata": {},
     "outputs": [
      {
       "metadata": {},
       "output_type": "pyout",
       "prompt_number": 32,
       "text": [
        "-(1.78788396954^e0) + (1.62796187463^e1)"
       ]
      }
     ],
     "prompt_number": 32
    },
    {
     "cell_type": "code",
     "collapsed": false,
     "input": [
      "X=up(x)\n",
      "X"
     ],
     "language": "python",
     "metadata": {},
     "outputs": [
      {
       "metadata": {},
       "output_type": "pyout",
       "prompt_number": 33,
       "text": [
        "-(1.78788396954^e0) + (1.62796187463^e1) + (2.42339447689^e2) + (3.42339447689^e3)"
       ]
      }
     ],
     "prompt_number": 33
    },
    {
     "cell_type": "code",
     "collapsed": false,
     "input": [
      "x = v2()\n",
      "X = up(x)\n",
      "assert(X**2 ==0)\n",
      "assert(down(X) ==x)"
     ],
     "language": "python",
     "metadata": {},
     "outputs": [],
     "prompt_number": 34
    },
    {
     "cell_type": "heading",
     "level": 1,
     "metadata": {},
     "source": [
      "Operations"
     ]
    },
    {
     "cell_type": "markdown",
     "metadata": {},
     "source": [
      "Conformal transformations in $G^n$ are achieved through versers in the conformal space $G^{n+1,1}$. These versers can be categorized by their relation to the minkowski plane, $E_0$. There are three categories,\n",
      "\n",
      "* verser purley in $E_0$\n",
      "* verser partly in $E_0$\n",
      "* verser out of $E_0$\n"
     ]
    },
    {
     "cell_type": "code",
     "collapsed": false,
     "input": [
      "from IPython.display import Image,SVG\n",
      "Image('pics/conformal space.png')"
     ],
     "language": "python",
     "metadata": {},
     "outputs": [
      {
       "metadata": {},
       "output_type": "pyout",
       "png": "[encoded data removed]",
       "prompt_number": 35,
       "text": [
        "<IPython.core.display.Image at 0xbeb6cd0>"
       ]
      }
     ],
     "prompt_number": 35
    },
    {
     "cell_type": "heading",
     "level": 2,
     "metadata": {},
     "source": [
      "Versers purely in $E_0$"
     ]
    },
    {
     "cell_type": "code",
     "collapsed": false,
     "input": [
      "eps(1e-13)\n",
      "a = v2()\n",
      "b = v2()"
     ],
     "language": "python",
     "metadata": {},
     "outputs": [],
     "prompt_number": 36
    },
    {
     "cell_type": "heading",
     "level": 3,
     "metadata": {},
     "source": [
      "Inversions"
     ]
    },
    {
     "cell_type": "markdown",
     "metadata": {},
     "source": [
      "$ e_+ X e_+$\n",
      "\n",
      "Inversion is a reflection in hyperplane normal to $e_-$, this swaps $e_o$  and $e_{\\infty}$"
     ]
    },
    {
     "cell_type": "code",
     "collapsed": false,
     "input": [
      "assert(down(e2&up(a)&e2)  == a.inv())\n"
     ],
     "language": "python",
     "metadata": {},
     "outputs": [],
     "prompt_number": 37
    },
    {
     "cell_type": "heading",
     "level": 3,
     "metadata": {},
     "source": [
      "Involutions "
     ]
    },
    {
     "cell_type": "markdown",
     "metadata": {},
     "source": [
      "$E_0 X E_0$"
     ]
    },
    {
     "cell_type": "code",
     "collapsed": false,
     "input": [
      "assert(down(E0&up(a)&E0) == -a)"
     ],
     "language": "python",
     "metadata": {},
     "outputs": [],
     "prompt_number": 38
    },
    {
     "cell_type": "heading",
     "level": 3,
     "metadata": {},
     "source": [
      "Dialations"
     ]
    },
    {
     "cell_type": "markdown",
     "metadata": {},
     "source": [
      "$D_\\alpha  =  e^{-\\frac{\\ln{\\alpha}}{2} \\,E_0} $\n",
      "\n",
      "$D_\\alpha \\, X \\, \\tilde{D_\\alpha} $"
     ]
    },
    {
     "cell_type": "code",
     "collapsed": false,
     "input": [
      "D = lambda alpha: e**((-log(alpha)/2.)&(E0)) \n",
      "alpha = rand()\n",
      "assert(down( D(alpha)&up(a)&~D(alpha)) == (alpha&a))\n"
     ],
     "language": "python",
     "metadata": {},
     "outputs": [],
     "prompt_number": 39
    },
    {
     "cell_type": "heading",
     "level": 2,
     "metadata": {},
     "source": [
      "Versers partly in $E_0$"
     ]
    },
    {
     "cell_type": "heading",
     "level": 3,
     "metadata": {},
     "source": [
      "Translations"
     ]
    },
    {
     "cell_type": "code",
     "collapsed": false,
     "input": [
      "T = lambda x: e**(1/2.&(einf&x)) \n",
      "assert(down( T(a)&up(b)&~T(a)) == b+a)"
     ],
     "language": "python",
     "metadata": {},
     "outputs": [],
     "prompt_number": 40
    },
    {
     "cell_type": "heading",
     "level": 3,
     "metadata": {},
     "source": [
      "Transversions"
     ]
    },
    {
     "cell_type": "markdown",
     "metadata": {},
     "source": [
      "A transversion is an inversion,  followed by a translation, followed by a inversion. "
     ]
    },
    {
     "cell_type": "code",
     "collapsed": false,
     "input": [
      "down(e2&T(b)&e2&up(a)&e2&~T(b)&e2) == 1/(b+1/a)"
     ],
     "language": "python",
     "metadata": {},
     "outputs": [
      {
       "metadata": {},
       "output_type": "pyout",
       "prompt_number": 41,
       "text": [
        "True"
       ]
      }
     ],
     "prompt_number": 41
    },
    {
     "cell_type": "heading",
     "level": 2,
     "metadata": {},
     "source": [
      "Versers Out of  $E_0$"
     ]
    },
    {
     "cell_type": "markdown",
     "metadata": {},
     "source": [
      "Versers that are out of $E_0$ are made up of the versers within the original space. These include reflections and rotations, and their conformal representation is identical to their form in $G^n$"
     ]
    },
    {
     "cell_type": "heading",
     "level": 3,
     "metadata": {},
     "source": [
      "Reflections"
     ]
    },
    {
     "cell_type": "code",
     "collapsed": false,
     "input": [
      "m = v2()\n",
      "m = m/abs(m)\n",
      "assert(down(m&up(a)&m) == -m&a&m)\n"
     ],
     "language": "python",
     "metadata": {},
     "outputs": [],
     "prompt_number": 42
    },
    {
     "cell_type": "heading",
     "level": 3,
     "metadata": {},
     "source": [
      "Rotations"
     ]
    },
    {
     "cell_type": "code",
     "collapsed": false,
     "input": [
      "R = lambda theta: e**((-.5*theta)&(e0^e1))\n",
      "theta = pi/2\n",
      "assert(down( R(theta)&up(a)&~R(theta)) == R(theta)&a&~R(theta))\n"
     ],
     "language": "python",
     "metadata": {},
     "outputs": [],
     "prompt_number": 43
    },
    {
     "cell_type": "code",
     "collapsed": false,
     "input": [
      "a,b = v2(),v2()\n",
      "\n",
      "down(up(a)&up(b))"
     ],
     "language": "python",
     "metadata": {},
     "outputs": [
      {
       "metadata": {},
       "output_type": "pyout",
       "prompt_number": 44,
       "text": [
        "(0.0951488812149^e0) - (0.18092211443^e1)"
       ]
      }
     ],
     "prompt_number": 44
    },
    {
     "cell_type": "heading",
     "level": 1,
     "metadata": {},
     "source": [
      "Combinations of Operations"
     ]
    },
    {
     "cell_type": "heading",
     "level": 3,
     "metadata": {},
     "source": [
      "simple example"
     ]
    },
    {
     "cell_type": "markdown",
     "metadata": {},
     "source": [
      "As a simple example consider the combination  operations of translation,scaling, and inversion. "
     ]
    },
    {
     "cell_type": "markdown",
     "metadata": {},
     "source": [
      "$b=-2a+e_0$"
     ]
    },
    {
     "cell_type": "code",
     "collapsed": false,
     "input": [
      "A = up(a)\n",
      "Q = T(e0)&E0&D(2)\n",
      "B = Q&A&~Q\n",
      "assert(down(B) == (-2&a)+e0 )"
     ],
     "language": "python",
     "metadata": {},
     "outputs": [],
     "prompt_number": 45
    },
    {
     "cell_type": "heading",
     "level": 3,
     "metadata": {},
     "source": [
      "Transversion"
     ]
    },
    {
     "cell_type": "markdown",
     "metadata": {},
     "source": [
      "A transversion may be built from a inversion, translation, and inversion. \n",
      "\n",
      "$a^{'} = (a^{-1}+b)^{-1}$"
     ]
    },
    {
     "cell_type": "code",
     "collapsed": false,
     "input": [
      "A = up(a)\n",
      "Q = e2&T(b)&e2\n",
      "B = Q&A&~Q\n",
      "assert(down(B) ==1/(1/a +b))\n"
     ],
     "language": "python",
     "metadata": {},
     "outputs": [],
     "prompt_number": 46
    },
    {
     "cell_type": "code",
     "collapsed": false,
     "input": [
      "c=((1/a)+b)\n",
      "c.rightInv??"
     ],
     "language": "python",
     "metadata": {},
     "outputs": [],
     "prompt_number": 47
    },
    {
     "cell_type": "heading",
     "level": 3,
     "metadata": {},
     "source": [
      "Circuit Representation Transforma: Impedance and Scattering "
     ]
    },
    {
     "cell_type": "markdown",
     "metadata": {},
     "source": [
      "$s = \\frac{z-1}{z+1} = -1( 2(z+1)^{-1})+1$\n",
      "\n",
      "\n",
      "Note that if z is interpreted as a spinor (complex number), then the spinor inversion translates to  inversion + reflection about real axis."
     ]
    },
    {
     "cell_type": "code",
     "collapsed": false,
     "input": [
      "\n",
      "z = v2()\n",
      "\n",
      "Z = up(z)\n",
      "Q = T(e0) & E0 & D(2)& e0 & e2 & T(e0)\n",
      "S = Q&Z&~Q\n",
      "s = down(S)\n",
      "\n",
      "#assert(s == (z+e0).inv()&(z-e0))\n",
      "s,e0&((z+e0).inv()&(z-e0))"
     ],
     "language": "python",
     "metadata": {},
     "outputs": [
      {
       "metadata": {},
       "output_type": "pyout",
       "prompt_number": 83,
       "text": [
        "((0.606209176767^e0) - (1.08410842291^e1),\n",
        " (1.39379082323^e0) + (1.08410842291^e1))"
       ]
      }
     ],
     "prompt_number": 83
    },
    {
     "cell_type": "code",
     "collapsed": false,
     "input": [
      "z_ = v2c(z)\n",
      "\n",
      "(z_-1)/(z_+1)"
     ],
     "language": "python",
     "metadata": {},
     "outputs": [
      {
       "metadata": {},
       "output_type": "pyout",
       "prompt_number": 90,
       "text": [
        "(1.3937908232325744+1.0841084229057876j)"
       ]
      }
     ],
     "prompt_number": 90
    },
    {
     "cell_type": "heading",
     "level": 3,
     "metadata": {},
     "source": [
      "Rotation about a point "
     ]
    },
    {
     "cell_type": "markdown",
     "metadata": {},
     "source": [
      "Rotation about a point, $a$  can be achieved by translating the origina to $a$ then rotating, then translating back.  This composition of operations can also be thought of as  translating the Rotor itself. "
     ]
    },
    {
     "cell_type": "code",
     "collapsed": false,
     "input": [
      "r = R(pi/2.)\n",
      "\n",
      "Q =T(a)&r&~T(a)\n",
      "\n",
      "B= up(b)\n",
      "C=Q&B&~Q\n",
      "c=down(C)\n",
      "\n",
      "c"
     ],
     "language": "python",
     "metadata": {},
     "outputs": [
      {
       "metadata": {},
       "output_type": "pyout",
       "prompt_number": 49,
       "text": [
        "-(1.0002496811^e0) + (0.88720206268^e1)"
       ]
      }
     ],
     "prompt_number": 49
    },
    {
     "cell_type": "heading",
     "level": 3,
     "metadata": {},
     "source": [
      "Embedding  a network  "
     ]
    },
    {
     "cell_type": "markdown",
     "metadata": {},
     "source": [
      "$m = e_{00}+ e_{01}(a^{-1}-e_{11})^{-1}$"
     ]
    },
    {
     "cell_type": "code",
     "collapsed": false,
     "input": [
      "e11, e00, e01 = v2(),v2(),v2()\n",
      "\n",
      "from math import atan\n",
      "theta= atan((e01*e1)/(e01*e0))\n",
      "\n",
      "Q = T(e00) & D(abs(e01)) & R(theta) & e2& T(e11) & e2\n",
      "Q =  D(abs(e01)) & R(theta)\n",
      "\n",
      "A= up(a)\n",
      "M = Q&A&~Q\n",
      "m= down(m)"
     ],
     "language": "python",
     "metadata": {},
     "outputs": [
      {
       "ename": "ValueError",
       "evalue": "no inverse exists for this multivector",
       "output_type": "pyerr",
       "traceback": [
        "\u001b[1;31m---------------------------------------------------------------------------\u001b[0m\n\u001b[1;31mValueError\u001b[0m                                Traceback (most recent call last)",
        "\u001b[1;32m<ipython-input-51-13cefb1b782f>\u001b[0m in \u001b[0;36m<module>\u001b[1;34m()\u001b[0m\n\u001b[0;32m      9\u001b[0m \u001b[0mA\u001b[0m\u001b[1;33m=\u001b[0m \u001b[0mup\u001b[0m\u001b[1;33m(\u001b[0m\u001b[0ma\u001b[0m\u001b[1;33m)\u001b[0m\u001b[1;33m\u001b[0m\u001b[0m\n\u001b[0;32m     10\u001b[0m \u001b[0mM\u001b[0m \u001b[1;33m=\u001b[0m \u001b[0mQ\u001b[0m\u001b[1;33m&\u001b[0m\u001b[0mA\u001b[0m\u001b[1;33m&\u001b[0m\u001b[1;33m~\u001b[0m\u001b[0mQ\u001b[0m\u001b[1;33m\u001b[0m\u001b[0m\n\u001b[1;32m---> 11\u001b[1;33m \u001b[0mm\u001b[0m\u001b[1;33m=\u001b[0m \u001b[0mdown\u001b[0m\u001b[1;33m(\u001b[0m\u001b[0mm\u001b[0m\u001b[1;33m)\u001b[0m\u001b[1;33m\u001b[0m\u001b[0m\n\u001b[0m",
        "\u001b[1;32m<ipython-input-28-e29bb98b604d>\u001b[0m in \u001b[0;36m<lambda>\u001b[1;34m(x)\u001b[0m\n\u001b[0;32m     13\u001b[0m \u001b[0mup\u001b[0m \u001b[1;33m=\u001b[0m \u001b[1;32mlambda\u001b[0m \u001b[0mx\u001b[0m\u001b[1;33m:\u001b[0m \u001b[0mx\u001b[0m \u001b[1;33m+\u001b[0m \u001b[1;33m(\u001b[0m\u001b[1;36m.5\u001b[0m\u001b[1;33m^\u001b[0m\u001b[1;33m(\u001b[0m\u001b[1;33m(\u001b[0m\u001b[0mx\u001b[0m\u001b[1;33m**\u001b[0m\u001b[1;36m2\u001b[0m\u001b[1;33m)\u001b[0m\u001b[1;33m&\u001b[0m\u001b[0meinf\u001b[0m\u001b[1;33m)\u001b[0m\u001b[1;33m)\u001b[0m \u001b[1;33m+\u001b[0m \u001b[0meo\u001b[0m\u001b[1;33m\u001b[0m\u001b[0m\n\u001b[0;32m     14\u001b[0m \u001b[0mhomo\u001b[0m \u001b[1;33m=\u001b[0m \u001b[1;32mlambda\u001b[0m \u001b[0mx\u001b[0m\u001b[1;33m:\u001b[0m \u001b[0mx\u001b[0m \u001b[1;33m&\u001b[0m \u001b[1;33m(\u001b[0m\u001b[1;33m-\u001b[0m\u001b[0mx\u001b[0m\u001b[1;33m*\u001b[0m\u001b[0meinf\u001b[0m\u001b[1;33m)\u001b[0m\u001b[1;33m.\u001b[0m\u001b[0mnormalInv\u001b[0m\u001b[1;33m(\u001b[0m\u001b[1;33m)\u001b[0m\u001b[1;33m\u001b[0m\u001b[0m\n\u001b[1;32m---> 15\u001b[1;33m \u001b[0mdown\u001b[0m \u001b[1;33m=\u001b[0m \u001b[1;32mlambda\u001b[0m \u001b[0mx\u001b[0m\u001b[1;33m:\u001b[0m \u001b[1;33m(\u001b[0m\u001b[0mhomo\u001b[0m\u001b[1;33m(\u001b[0m\u001b[0mx\u001b[0m\u001b[1;33m)\u001b[0m\u001b[1;33m^\u001b[0m\u001b[0mE0\u001b[0m\u001b[1;33m)\u001b[0m\u001b[1;33m&\u001b[0m\u001b[0mE0\u001b[0m\u001b[1;33m\u001b[0m\u001b[0m\n\u001b[0m\u001b[0;32m     16\u001b[0m \u001b[1;33m\u001b[0m\u001b[0m\n\u001b[0;32m     17\u001b[0m \u001b[0mc2v\u001b[0m \u001b[1;33m=\u001b[0m \u001b[1;32mlambda\u001b[0m \u001b[0mx\u001b[0m\u001b[1;33m:\u001b[0m \u001b[1;33m(\u001b[0m\u001b[0mx\u001b[0m\u001b[1;33m.\u001b[0m\u001b[0mreal\u001b[0m\u001b[1;33m&\u001b[0m\u001b[0me0\u001b[0m\u001b[1;33m)\u001b[0m \u001b[1;33m+\u001b[0m \u001b[1;33m(\u001b[0m\u001b[0mx\u001b[0m\u001b[1;33m.\u001b[0m\u001b[0mimag\u001b[0m\u001b[1;33m&\u001b[0m\u001b[0me1\u001b[0m\u001b[1;33m)\u001b[0m \u001b[1;31m# complex2vector\u001b[0m\u001b[1;33m\u001b[0m\u001b[0m\n",
        "\u001b[1;32m<ipython-input-28-e29bb98b604d>\u001b[0m in \u001b[0;36m<lambda>\u001b[1;34m(x)\u001b[0m\n\u001b[0;32m     12\u001b[0m     \u001b[1;32mreturn\u001b[0m \u001b[0mx\u001b[0m\u001b[1;33m-\u001b[0m \u001b[0mE0\u001b[0m\u001b[1;33m.\u001b[0m\u001b[0mproject\u001b[0m\u001b[1;33m(\u001b[0m\u001b[0mx\u001b[0m\u001b[1;33m)\u001b[0m\u001b[1;33m\u001b[0m\u001b[0m\n\u001b[0;32m     13\u001b[0m \u001b[0mup\u001b[0m \u001b[1;33m=\u001b[0m \u001b[1;32mlambda\u001b[0m \u001b[0mx\u001b[0m\u001b[1;33m:\u001b[0m \u001b[0mx\u001b[0m \u001b[1;33m+\u001b[0m \u001b[1;33m(\u001b[0m\u001b[1;36m.5\u001b[0m\u001b[1;33m^\u001b[0m\u001b[1;33m(\u001b[0m\u001b[1;33m(\u001b[0m\u001b[0mx\u001b[0m\u001b[1;33m**\u001b[0m\u001b[1;36m2\u001b[0m\u001b[1;33m)\u001b[0m\u001b[1;33m&\u001b[0m\u001b[0meinf\u001b[0m\u001b[1;33m)\u001b[0m\u001b[1;33m)\u001b[0m \u001b[1;33m+\u001b[0m \u001b[0meo\u001b[0m\u001b[1;33m\u001b[0m\u001b[0m\n\u001b[1;32m---> 14\u001b[1;33m \u001b[0mhomo\u001b[0m \u001b[1;33m=\u001b[0m \u001b[1;32mlambda\u001b[0m \u001b[0mx\u001b[0m\u001b[1;33m:\u001b[0m \u001b[0mx\u001b[0m \u001b[1;33m&\u001b[0m \u001b[1;33m(\u001b[0m\u001b[1;33m-\u001b[0m\u001b[0mx\u001b[0m\u001b[1;33m*\u001b[0m\u001b[0meinf\u001b[0m\u001b[1;33m)\u001b[0m\u001b[1;33m.\u001b[0m\u001b[0mnormalInv\u001b[0m\u001b[1;33m(\u001b[0m\u001b[1;33m)\u001b[0m\u001b[1;33m\u001b[0m\u001b[0m\n\u001b[0m\u001b[0;32m     15\u001b[0m \u001b[0mdown\u001b[0m \u001b[1;33m=\u001b[0m \u001b[1;32mlambda\u001b[0m \u001b[0mx\u001b[0m\u001b[1;33m:\u001b[0m \u001b[1;33m(\u001b[0m\u001b[0mhomo\u001b[0m\u001b[1;33m(\u001b[0m\u001b[0mx\u001b[0m\u001b[1;33m)\u001b[0m\u001b[1;33m^\u001b[0m\u001b[0mE0\u001b[0m\u001b[1;33m)\u001b[0m\u001b[1;33m&\u001b[0m\u001b[0mE0\u001b[0m\u001b[1;33m\u001b[0m\u001b[0m\n\u001b[0;32m     16\u001b[0m \u001b[1;33m\u001b[0m\u001b[0m\n",
        "\u001b[1;32m/home/alex/data/docs/code/path/clifford.pyc\u001b[0m in \u001b[0;36mnormalInv\u001b[1;34m(self)\u001b[0m\n\u001b[0;32m   1296\u001b[0m             \u001b[1;32mreturn\u001b[0m \u001b[0mMadjoint\u001b[0m \u001b[1;33m/\u001b[0m \u001b[0mMadjointM\u001b[0m\u001b[1;33m[\u001b[0m\u001b[1;33m(\u001b[0m\u001b[1;33m)\u001b[0m\u001b[1;33m]\u001b[0m\u001b[1;33m\u001b[0m\u001b[0m\n\u001b[0;32m   1297\u001b[0m         \u001b[1;32melse\u001b[0m\u001b[1;33m:\u001b[0m\u001b[1;33m\u001b[0m\u001b[0m\n\u001b[1;32m-> 1298\u001b[1;33m             \u001b[1;32mraise\u001b[0m \u001b[0mValueError\u001b[0m\u001b[1;33m,\u001b[0m \u001b[1;34m\"no inverse exists for this multivector\"\u001b[0m\u001b[1;33m\u001b[0m\u001b[0m\n\u001b[0m\u001b[0;32m   1299\u001b[0m \u001b[1;33m\u001b[0m\u001b[0m\n\u001b[0;32m   1300\u001b[0m     \u001b[0mleftInv\u001b[0m \u001b[1;33m=\u001b[0m \u001b[0mleftLaInv\u001b[0m\u001b[1;33m\u001b[0m\u001b[0m\n",
        "\u001b[1;31mValueError\u001b[0m: no inverse exists for this multivector"
       ]
      }
     ],
     "prompt_number": 51
    },
    {
     "cell_type": "code",
     "collapsed": false,
     "input": [
      "a,b"
     ],
     "language": "python",
     "metadata": {},
     "outputs": [
      {
       "metadata": {},
       "output_type": "pyout",
       "prompt_number": 61,
       "text": [
        "(-(0.0951488812149^e0) + (0.18092211443^e1),\n",
        " (0.611131067035^e0) + (1.08602291431^e1))"
       ]
      }
     ],
     "prompt_number": 61
    },
    {
     "cell_type": "code",
     "collapsed": false,
     "input": [
      "A,B = up(a),up(b)"
     ],
     "language": "python",
     "metadata": {},
     "outputs": [],
     "prompt_number": 62
    },
    {
     "cell_type": "code",
     "collapsed": false,
     "input": [
      "A&B"
     ],
     "language": "python",
     "metadata": {},
     "outputs": [
      {
       "metadata": {},
       "output_type": "pyout",
       "prompt_number": 64,
       "text": [
        "-0.659019411623 - (0.213900990112^e01) + (0.26649194472^e02) - (0.43978800353^e03) + (0.570339471251^e12) - (0.33476132863^e13) - (0.755570415209^e23)"
       ]
      }
     ],
     "prompt_number": 64
    },
    {
     "cell_type": "code",
     "collapsed": false,
     "input": [
      "a&b"
     ],
     "language": "python",
     "metadata": {},
     "outputs": [
      {
       "metadata": {},
       "output_type": "pyout",
       "prompt_number": 66,
       "text": [
        "0.138337124673 - (0.213900990112^e01)"
       ]
      }
     ],
     "prompt_number": 66
    },
    {
     "cell_type": "code",
     "collapsed": false,
     "input": [
      "down(A&B)"
     ],
     "language": "python",
     "metadata": {},
     "outputs": [
      {
       "metadata": {},
       "output_type": "pyout",
       "prompt_number": 67,
       "text": [
        "(0.0951488812149^e0) - (0.18092211443^e1)"
       ]
      }
     ],
     "prompt_number": 67
    },
    {
     "cell_type": "code",
     "collapsed": false,
     "input": [
      "(a+b).inv(), a.inv()+b.inv()"
     ],
     "language": "python",
     "metadata": {},
     "outputs": [
      {
       "metadata": {},
       "output_type": "pyout",
       "prompt_number": 69,
       "text": [
        "((0.275721749192^e0) + (0.677008449235^e1),\n",
        " -(1.8835101011^e0) + (5.02905719513^e1))"
       ]
      }
     ],
     "prompt_number": 69
    },
    {
     "cell_type": "code",
     "collapsed": false,
     "input": [
      "e0&(1/(a+b))&e0"
     ],
     "language": "python",
     "metadata": {},
     "outputs": [
      {
       "metadata": {},
       "output_type": "pyout",
       "prompt_number": 71,
       "text": [
        "(0.275721749192^e0) - (0.677008449235^e1)"
       ]
      }
     ],
     "prompt_number": 71
    },
    {
     "cell_type": "code",
     "collapsed": false,
     "input": [
      "1/(a+b)"
     ],
     "language": "python",
     "metadata": {},
     "outputs": [
      {
       "metadata": {},
       "output_type": "pyout",
       "prompt_number": 75,
       "text": [
        "(0.275721749192^e0) + (0.677008449235^e1)"
       ]
      }
     ],
     "prompt_number": 75
    },
    {
     "cell_type": "code",
     "collapsed": false,
     "input": [
      "a"
     ],
     "language": "python",
     "metadata": {},
     "outputs": [
      {
       "metadata": {},
       "output_type": "pyout",
       "prompt_number": 74,
       "text": [
        "-(0.0951488812149^e0) + (0.18092211443^e1)"
       ]
      }
     ],
     "prompt_number": 74
    },
    {
     "cell_type": "code",
     "collapsed": false,
     "input": [
      "e0&a&e0&b, e0&b&e0&a"
     ],
     "language": "python",
     "metadata": {},
     "outputs": [
      {
       "metadata": {},
       "output_type": "pyout",
       "prompt_number": 85,
       "text": [
        "(-0.254633999281 + (0.00723325957148^e01),\n",
        " -0.254633999281 + (0.00723325957148^e01))"
       ]
      }
     ],
     "prompt_number": 85
    },
    {
     "cell_type": "code",
     "collapsed": false,
     "input": [
      "a&e0&b"
     ],
     "language": "python",
     "metadata": {},
     "outputs": [
      {
       "metadata": {},
       "output_type": "pyout",
       "prompt_number": 87,
       "text": [
        "-(0.254633999281^e0) + (0.00723325957148^e1)"
       ]
      }
     ],
     "prompt_number": 87
    },
    {
     "cell_type": "code",
     "collapsed": false,
     "input": [],
     "language": "python",
     "metadata": {},
     "outputs": []
    }
   ],
   "metadata": {}
  }
 ]
}