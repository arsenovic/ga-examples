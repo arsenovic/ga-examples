{
 "metadata": {
  "name": "",
  "signature": "sha256:101aebb84174f87c01328570be2a19f6a898ea2fc4a563fdf16e25434174be40"
 },
 "nbformat": 3,
 "nbformat_minor": 0,
 "worksheets": [
  {
   "cells": [
    {
     "cell_type": "code",
     "collapsed": false,
     "input": [
      "from sympy import * \n",
      "from galgebra.ga import Ga\n",
      "\n",
      "# create G3 from the  orthonoormal basis: e1, e2,n. \n",
      "(ga,e1,e2,e3) = Ga.build('e1 e2 e3',g=[1,1,1])\n",
      "j = ga.I()"
     ],
     "language": "python",
     "metadata": {},
     "outputs": [],
     "prompt_number": 30
    },
    {
     "cell_type": "code",
     "collapsed": false,
     "input": [
      "vector = lambda s:  ga.mv(s, 'vector')\n",
      "\n",
      "v,w = vector('v'), vector('w')\n"
     ],
     "language": "python",
     "metadata": {},
     "outputs": [],
     "prompt_number": 31
    },
    {
     "cell_type": "code",
     "collapsed": false,
     "input": [
      "v*w"
     ],
     "language": "python",
     "metadata": {},
     "outputs": [
      {
       "latex": [
        "\\begin{equation*} \\left ( v^{1} w^{1} + v^{2} w^{2} + v^{3} w^{3}\\right )  + \\left ( v^{1} w^{2} - v^{2} w^{1}\\right ) e_{1}\\wedge e_{2} + \\left ( v^{1} w^{3} - v^{3} w^{1}\\right ) e_{1}\\wedge e_{3} + \\left ( v^{2} w^{3} - v^{3} w^{2}\\right ) e_{2}\\wedge e_{3} \\end{equation*}"
       ],
       "metadata": {},
       "output_type": "pyout",
       "prompt_number": 32,
       "text": [
        "v__1*w__1 + v__2*w__2 + v__3*w__3 + (v__1*w__2 - v__2*w__1)*e1^e2 + (v__1*w__3 - v__3*w__1)*e1^e3 + (v__2*w__3 - v__3*w__2)*e2^e3"
       ]
      }
     ],
     "prompt_number": 32
    },
    {
     "cell_type": "code",
     "collapsed": false,
     "input": [],
     "language": "python",
     "metadata": {},
     "outputs": []
    }
   ],
   "metadata": {}
  }
 ]
}