{
 "metadata": {
  "name": "",
  "signature": "sha256:22d0c0863c65543d5b46eb6f5891d84a53747dca3dbfba3f8dda20caa84a9eec"
 },
 "nbformat": 3,
 "nbformat_minor": 0,
 "worksheets": [
  {
   "cells": [
    {
     "cell_type": "code",
     "collapsed": false,
     "input": [
      "from sympy import * \n",
      "from galgebra.ga import Ga\n",
      "\n",
      "# create G3 from the  orthonoormal basis: e1, e2,n. \n",
      "(ga,a,b,c) = Ga.build('a b c')\n",
      "i = ga.I()"
     ],
     "language": "python",
     "metadata": {},
     "outputs": [],
     "prompt_number": 17
    },
    {
     "cell_type": "code",
     "collapsed": false,
     "input": [
      "cross= lambda a,b: -i*(a^b)"
     ],
     "language": "python",
     "metadata": {},
     "outputs": [],
     "prompt_number": 18
    },
    {
     "cell_type": "code",
     "collapsed": false,
     "input": [
      "i*(a|(i*b)) "
     ],
     "language": "python",
     "metadata": {},
     "outputs": [
      {
       "latex": [
        "\\begin{equation*} \\frac{- \\left ( a\\cdot a\\right )  \\left ( b\\cdot b\\right )  \\left ( c\\cdot c\\right )  + \\left ( a\\cdot a\\right )  \\left ( b\\cdot c\\right ) ^{2} + \\left ( a\\cdot b\\right ) ^{2} \\left ( c\\cdot c\\right )  - 2 \\left ( a\\cdot b\\right )  \\left ( a\\cdot c\\right )  \\left ( b\\cdot c\\right )  + \\left ( a\\cdot c\\right ) ^{2} \\left ( b\\cdot b\\right ) }{\\left\\lvert{- \\left ( a\\cdot a\\right )  \\left ( b\\cdot b\\right )  \\left ( c\\cdot c\\right )  + \\left ( a\\cdot a\\right )  \\left ( b\\cdot c\\right ) ^{2} + \\left ( a\\cdot b\\right ) ^{2} \\left ( c\\cdot c\\right )  - 2 \\left ( a\\cdot b\\right )  \\left ( a\\cdot c\\right )  \\left ( b\\cdot c\\right )  + \\left ( a\\cdot c\\right ) ^{2} \\left ( b\\cdot b\\right ) }\\right\\rvert} a\\wedge b \\end{equation*}"
       ],
       "metadata": {},
       "output_type": "pyout",
       "prompt_number": 37,
       "text": [
        "(-(a.a)*(b.b)*(c.c) + (a.a)*(b.c)**2 + (a.b)**2*(c.c) - 2*(a.b)*(a.c)*(b.c) + (a.c)**2*(b.b))*a^b/Abs(-(a.a)*(b.b)*(c.c) + (a.a)*(b.c)**2 + (a.b)**2*(c.c) - 2*(a.b)*(a.c)*(b.c) + (a.c)**2*(b.b))"
       ]
      }
     ],
     "prompt_number": 37
    },
    {
     "cell_type": "code",
     "collapsed": false,
     "input": [],
     "language": "python",
     "metadata": {},
     "outputs": []
    },
    {
     "cell_type": "code",
     "collapsed": false,
     "input": [
      "b|(c^a)"
     ],
     "language": "python",
     "metadata": {},
     "outputs": [
      {
       "latex": [
        "\\begin{equation*} \\left ( b\\cdot c\\right )  a - \\left ( a\\cdot b\\right )  c \\end{equation*}"
       ],
       "metadata": {},
       "output_type": "pyout",
       "prompt_number": 25,
       "text": [
        "(b.c)*a - (a.b)*c"
       ]
      }
     ],
     "prompt_number": 25
    },
    {
     "cell_type": "code",
     "collapsed": false,
     "input": [
      "(1/2.*(a*b*c -  b*c*a))"
     ],
     "language": "python",
     "metadata": {},
     "outputs": [
      {
       "latex": [
        "\\begin{equation*} - 1.0 \\left ( a\\cdot c\\right )  b + 1.0 \\left ( a\\cdot b\\right )  c \\end{equation*}"
       ],
       "metadata": {},
       "output_type": "pyout",
       "prompt_number": 49,
       "text": [
        "-1.0*(a.c)*b + 1.0*(a.b)*c"
       ]
      }
     ],
     "prompt_number": 49
    },
    {
     "cell_type": "code",
     "collapsed": false,
     "input": [],
     "language": "python",
     "metadata": {},
     "outputs": [],
     "prompt_number": 51
    },
    {
     "cell_type": "code",
     "collapsed": false,
     "input": [
      "Ga.build?"
     ],
     "language": "python",
     "metadata": {},
     "outputs": [],
     "prompt_number": 53
    },
    {
     "cell_type": "code",
     "collapsed": false,
     "input": [],
     "language": "python",
     "metadata": {},
     "outputs": []
    }
   ],
   "metadata": {}
  }
 ]
}