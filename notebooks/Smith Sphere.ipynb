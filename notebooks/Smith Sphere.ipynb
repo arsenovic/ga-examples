{
 "metadata": {
  "name": "",
  "signature": "sha256:8c45990789a15995018ff8c18f0465f863d1839e11cc1475104590a3eb4f2327"
 },
 "nbformat": 3,
 "nbformat_minor": 0,
 "worksheets": [
  {
   "cells": [
    {
     "cell_type": "heading",
     "level": 1,
     "metadata": {},
     "source": [
      "Smith Sphere "
     ]
    },
    {
     "cell_type": "markdown",
     "metadata": {},
     "source": [
      "The [smith chart](http://en.wikipedia.org/wiki/Smith_chart) is a nomogram used frequently in RF/Microwave Engineering. Since its inception it has been recognised that projecting the chart onto the reimen sphere [1].\n",
      "\n",
      "[1]H. . Wheeler, \u201cReflection Charts Relating to Impedance Matching,\u201d IEEE Transactions on Microwave Theory and Techniques, vol. 32, no. 9, pp. 1008\u20131021, Sep. 1984."
     ]
    },
    {
     "cell_type": "code",
     "collapsed": false,
     "input": [
      "from IPython.display import SVG\n",
      "SVG('pics/smith_sphere.svg')"
     ],
     "language": "python",
     "metadata": {},
     "outputs": [
      {
       "metadata": {},
       "output_type": "pyout",
       "prompt_number": 1,
       "svg": [
        "<svg height=\"465.60046\" id=\"svg2\" inkscape:version=\"0.48.3.1 r9886\" sodipodi:docname=\"smith_sphere.svg\" version=\"1.1\" width=\"560\" xmlns=\"http://www.w3.org/2000/svg\" xmlns:cc=\"http://creativecommons.org/ns#\" xmlns:dc=\"http://purl.org/dc/elements/1.1/\" xmlns:inkscape=\"http://www.inkscape.org/namespaces/inkscape\" xmlns:ns0=\"http://www.iki.fi/pav/software/textext/\" xmlns:rdf=\"http://www.w3.org/1999/02/22-rdf-syntax-ns#\" xmlns:sodipodi=\"http://sodipodi.sourceforge.net/DTD/sodipodi-0.dtd\" xmlns:svg=\"http://www.w3.org/2000/svg\" xmlns:xlink=\"http://www.w3.org/1999/xlink\">\n",
        "  <sodipodi:namedview bordercolor=\"#666666\" borderlayer=\"false\" borderopacity=\"1.0\" fit-margin-bottom=\"10\" fit-margin-left=\"10\" fit-margin-right=\"10\" fit-margin-top=\"10\" id=\"base\" inkscape:current-layer=\"layer6\" inkscape:cx=\"1521.8974\" inkscape:cy=\"291.879\" inkscape:document-units=\"px\" inkscape:guide-bbox=\"true\" inkscape:pageopacity=\"0.0\" inkscape:pageshadow=\"2\" inkscape:window-height=\"1148\" inkscape:window-maximized=\"1\" inkscape:window-width=\"1920\" inkscape:window-x=\"0\" inkscape:window-y=\"25\" inkscape:zoom=\"0.5\" pagecolor=\"#ffffff\" showborder=\"true\" showgrid=\"false\" showguides=\"true\" units=\"px\"/>\n",
        "  <defs id=\"defs4\">\n",
        "    <linearGradient id=\"linearGradient3171\">\n",
        "      <stop id=\"stop3173\" offset=\"0\" style=\"stop-color:#000000;stop-opacity:1;\"/>\n",
        "      <stop id=\"stop3175\" offset=\"1\" style=\"stop-color:#000000;stop-opacity:0;\"/>\n",
        "      <stop id=\"stop3177\" offset=\"1\" style=\"stop-color:#000000;stop-opacity:0.49803922;\"/>\n",
        "      <stop id=\"stop3179\" offset=\"1\" style=\"stop-color:#000000;stop-opacity:1;\"/>\n",
        "    </linearGradient>\n",
        "    <marker id=\"Arrow2Sstart\" inkscape:stockid=\"Arrow2Sstart\" orient=\"auto\" refX=\"0\" refY=\"0\" style=\"overflow:visible\">\n",
        "      <path d=\"M 8.7185878,4.0337352 -2.2072895,0.01601326 8.7185884,-4.0017078 c -1.7454984,2.3720609 -1.7354408,5.6174519 -6e-7,8.035443 z\" id=\"path4195\" inkscape:connector-curvature=\"0\" style=\"font-size:12px;fill-rule:evenodd;stroke-width:0.625;stroke-linejoin:round\" transform=\"matrix(0.3,0,0,0.3,-0.69,0)\"/>\n",
        "    </marker>\n",
        "    <linearGradient id=\"linearGradient13862\">\n",
        "      <stop id=\"stop13864\" offset=\"0\" style=\"stop-color:#000000;stop-opacity:0.57692307;\"/>\n",
        "      <stop id=\"stop13872\" offset=\"0.46575344\" style=\"stop-color:#000000;stop-opacity:0.54901961;\"/>\n",
        "      <stop id=\"stop13866\" offset=\"1\" style=\"stop-color:#000000;stop-opacity:1;\"/>\n",
        "    </linearGradient>\n",
        "    <linearGradient id=\"linearGradient13840\" inkscape:collect=\"always\">\n",
        "      <stop id=\"stop13842\" offset=\"0\" style=\"stop-color:#000000;stop-opacity:1;\"/>\n",
        "      <stop id=\"stop13844\" offset=\"1\" style=\"stop-color:#000000;stop-opacity:0;\"/>\n",
        "    </linearGradient>\n",
        "    <marker id=\"Arrow2Mstart\" inkscape:stockid=\"Arrow2Mstart\" orient=\"auto\" refX=\"0\" refY=\"0\" style=\"overflow:visible\">\n",
        "      <path d=\"M 8.7185878,4.0337352 -2.2072895,0.01601326 8.7185884,-4.0017078 c -1.7454984,2.3720609 -1.7354408,5.6174519 -6e-7,8.035443 z\" id=\"path4189\" inkscape:connector-curvature=\"0\" style=\"font-size:12px;fill-rule:evenodd;stroke-width:0.625;stroke-linejoin:round\" transform=\"scale(0.6,0.6)\"/>\n",
        "    </marker>\n",
        "    <marker id=\"Arrow2Lend\" inkscape:stockid=\"Arrow2Lend\" orient=\"auto\" refX=\"0\" refY=\"0\" style=\"overflow:visible\">\n",
        "      <path d=\"M 8.7185878,4.0337352 -2.2072895,0.01601326 8.7185884,-4.0017078 c -1.7454984,2.3720609 -1.7354408,5.6174519 -6e-7,8.035443 z\" id=\"path4186\" inkscape:connector-curvature=\"0\" style=\"font-size:12px;fill-rule:evenodd;stroke-width:0.625;stroke-linejoin:round\" transform=\"matrix(-1.1,0,0,-1.1,-1.1,0)\"/>\n",
        "    </marker>\n",
        "    <marker id=\"Arrow2Mend\" inkscape:stockid=\"Arrow2Mend\" orient=\"auto\" refX=\"0\" refY=\"0\" style=\"overflow:visible\">\n",
        "      <path d=\"M 8.7185878,4.0337352 -2.2072895,0.01601326 8.7185884,-4.0017078 c -1.7454984,2.3720609 -1.7354408,5.6174519 -6e-7,8.035443 z\" id=\"path4192\" inkscape:connector-curvature=\"0\" style=\"font-size:12px;fill-rule:evenodd;stroke-width:0.625;stroke-linejoin:round\" transform=\"scale(-0.6,-0.6)\"/>\n",
        "    </marker>\n",
        "    <marker id=\"EmptyTriangleOutS\" inkscape:stockid=\"EmptyTriangleOutS\" orient=\"auto\" refX=\"0\" refY=\"0\" style=\"overflow:visible\">\n",
        "      <path d=\"m 5.77,0 -8.65,5 0,-10 8.65,5 z\" id=\"path4332\" inkscape:connector-curvature=\"0\" style=\"fill:#ffffff;fill-rule:evenodd;stroke:#000000;stroke-width:1pt;marker-start:none\" transform=\"matrix(0.2,0,0,0.2,-0.6,0)\"/>\n",
        "    </marker>\n",
        "    <marker id=\"EmptyTriangleOutM\" inkscape:stockid=\"EmptyTriangleOutM\" orient=\"auto\" refX=\"0\" refY=\"0\" style=\"overflow:visible\">\n",
        "      <path d=\"m 5.77,0 -8.65,5 0,-10 8.65,5 z\" id=\"path4329\" inkscape:connector-curvature=\"0\" style=\"fill:#ffffff;fill-rule:evenodd;stroke:#000000;stroke-width:1pt;marker-start:none\" transform=\"matrix(0.4,0,0,0.4,-1.8,0)\"/>\n",
        "    </marker>\n",
        "    <marker id=\"Tail\" inkscape:stockid=\"Tail\" orient=\"auto\" refX=\"0\" refY=\"0\" style=\"overflow:visible\">\n",
        "      <g id=\"g4201\" transform=\"scale(-1.2,-1.2)\">\n",
        "        <path d=\"M -3.8048674,-3.9585227 0.54352094,0\" id=\"path4203\" inkscape:connector-curvature=\"0\" style=\"fill:none;stroke:#000000;stroke-width:0.80000001;stroke-linecap:round;marker-start:none;marker-end:none\"/>\n",
        "        <path d=\"M -1.2866832,-3.9585227 3.0617053,0\" id=\"path4205\" inkscape:connector-curvature=\"0\" style=\"fill:none;stroke:#000000;stroke-width:0.80000001;stroke-linecap:round;marker-start:none;marker-end:none\"/>\n",
        "        <path d=\"M 1.3053582,-3.9585227 5.6537466,0\" id=\"path4207\" inkscape:connector-curvature=\"0\" style=\"fill:none;stroke:#000000;stroke-width:0.80000001;stroke-linecap:round;marker-start:none;marker-end:none\"/>\n",
        "        <path d=\"M -3.8048674,4.1775838 0.54352094,0.21974226\" id=\"path4209\" inkscape:connector-curvature=\"0\" style=\"fill:none;stroke:#000000;stroke-width:0.80000001;stroke-linecap:round;marker-start:none;marker-end:none\"/>\n",
        "        <path d=\"M -1.2866832,4.1775838 3.0617053,0.21974226\" id=\"path4211\" inkscape:connector-curvature=\"0\" style=\"fill:none;stroke:#000000;stroke-width:0.80000001;stroke-linecap:round;marker-start:none;marker-end:none\"/>\n",
        "        <path d=\"M 1.3053582,4.1775838 5.6537466,0.21974226\" id=\"path4213\" inkscape:connector-curvature=\"0\" style=\"fill:none;stroke:#000000;stroke-width:0.80000001;stroke-linecap:round;marker-start:none;marker-end:none\"/>\n",
        "      </g>\n",
        "    </marker>\n",
        "    <marker id=\"Arrow1Mend\" inkscape:stockid=\"Arrow1Mend\" orient=\"auto\" refX=\"0\" refY=\"0\" style=\"overflow:visible\">\n",
        "      <path d=\"M 0,0 5,-5 -12.5,0 5,5 0,0 z\" id=\"path4174\" inkscape:connector-curvature=\"0\" style=\"fill-rule:evenodd;stroke:#000000;stroke-width:1pt;marker-start:none\" transform=\"matrix(-0.4,0,0,-0.4,-4,0)\"/>\n",
        "    </marker>\n",
        "    <marker id=\"Arrow1Mstart\" inkscape:stockid=\"Arrow1Mstart\" orient=\"auto\" refX=\"0\" refY=\"0\" style=\"overflow:visible\">\n",
        "      <path d=\"M 0,0 5,-5 -12.5,0 5,5 0,0 z\" id=\"path4171\" inkscape:connector-curvature=\"0\" style=\"fill-rule:evenodd;stroke:#000000;stroke-width:1pt;marker-start:none\" transform=\"matrix(0.4,0,0,0.4,4,0)\"/>\n",
        "    </marker>\n",
        "    <marker id=\"DotL\" inkscape:stockid=\"DotL\" orient=\"auto\" refX=\"0\" refY=\"0\" style=\"overflow:visible\">\n",
        "      <path d=\"m -2.5,-1 c 0,2.76 -2.24,5 -5,5 -2.76,0 -5,-2.24 -5,-5 0,-2.76 2.24,-5 5,-5 2.76,0 5,2.24 5,5 z\" id=\"path4098\" inkscape:connector-curvature=\"0\" style=\"fill-rule:evenodd;stroke:#000000;stroke-width:1pt;marker-start:none;marker-end:none\" transform=\"matrix(0.8,0,0,0.8,5.92,0.8)\"/>\n",
        "    </marker>\n",
        "    <marker id=\"DotM\" inkscape:stockid=\"DotM\" orient=\"auto\" refX=\"0\" refY=\"0\" style=\"overflow:visible\">\n",
        "      <path d=\"m -2.5,-1 c 0,2.76 -2.24,5 -5,5 -2.76,0 -5,-2.24 -5,-5 0,-2.76 2.24,-5 5,-5 2.76,0 5,2.24 5,5 z\" id=\"path4101\" inkscape:connector-curvature=\"0\" style=\"fill-rule:evenodd;stroke:#000000;stroke-width:1pt;marker-start:none;marker-end:none\" transform=\"matrix(0.4,0,0,0.4,2.96,0.4)\"/>\n",
        "    </marker>\n",
        "    <marker id=\"Arrow1Lstart\" inkscape:stockid=\"Arrow1Lstart\" orient=\"auto\" refX=\"0\" refY=\"0\" style=\"overflow:visible\">\n",
        "      <path d=\"M 0,0 5,-5 -12.5,0 5,5 0,0 z\" id=\"path4036\" inkscape:connector-curvature=\"0\" style=\"fill-rule:evenodd;stroke:#000000;stroke-width:1pt;marker-start:none\" transform=\"matrix(0.8,0,0,0.8,10,0)\"/>\n",
        "    </marker>\n",
        "    <marker id=\"Arrow1Lend\" inkscape:stockid=\"Arrow1Lend\" orient=\"auto\" refX=\"0\" refY=\"0\" style=\"overflow:visible\">\n",
        "      <path d=\"M 0,0 5,-5 -12.5,0 5,5 0,0 z\" id=\"path4039\" inkscape:connector-curvature=\"0\" style=\"fill-rule:evenodd;stroke:#000000;stroke-width:1pt;marker-start:none\" transform=\"matrix(-0.8,0,0,-0.8,-10,0)\"/>\n",
        "    </marker>\n",
        "    <linearGradient id=\"linearGradient3939\" inkscape:collect=\"always\">\n",
        "      <stop id=\"stop3941\" offset=\"0\" style=\"stop-color:#000000;stop-opacity:1;\"/>\n",
        "      <stop id=\"stop3943\" offset=\"1\" style=\"stop-color:#000000;stop-opacity:0;\"/>\n",
        "    </linearGradient>\n",
        "    <linearGradient id=\"linearGradient3931\" inkscape:collect=\"always\">\n",
        "      <stop id=\"stop3933\" offset=\"0\" style=\"stop-color:#000000;stop-opacity:1;\"/>\n",
        "      <stop id=\"stop3935\" offset=\"1\" style=\"stop-color:#000000;stop-opacity:0;\"/>\n",
        "    </linearGradient>\n",
        "    <linearGradient id=\"linearGradient3773\">\n",
        "      <stop id=\"stop3868\" offset=\"0\" style=\"stop-color:#cacaca;stop-opacity:0;\"/>\n",
        "      <stop id=\"stop3777\" offset=\"1\" style=\"stop-color:#9f9f9f;stop-opacity:0.85384613;\"/>\n",
        "    </linearGradient>\n",
        "    <radialGradient cx=\"284.28571\" cy=\"185.21933\" fx=\"284.28571\" fy=\"185.21933\" gradientUnits=\"userSpaceOnUse\" id=\"radialGradient3781\" inkscape:collect=\"always\" r=\"201.92857\" xlink:href=\"#linearGradient3773\"/>\n",
        "    <radialGradient cx=\"284.28571\" cy=\"185.21933\" fx=\"284.28571\" fy=\"185.21933\" gradientUnits=\"userSpaceOnUse\" id=\"radialGradient3781-3\" inkscape:collect=\"always\" r=\"201.92857\" xlink:href=\"#linearGradient3773-1\"/>\n",
        "    <linearGradient id=\"linearGradient3773-1\" inkscape:collect=\"always\">\n",
        "      <stop id=\"stop3775-8\" offset=\"0\" style=\"stop-color:#cacaca;stop-opacity:1;\"/>\n",
        "      <stop id=\"stop3777-1\" offset=\"1\" style=\"stop-color:#cacaca;stop-opacity:0;\"/>\n",
        "    </linearGradient>\n",
        "    <linearGradient gradientUnits=\"userSpaceOnUse\" id=\"linearGradient3937\" inkscape:collect=\"always\" x1=\"287.71429\" x2=\"285.21429\" xlink:href=\"#linearGradient3931\" y1=\"252.7189\" y2=\"82.21933\"/>\n",
        "    <linearGradient gradientUnits=\"userSpaceOnUse\" id=\"linearGradient3945\" inkscape:collect=\"always\" x1=\"281.85715\" x2=\"286.71429\" xlink:href=\"#linearGradient3939\" y1=\"256.71933\" y2=\"54.71933\"/>\n",
        "    <linearGradient gradientUnits=\"userSpaceOnUse\" id=\"linearGradient3368\" inkscape:collect=\"always\" x1=\"281.85715\" x2=\"286.71429\" xlink:href=\"#linearGradient3939-0\" y1=\"256.71933\" y2=\"54.71933\"/>\n",
        "    <linearGradient id=\"linearGradient3939-0\">\n",
        "      <stop id=\"stop13856\" offset=\"0\" style=\"stop-color:#000000;stop-opacity:1;\"/>\n",
        "      <stop id=\"stop13858\" offset=\"0.21917808\" style=\"stop-color:#000000;stop-opacity:0;\"/>\n",
        "      <stop id=\"stop13860\" offset=\"1\" style=\"stop-color:#000000;stop-opacity:0.49803922;\"/>\n",
        "      <stop id=\"stop3943-8\" offset=\"1\" style=\"stop-color:#000000;stop-opacity:1;\"/>\n",
        "    </linearGradient>\n",
        "    <marker id=\"Arrow2Mend-7\" inkscape:stockid=\"Arrow2Mend\" orient=\"auto\" refX=\"0\" refY=\"0\" style=\"overflow:visible\">\n",
        "      <path d=\"M 8.7185878,4.0337352 -2.2072895,0.01601326 8.7185884,-4.0017078 c -1.7454984,2.3720609 -1.7354408,5.6174519 -6e-7,8.035443 z\" id=\"path4192-7\" inkscape:connector-curvature=\"0\" style=\"font-size:12px;fill-rule:evenodd;stroke-width:0.625;stroke-linejoin:round\" transform=\"scale(-0.6,-0.6)\"/>\n",
        "    </marker>\n",
        "    <marker id=\"Arrow1Mend-0\" inkscape:stockid=\"Arrow1Mend\" orient=\"auto\" refX=\"0\" refY=\"0\" style=\"overflow:visible\">\n",
        "      <path d=\"M 0,0 5,-5 -12.5,0 5,5 0,0 z\" id=\"path4174-4\" inkscape:connector-curvature=\"0\" style=\"fill-rule:evenodd;stroke:#000000;stroke-width:1pt;marker-start:none\" transform=\"matrix(-0.4,0,0,-0.4,-4,0)\"/>\n",
        "    </marker>\n",
        "    <linearGradient gradientUnits=\"userSpaceOnUse\" id=\"linearGradient8640\" inkscape:collect=\"always\" x1=\"281.85715\" x2=\"286.71429\" xlink:href=\"#linearGradient3171\" y1=\"256.71933\" y2=\"54.71933\"/>\n",
        "    <marker id=\"Arrow2Mend-7-2\" inkscape:stockid=\"Arrow2Mend\" orient=\"auto\" refX=\"0\" refY=\"0\" style=\"overflow:visible\">\n",
        "      <path d=\"M 8.7185878,4.0337352 -2.2072895,0.01601326 8.7185884,-4.0017078 c -1.7454984,2.3720609 -1.7354408,5.6174519 -6e-7,8.035443 z\" id=\"path4192-7-7\" inkscape:connector-curvature=\"0\" style=\"font-size:12px;fill-rule:evenodd;stroke-width:0.625;stroke-linejoin:round\" transform=\"scale(-0.6,-0.6)\"/>\n",
        "    </marker>\n",
        "    <marker id=\"Arrow1Mstart-1\" inkscape:stockid=\"Arrow1Mstart\" orient=\"auto\" refX=\"0\" refY=\"0\" style=\"overflow:visible\">\n",
        "      <path d=\"M 0,0 5,-5 -12.5,0 5,5 0,0 z\" id=\"path4171-2\" inkscape:connector-curvature=\"0\" style=\"fill-rule:evenodd;stroke:#000000;stroke-width:1pt;marker-start:none\" transform=\"matrix(0.4,0,0,0.4,4,0)\"/>\n",
        "    </marker>\n",
        "    <marker id=\"DotM-8\" inkscape:stockid=\"DotM\" orient=\"auto\" refX=\"0\" refY=\"0\" style=\"overflow:visible\">\n",
        "      <path d=\"m -2.5,-1 c 0,2.76 -2.24,5 -5,5 -2.76,0 -5,-2.24 -5,-5 0,-2.76 2.24,-5 5,-5 2.76,0 5,2.24 5,5 z\" id=\"path4101-9\" inkscape:connector-curvature=\"0\" style=\"fill-rule:evenodd;stroke:#000000;stroke-width:1pt;marker-start:none;marker-end:none\" transform=\"matrix(0.4,0,0,0.4,2.96,0.4)\"/>\n",
        "    </marker>\n",
        "    <linearGradient gradientUnits=\"userSpaceOnUse\" id=\"linearGradient13846\" inkscape:collect=\"always\" x1=\"278.21188\" x2=\"210.69577\" xlink:href=\"#linearGradient13840\" y1=\"256.11374\" y2=\"7.9917321\"/>\n",
        "    <linearGradient gradientTransform=\"translate(52,0)\" gradientUnits=\"userSpaceOnUse\" id=\"linearGradient13870\" inkscape:collect=\"always\" x1=\"293.40085\" x2=\"742.18634\" xlink:href=\"#linearGradient13862\" y1=\"246.08406\" y2=\"246.08406\"/>\n",
        "    <marker id=\"Arrow1Mend-4\" inkscape:stockid=\"Arrow1Mend\" orient=\"auto\" refX=\"0\" refY=\"0\" style=\"overflow:visible\">\n",
        "      <path d=\"M 0,0 5,-5 -12.5,0 5,5 0,0 z\" id=\"path4174-0\" inkscape:connector-curvature=\"0\" style=\"fill-rule:evenodd;stroke:#000000;stroke-width:1pt;marker-start:none\" transform=\"matrix(-0.4,0,0,-0.4,-4,0)\"/>\n",
        "    </marker>\n",
        "    <marker id=\"TriangleOutM\" inkscape:stockid=\"TriangleOutM\" orient=\"auto\" refX=\"0\" refY=\"0\" style=\"overflow:visible\">\n",
        "      <path d=\"m 5.77,0 -8.65,5 0,-10 8.65,5 z\" id=\"path4520\" inkscape:connector-curvature=\"0\" style=\"fill-rule:evenodd;stroke:#000000;stroke-width:1pt;marker-start:none\" transform=\"scale(0.4,0.4)\"/>\n",
        "    </marker>\n",
        "    <marker id=\"marker4578\" inkscape:stockid=\"TriangleOutM\" orient=\"auto\" refX=\"0\" refY=\"0\" style=\"overflow:visible\">\n",
        "      <path d=\"m 5.77,0 -8.65,5 0,-10 8.65,5 z\" id=\"path4580\" inkscape:connector-curvature=\"0\" style=\"fill-rule:evenodd;stroke:#000000;stroke-width:1pt;marker-start:none\" transform=\"scale(0.4,0.4)\"/>\n",
        "    </marker>\n",
        "    <marker id=\"marker4582\" inkscape:stockid=\"TriangleOutM\" orient=\"auto\" refX=\"0\" refY=\"0\" style=\"overflow:visible\">\n",
        "      <path d=\"m 5.77,0 -8.65,5 0,-10 8.65,5 z\" id=\"path4584\" inkscape:connector-curvature=\"0\" style=\"fill-rule:evenodd;stroke:#000000;stroke-width:1pt;marker-start:none\" transform=\"scale(0.4,0.4)\"/>\n",
        "    </marker>\n",
        "  </defs>\n",
        "  <metadata id=\"metadata7\">\n",
        "    <rdf:RDF>\n",
        "      <cc:Work rdf:about=\"\">\n",
        "        <dc:format>image/svg+xml</dc:format>\n",
        "        <dc:type rdf:resource=\"http://purl.org/dc/dcmitype/StillImage\"/>\n",
        "        <dc:title/>\n",
        "      </cc:Work>\n",
        "    </rdf:RDF>\n",
        "  </metadata>\n",
        "  <g id=\"layer3\" inkscape:groupmode=\"layer\" inkscape:label=\"z-plane\" style=\"display:inline\" transform=\"translate(439.35252,362.53207)\"/>\n",
        "  <g id=\"layer2\" inkscape:groupmode=\"layer\" inkscape:label=\"s-plane\" style=\"display:inline\" transform=\"translate(439.35252,362.53207)\"/>\n",
        "  <g id=\"layer1\" inkscape:groupmode=\"layer\" inkscape:label=\"sphere\" style=\"display:inline\" transform=\"translate(439.35252,362.53207)\">\n",
        "    <text id=\"text5767\" sodipodi:linespacing=\"125%\" style=\"font-size:36px;font-style:normal;font-variant:normal;font-weight:normal;font-stretch:normal;text-align:start;line-height:125%;letter-spacing:0px;word-spacing:0px;writing-mode:lr-tb;text-anchor:start;fill:#000000;fill-opacity:1;stroke:none;font-family:cmr10;-inkscape-font-specification:cmr10\" x=\"405.8793\" xml:space=\"preserve\" y=\"42.613701\"><tspan id=\"tspan5769\" sodipodi:role=\"line\" x=\"405.8793\" y=\"42.613701\"/></text>\n",
        "  </g>\n",
        "  <g id=\"layer11\" inkscape:groupmode=\"layer\" inkscape:label=\"axes\" style=\"display:inline\" transform=\"translate(439.35252,362.53207)\"/>\n",
        "  <g id=\"layer4\" inkscape:groupmode=\"layer\" inkscape:label=\"pole labels\" style=\"display:inline\" transform=\"translate(439.35252,362.53207)\"/>\n",
        "  <g id=\"layer5\" inkscape:groupmode=\"layer\" inkscape:label=\"basis\" transform=\"translate(10.000005,30.18204)\"/>\n",
        "  <g id=\"layer6\" inkscape:groupmode=\"layer\" inkscape:label=\"hemisphere labels\" style=\"display:inline\" transform=\"translate(439.35252,362.53207)\">\n",
        "    <g id=\"g3237\" transform=\"matrix(0.38039281,0,0,0.38039281,-266.02991,-226.10719)\">\n",
        "      <rect height=\"656.68756\" id=\"rect3949\" style=\"fill:#d1d1d1;fill-opacity:0.41810345;stroke:#000000;stroke-width:2.70712471;stroke-linecap:round;stroke-miterlimit:4;stroke-opacity:1;stroke-dasharray:none;stroke-dashoffset:0;display:inline\" transform=\"matrix(1,0,0.70928722,0.7049196,2.547155e-6,-3.1082853e-6)\" width=\"823.13074\" x=\"-321.1142\" y=\"30.029543\"/>\n",
        "      <text id=\"text3988\" sodipodi:linespacing=\"125%\" style=\"font-size:56.48583221px;font-style:normal;font-variant:normal;font-weight:normal;font-stretch:normal;text-align:start;line-height:125%;letter-spacing:0px;word-spacing:0px;writing-mode:lr-tb;text-anchor:start;fill:#000000;fill-opacity:1;stroke:none;display:inline;font-family:cmr10;-inkscape-font-specification:cmr10\" transform=\"matrix(1.022019,-0.00847104,0.534193,0.97402776,2.547155e-6,-3.1082853e-6)\" x=\"463.76544\" xml:space=\"preserve\" y=\"454.53848\"><tspan id=\"tspan3990\" sodipodi:role=\"line\" x=\"463.76544\" y=\"454.53848\">Z-plane</tspan></text>\n",
        "      <rect height=\"710.1546\" id=\"rect3947\" style=\"fill:#c4c4c4;fill-opacity:0.41810345;stroke:#000000;stroke-width:3.20777726;stroke-linecap:round;stroke-miterlimit:4;stroke-opacity:1;stroke-dasharray:none;stroke-dashoffset:0;display:inline\" transform=\"matrix(0.73593702,0.67705001,0,1,2.547155e-6,-3.1082853e-6)\" width=\"624.35455\" x=\"194.00974\" y=\"-426.53568\"/>\n",
        "      <text id=\"text3988-7\" sodipodi:linespacing=\"125%\" style=\"font-size:54.18238831px;font-style:normal;font-variant:normal;font-weight:normal;font-stretch:normal;text-align:start;line-height:125%;letter-spacing:0px;word-spacing:0px;writing-mode:lr-tb;text-anchor:start;fill:#000000;fill-opacity:1;stroke:none;display:inline;font-family:cmr10;-inkscape-font-specification:cmr10\" transform=\"matrix(0.75532257,0.73884486,-0.43097644,0.90236318,2.547155e-6,-3.1082853e-6)\" x=\"102.7266\" xml:space=\"preserve\" y=\"-253.06982\"><tspan id=\"tspan3990-9\" sodipodi:role=\"line\" x=\"102.7266\" y=\"-253.06982\">S-plane</tspan></text>\n",
        "      <g id=\"g3306\" style=\"display:inline\" transform=\"translate(2.547155e-6,-3.1082853e-6)\">\n",
        "        <path d=\"m 485.71428,185.21933 c 0,111.24593 -90.18265,201.42857 -201.42857,201.42857 -111.24593,0 -201.428578,-90.18264 -201.428578,-201.42857 0,-111.24593 90.182648,-201.428574 201.428578,-201.428574 111.24592,0 201.42857,90.182644 201.42857,201.428574 z\" id=\"path2993\" sodipodi:cx=\"284.28571\" sodipodi:cy=\"185.21933\" sodipodi:rx=\"201.42857\" sodipodi:ry=\"201.42857\" sodipodi:type=\"arc\" style=\"fill:url(#radialGradient3781);fill-opacity:1;fill-rule:nonzero;stroke:#000000;stroke-opacity:1;marker-mid:url(#DotL)\" transform=\"translate(101.85714,80.000003)\"/>\n",
        "        <path d=\"m 485.71428,185.21933 c 0,40.23789 -90.18265,72.85715 -201.42857,72.85715 -111.24593,0 -201.428578,-32.61926 -201.428578,-72.85715 0,-40.23789 90.182648,-72.85715 201.428578,-72.85715 111.24592,0 201.42857,32.61926 201.42857,72.85715 z\" id=\"path2993-3\" sodipodi:cx=\"284.28571\" sodipodi:cy=\"185.21933\" sodipodi:rx=\"201.42857\" sodipodi:ry=\"72.857147\" sodipodi:type=\"arc\" style=\"fill:none;stroke:url(#linearGradient3937);stroke-opacity:1\" transform=\"translate(101.85714,80.000003)\"/>\n",
        "        <path d=\"m 485.71428,185.21933 c 0,40.23789 -90.18265,72.85715 -201.42857,72.85715 -111.24593,0 -201.428578,-32.61926 -201.428578,-72.85715 0,-40.23789 90.182648,-72.85715 201.428578,-72.85715 111.24592,0 201.42857,32.61926 201.42857,72.85715 z\" id=\"path3860\" sodipodi:cx=\"284.28571\" sodipodi:cy=\"185.21933\" sodipodi:rx=\"201.42857\" sodipodi:ry=\"72.857147\" sodipodi:type=\"arc\" style=\"fill:none;stroke:url(#linearGradient3945);stroke-opacity:1\" transform=\"matrix(0,-1,1,0,200.92352,549.50504)\"/>\n",
        "      </g>\n",
        "      <g id=\"g3400\" style=\"display:inline\" transform=\"translate(2.547155e-6,-3.1082853e-6)\">\n",
        "        <path d=\"M 601.96687,480.80043 441.32807,320.16163 282.78638,159.94225 144.79638,21.952259\" id=\"path3893\" inkscape:connector-curvature=\"0\" style=\"fill:none;stroke:#000000;stroke-width:1.17438293px;stroke-linecap:butt;stroke-linejoin:miter;stroke-opacity:1;marker-start:url(#Arrow1Lstart);marker-end:url(#Arrow1Lend);display:inline\"/>\n",
        "        <path d=\"m 759.95038,265.52327 -171.56443,0 -404.13076,0 -226.662039,0\" id=\"path3895\" inkscape:connector-curvature=\"0\" sodipodi:nodetypes=\"cccc\" style=\"fill:none;stroke:#000000;stroke-width:1.32934928px;stroke-linecap:butt;stroke-linejoin:miter;stroke-opacity:1;marker-start:url(#Arrow1Lstart);marker-mid:none;marker-end:url(#Arrow1Lend);display:inline\"/>\n",
        "        <path d=\"m 387.46429,-61.354074 0,130.224872 0,415.916632 0,153.67634\" id=\"path3897\" inkscape:connector-curvature=\"0\" sodipodi:nodetypes=\"cccc\" style=\"fill:none;stroke:#000000;stroke-width:1.43092859;stroke-linecap:butt;stroke-linejoin:miter;stroke-miterlimit:4;stroke-opacity:1;stroke-dasharray:none;marker-start:url(#Arrow1Lstart);marker-mid:none;marker-end:url(#Arrow1Lend);display:inline\"/>\n",
        "      </g>\n",
        "      <g id=\"g6698\" style=\"display:inline\" transform=\"translate(-4.9497475,-13.788583)\">\n",
        "        <rect height=\"42.426407\" id=\"rect6109\" ry=\"10.253048\" style=\"fill:#fafafa;fill-opacity:0.91379311;stroke:#595959;stroke-width:1.38100004;stroke-linecap:round;stroke-miterlimit:4;stroke-opacity:0.83189655;stroke-dasharray:none;stroke-dashoffset:0;display:inline\" width=\"120.20815\" x=\"341.05087\" y=\"20.8043\"/>\n",
        "        <g font-size-adjust=\"none\" font-stretch=\"normal\" font-style=\"normal\" font-variant=\"normal\" font-weight=\"normal\" id=\"content\" letter-spacing=\"normal\" ns0:preamble=\"\" ns0:text=\"$1_S, \\\\infty_Z$\" stroke-miterlimit=\"10.433\" style=\"font-style:normal;font-variant:normal;font-weight:normal;font-stretch:normal;letter-spacing:normal;word-spacing:normal;text-anchor:start;fill:none;stroke:#000000;stroke-linecap:butt;stroke-linejoin:miter;stroke-miterlimit:10.43299961;stroke-opacity:1;stroke-dasharray:none;stroke-dashoffset:0;display:inline\" transform=\"matrix(3.612991,0,0,-3.612991,-461.12378,2604.4343)\" word-spacing=\"normal\" xml:space=\"preserve\">\n",
        "<path d=\"m 226.36,713.49 0,0.02 0,0.01 0,0.01 0,0.01 0,0.01 0,0.01 0,0.01 0,0 0,0.01 0,0.01 0,0.01 0,0.01 0,0 0,0.01 0,0.01 0,0.01 0,0 0,0.01 0,0.01 -0.01,0.01 0,0.01 0,0.01 -0.01,0.01 0,0.01 -0.01,0 0,0.01 -0.01,0 -0.01,0.01 0,0 -0.01,0.01 -0.01,0 0,0 -0.01,0 0,0 -0.01,0.01 0,0 -0.01,0 -0.01,0 0,0 -0.01,0 -0.01,0 -0.01,0 0,0 -0.01,0 -0.01,0 -0.01,0 -0.01,0 -0.01,0 -0.01,0 -0.01,0 -0.01,0 -0.01,0 c -0.62,-0.63 -1.49,-0.63 -1.81,-0.63 v -0.31 c 0.2,0 0.79,0 1.3,0.26 v -5.16 c 0,-0.36 -0.02,-0.48 -0.92,-0.48 h -0.32 v -0.31 c 0.35,0.04 1.22,0.04 1.61,0.04 0.4,0 1.27,0 1.62,-0.04 v 0.31 h -0.32 c -0.9,0 -0.93,0.11 -0.93,0.48 z\" id=\"path6007\" inkscape:connector-curvature=\"0\" style=\"fill:#000000;stroke-width:0\"/>\n",
        "<path d=\"m 233.36,710.43 0,0 0,0.01 0,0 0,0 0,0.01 0,0 -0.01,0 0,0.01 0,0 0,0.01 0,0 0,0 0,0.01 -0.01,0 0,0 0,0.01 0,0 -0.01,0 0,0.01 0,0 -0.01,0 0,0.01 0,0 -0.01,0 0,0 -0.01,0 0,0.01 -0.01,0 0,0 0,0 -0.01,0 0,0 0,0 -0.01,0 0,0 0,0 c -0.04,0 -0.05,-0.01 -0.14,-0.1 l -0.34,-0.39 c -0.27,0.36 -0.71,0.49 -1.13,0.49 -0.98,0 -1.85,-0.79 -1.85,-1.59 0,-0.11 0.02,-0.39 0.23,-0.64 0.23,-0.28 0.49,-0.34 0.96,-0.45 0.14,-0.04 0.49,-0.12 0.6,-0.14 0.22,-0.06 0.64,-0.21 0.64,-0.73 0,-0.57 -0.59,-1.23 -1.38,-1.23 -0.62,0 -1.35,0.22 -1.35,0.99 0,0.07 0.01,0.22 0.04,0.35 0,0.02 0,0.03 0,0.04 0,0.09 -0.08,0.09 -0.11,0.09 -0.09,0 -0.1,-0.01 -0.13,-0.14 l -0.35,-1.39 c -0.01,-0.03 -0.03,-0.07 -0.03,-0.1 0,-0.05 0.03,-0.09 0.1,-0.09 0.04,0 0.05,0.01 0.14,0.1 0.08,0.08 0.26,0.31 0.34,0.39 0.37,-0.4 0.91,-0.49 1.33,-0.49 1.05,0 1.9,0.91 1.9,1.73 0,0.3 -0.13,0.58 -0.28,0.74 -0.24,0.25 -0.35,0.28 -1.25,0.49 -0.14,0.03 -0.37,0.09 -0.44,0.11 -0.17,0.06 -0.46,0.23 -0.46,0.63 0,0.55 0.62,1.11 1.34,1.11 0.75,0 1.12,-0.43 1.12,-1.09 0,-0.09 -0.03,-0.25 -0.03,-0.31 0,-0.1 0.08,-0.1 0.12,-0.1 0.1,0 0.11,0.04 0.14,0.16 z\" id=\"path6009\" inkscape:connector-curvature=\"0\" style=\"fill:#000000;stroke-width:0\"/>\n",
        "<path d=\"m 236.21,707.14 0,0.06 0,0.06 -0.01,0.05 0,0.06 -0.01,0.05 -0.01,0.06 -0.01,0.05 -0.01,0.05 -0.01,0.04 -0.01,0.05 -0.02,0.04 -0.01,0.04 -0.02,0.04 -0.02,0.04 -0.01,0.04 -0.02,0.03 -0.03,0.04 -0.02,0.03 -0.02,0.03 -0.03,0.02 -0.02,0.03 -0.03,0.02 -0.03,0.02 -0.03,0.02 -0.03,0.02 -0.03,0.01 -0.03,0.01 -0.03,0.01 -0.03,0.01 -0.04,0.01 -0.03,0 -0.04,0 c -0.33,0 -0.53,-0.25 -0.53,-0.53 0,-0.27 0.2,-0.53 0.53,-0.53 0.12,0 0.25,0.04 0.35,0.13 0.03,0.02 0.04,0.03 0.05,0.03 0.01,0 0.02,-0.01 0.02,-0.14 0,-0.74 -0.35,-1.34 -0.68,-1.67 -0.11,-0.11 -0.11,-0.13 -0.11,-0.16 0,-0.07 0.05,-0.11 0.1,-0.11 0.11,0 0.91,0.77 0.91,1.94 z\" id=\"path6011\" inkscape:connector-curvature=\"0\" style=\"fill:#000000;stroke-width:0\"/>\n",
        "<path d=\"m 243.68,709.82 -0.05,0.06 -0.05,0.06 -0.04,0.06 -0.05,0.05 -0.04,0.05 -0.04,0.05 -0.03,0.05 -0.04,0.04 -0.03,0.04 -0.03,0.04 -0.03,0.04 -0.03,0.03 -0.03,0.04 -0.03,0.03 -0.03,0.03 -0.02,0.03 -0.03,0.03 -0.02,0.03 -0.03,0.02 -0.02,0.03 -0.05,0.04 -0.04,0.05 -0.05,0.04 -0.05,0.05 -0.05,0.04 -0.03,0.02 -0.03,0.03 c -0.56,0.44 -1.12,0.62 -1.62,0.62 -1.17,0 -1.93,-1.09 -1.93,-2.25 h 0.22 c 0,0.97 0.67,1.78 1.55,1.78 0.57,0 1.02,-0.42 1.23,-0.63 0.25,-0.27 0.48,-0.58 1.09,-1.36 h 0 c -0.41,-0.72 -1.15,-1.73 -2.27,-1.73 -1.06,0 -1.6,1.04 -1.6,1.94 h -0.22 c 0,-1.15 0.74,-2.25 1.88,-2.25 1.15,0 1.98,0.9 2.47,1.7 0.54,-0.68 0.65,-0.83 0.96,-1.08 0.56,-0.44 1.12,-0.62 1.63,-0.62 1.17,0 1.92,1.09 1.92,2.26 h -0.22 c 0,-0.98 -0.66,-1.79 -1.54,-1.79 -0.58,0 -1.03,0.42 -1.24,0.63 -0.25,0.27 -0.48,0.58 -1.08,1.36 h 0 c 0.41,0.72 1.14,1.73 2.27,1.73 1.06,0 1.59,-1.04 1.59,-1.93 h 0.22 c 0,1.14 -0.73,2.24 -1.88,2.24 -1.15,0 -1.98,-0.9 -2.46,-1.7 z\" id=\"path6013\" inkscape:connector-curvature=\"0\" style=\"fill:#000000;stroke-width:0\"/>\n",
        "<path d=\"m 254.03,710.11 0.01,0.01 0.01,0.01 0.01,0.01 0.01,0.01 0.01,0.01 0,0.01 0.01,0.01 0,0 0,0.01 0.01,0 0,0.01 0,0 0.01,0.01 0,0.01 0,0 0,0.01 0.01,0.01 0,0 0,0.01 0,0.01 0,0 0,0.01 0,0.01 0.01,0.01 0,0.01 0,0 c 0,0.08 -0.06,0.08 -0.19,0.08 h -3.26 c -0.18,0 -0.18,-0.01 -0.22,-0.14 l -0.39,-1.25 c -0.03,-0.08 -0.03,-0.09 -0.03,-0.11 0,-0.04 0.03,-0.1 0.12,-0.1 0.09,0 0.1,0.04 0.12,0.11 0.34,0.98 0.88,1.24 1.78,1.24 h 1.25 l -4.06,-4.19 c -0.05,-0.05 -0.12,-0.12 -0.12,-0.23 0,-0.08 0.07,-0.08 0.19,-0.08 h 3.37 c 0.18,0 0.19,0.01 0.23,0.14 l 0.5,1.55 c 0.03,0.09 0.03,0.1 0.03,0.11 0,0.01 0,0.1 -0.11,0.1 -0.09,0 -0.11,-0.03 -0.15,-0.18 -0.32,-0.95 -0.68,-1.44 -1.89,-1.44 h -1.33 z\" id=\"path6015\" inkscape:connector-curvature=\"0\" style=\"fill:#000000;stroke-width:0\"/>\n",
        "</g>      </g>\n",
        "      <rect height=\"42.426407\" id=\"rect6109-1\" ry=\"10.253048\" style=\"fill:#fafafa;fill-opacity:0.91379311;stroke:#595959;stroke-width:1.47136855;stroke-linecap:round;stroke-miterlimit:4;stroke-opacity:0.83189655;stroke-dasharray:none;stroke-dashoffset:0;display:inline\" transform=\"translate(2.547155e-6,-3.1082853e-6)\" width=\"136.455\" x=\"323.1478\" y=\"481.0199\"/>\n",
        "      <g id=\"g7289\" style=\"display:inline\" transform=\"translate(-35.999997,-3.1082853e-6)\">\n",
        "        <rect height=\"42.426407\" id=\"rect6109-4\" ry=\"10.253048\" style=\"fill:#fafafa;fill-opacity:0.91379311;stroke:#595959;stroke-width:1.53115082;stroke-linecap:round;stroke-miterlimit:4;stroke-opacity:0.83189655;stroke-dasharray:none;stroke-dashoffset:0;display:inline\" width=\"147.76871\" x=\"53.74012\" y=\"244.84624\"/>\n",
        "        <g font-size-adjust=\"none\" font-stretch=\"normal\" font-style=\"normal\" font-variant=\"normal\" font-weight=\"normal\" id=\"g6866\" letter-spacing=\"normal\" ns0:preamble=\"\" ns0:text=\"$\\\\infty_S,-1_Z$\" stroke-miterlimit=\"10.433\" style=\"font-style:normal;font-variant:normal;font-weight:normal;font-stretch:normal;letter-spacing:normal;word-spacing:normal;text-anchor:start;fill:none;stroke:#000000;stroke-linecap:butt;stroke-linejoin:miter;stroke-miterlimit:10.43299961;stroke-opacity:1;stroke-dasharray:none;stroke-dashoffset:0;display:inline\" transform=\"matrix(3.612991,0,0,-3.612991,-751.26296,2828.4762)\" word-spacing=\"normal\" xml:space=\"preserve\">\n",
        "<path d=\"m 228.5,709.82 -0.05,0.06 -0.05,0.06 -0.04,0.06 -0.05,0.05 -0.04,0.05 -0.04,0.05 -0.03,0.05 -0.04,0.04 -0.03,0.04 -0.03,0.04 -0.04,0.04 -0.02,0.03 -0.03,0.04 -0.03,0.03 -0.03,0.03 -0.02,0.03 -0.03,0.03 -0.02,0.03 -0.03,0.02 -0.02,0.03 -0.05,0.04 -0.05,0.05 -0.04,0.04 -0.05,0.05 -0.06,0.04 -0.02,0.02 -0.03,0.03 c -0.56,0.44 -1.12,0.62 -1.63,0.62 -1.16,0 -1.92,-1.09 -1.92,-2.25 h 0.22 c 0,0.97 0.67,1.78 1.54,1.78 0.58,0 1.03,-0.42 1.24,-0.63 0.25,-0.27 0.48,-0.58 1.09,-1.36 h 0 c -0.41,-0.72 -1.15,-1.73 -2.28,-1.73 -1.05,0 -1.59,1.04 -1.59,1.94 h -0.22 c 0,-1.15 0.74,-2.25 1.88,-2.25 1.15,0 1.98,0.9 2.47,1.7 0.54,-0.68 0.65,-0.83 0.96,-1.08 0.56,-0.44 1.12,-0.62 1.63,-0.62 1.17,0 1.92,1.09 1.92,2.26 h -0.22 c 0,-0.98 -0.66,-1.79 -1.54,-1.79 -0.58,0 -1.03,0.42 -1.24,0.63 -0.25,0.27 -0.48,0.58 -1.08,1.36 h 0 c 0.4,0.72 1.14,1.73 2.27,1.73 1.06,0 1.59,-1.04 1.59,-1.93 h 0.22 c 0,1.14 -0.74,2.24 -1.88,2.24 -1.15,0 -1.98,-0.9 -2.46,-1.7 z\" id=\"path6868\" inkscape:connector-curvature=\"0\" style=\"fill:#000000;stroke-width:0\"/>\n",
        "<path d=\"m 238.34,710.43 0,0 0,0.01 0,0 0,0 0,0.01 0,0 0,0 0,0.01 -0.01,0 0,0.01 0,0 0,0 0,0.01 0,0 -0.01,0 0,0.01 0,0 0,0 -0.01,0.01 0,0 -0.01,0 0,0.01 0,0 -0.01,0 0,0 -0.01,0 0,0.01 -0.01,0 0,0 0,0 -0.01,0 0,0 0,0 0,0 -0.01,0 0,0 c -0.04,0 -0.05,-0.01 -0.14,-0.1 l -0.34,-0.39 c -0.27,0.36 -0.7,0.49 -1.13,0.49 -0.98,0 -1.85,-0.79 -1.85,-1.59 0,-0.11 0.02,-0.39 0.23,-0.64 0.24,-0.28 0.49,-0.34 0.97,-0.45 0.13,-0.04 0.48,-0.12 0.59,-0.14 0.22,-0.06 0.65,-0.21 0.65,-0.73 0,-0.57 -0.6,-1.23 -1.39,-1.23 -0.61,0 -1.35,0.22 -1.35,0.99 0,0.07 0.01,0.22 0.04,0.35 0.01,0.02 0.01,0.03 0.01,0.04 0,0.09 -0.09,0.09 -0.11,0.09 -0.1,0 -0.11,-0.01 -0.14,-0.14 l -0.35,-1.39 c -0.01,-0.03 -0.02,-0.07 -0.02,-0.1 0,-0.05 0.03,-0.09 0.09,-0.09 0.05,0 0.05,0.01 0.14,0.1 0.08,0.08 0.26,0.31 0.34,0.39 0.37,-0.4 0.91,-0.49 1.33,-0.49 1.05,0 1.9,0.91 1.9,1.73 0,0.3 -0.12,0.58 -0.28,0.74 -0.24,0.25 -0.35,0.28 -1.24,0.49 -0.15,0.03 -0.38,0.09 -0.44,0.11 -0.18,0.06 -0.47,0.23 -0.47,0.63 0,0.55 0.62,1.11 1.34,1.11 0.76,0 1.12,-0.43 1.12,-1.09 0,-0.09 -0.03,-0.25 -0.03,-0.31 0,-0.1 0.08,-0.1 0.12,-0.1 0.1,0 0.11,0.04 0.14,0.16 z\" id=\"path6870\" inkscape:connector-curvature=\"0\" style=\"fill:#000000;stroke-width:0\"/>\n",
        "<path d=\"m 241.19,707.14 0,0.06 0,0.06 -0.01,0.05 0,0.06 -0.01,0.05 -0.01,0.06 0,0.05 -0.02,0.05 -0.01,0.04 -0.01,0.05 -0.01,0.04 -0.02,0.04 -0.02,0.04 -0.01,0.04 -0.02,0.04 -0.02,0.03 -0.02,0.04 -0.03,0.03 -0.02,0.03 -0.03,0.02 -0.02,0.03 -0.03,0.02 -0.03,0.02 -0.02,0.02 -0.03,0.02 -0.04,0.01 -0.03,0.01 -0.03,0.01 -0.03,0.01 -0.04,0.01 -0.03,0 -0.04,0 c -0.33,0 -0.53,-0.25 -0.53,-0.53 0,-0.27 0.2,-0.53 0.53,-0.53 0.12,0 0.25,0.04 0.35,0.13 0.03,0.02 0.04,0.03 0.05,0.03 0.01,0 0.02,-0.01 0.02,-0.14 0,-0.74 -0.35,-1.34 -0.68,-1.67 -0.11,-0.11 -0.11,-0.13 -0.11,-0.16 0,-0.07 0.05,-0.11 0.1,-0.11 0.11,0 0.91,0.77 0.91,1.94 z\" id=\"path6872\" inkscape:connector-curvature=\"0\" style=\"fill:#000000;stroke-width:0\"/>\n",
        "<path d=\"m 250.16,709.41 0.03,0 0.04,0 0.03,0.01 0.01,0 0.02,0 0.01,0 0.02,0 0.01,0 0.02,0 0.01,0.01 0.02,0 0.01,0 0.01,0.01 0.01,0 0.01,0.01 0.02,0.01 0.01,0 0.01,0.01 0.01,0.01 0,0.01 0.01,0.01 0,0 0.01,0.01 0,0 0,0.01 0.01,0.01 0,0 0,0.01 0,0.01 0.01,0 0,0.01 0,0.01 0,0.01 0,0.01 0,0 0,0.01 0,0.01 c 0,0.2 -0.18,0.2 -0.35,0.2 h -5.39 c -0.17,0 -0.35,0 -0.35,-0.2 0,-0.2 0.18,-0.2 0.35,-0.2 z\" id=\"path6874\" inkscape:connector-curvature=\"0\" style=\"fill:#000000;stroke-width:0\"/>\n",
        "<path d=\"m 254.27,713.49 0,0.02 0,0.01 0,0.01 0,0.01 0,0.01 0,0.01 0,0.01 0,0 0,0.01 0,0.01 0,0.01 0,0.01 0,0 0,0.01 0,0.01 0,0.01 0,0 0,0.01 0,0.01 -0.01,0.01 0,0.01 0,0.01 -0.01,0.01 0,0.01 0,0 -0.01,0.01 -0.01,0 0,0.01 -0.01,0 -0.01,0.01 -0.01,0 0,0 -0.01,0 0,0 -0.01,0.01 0,0 -0.01,0 -0.01,0 0,0 -0.01,0 -0.01,0 0,0 -0.01,0 -0.01,0 -0.01,0 -0.01,0 -0.01,0 -0.01,0 -0.01,0 -0.01,0 -0.01,0 -0.01,0 c -0.61,-0.63 -1.49,-0.63 -1.81,-0.63 v -0.31 c 0.2,0 0.79,0 1.31,0.26 v -5.16 c 0,-0.36 -0.03,-0.48 -0.93,-0.48 h -0.32 v -0.31 c 0.35,0.04 1.22,0.04 1.61,0.04 0.4,0 1.27,0 1.62,-0.04 v 0.31 h -0.32 c -0.9,0 -0.93,0.11 -0.93,0.48 z\" id=\"path6876\" inkscape:connector-curvature=\"0\" style=\"fill:#000000;stroke-width:0\"/>\n",
        "<path d=\"m 261.78,710.11 0.01,0.01 0.01,0.01 0.01,0.01 0.01,0.01 0,0.01 0.01,0.01 0.01,0.01 0,0 0,0.01 0.01,0 0,0.01 0,0 0.01,0.01 0,0.01 0,0 0,0.01 0.01,0.01 0,0 0,0.01 0,0.01 0,0 0,0.01 0,0.01 0,0.01 0,0.01 0.01,0 c 0,0.08 -0.06,0.08 -0.19,0.08 h -3.26 c -0.18,0 -0.18,-0.01 -0.23,-0.14 l -0.39,-1.25 c -0.02,-0.08 -0.02,-0.09 -0.02,-0.11 0,-0.04 0.02,-0.1 0.11,-0.1 0.09,0 0.11,0.04 0.13,0.11 0.33,0.98 0.88,1.24 1.78,1.24 h 1.25 L 257,705.94 c -0.05,-0.05 -0.12,-0.12 -0.12,-0.23 0,-0.08 0.06,-0.08 0.19,-0.08 h 3.37 c 0.18,0 0.19,0.01 0.23,0.14 l 0.5,1.55 c 0.03,0.09 0.03,0.1 0.03,0.11 0,0.01 0,0.1 -0.11,0.1 -0.09,0 -0.11,-0.03 -0.16,-0.18 -0.32,-0.95 -0.67,-1.44 -1.88,-1.44 h -1.33 z\" id=\"path6878\" inkscape:connector-curvature=\"0\" style=\"fill:#000000;stroke-width:0\"/>\n",
        "</g>      </g>\n",
        "      <g font-size-adjust=\"none\" font-stretch=\"normal\" font-style=\"normal\" font-variant=\"normal\" font-weight=\"normal\" id=\"g7034\" letter-spacing=\"normal\" ns0:preamble=\"\" ns0:text=\"$-1_S, 0_Z$\" stroke-miterlimit=\"10.433\" style=\"font-style:normal;font-variant:normal;font-weight:normal;font-stretch:normal;letter-spacing:normal;word-spacing:normal;text-anchor:start;fill:none;stroke:#000000;stroke-linecap:butt;stroke-linejoin:miter;stroke-miterlimit:10.43299961;stroke-opacity:1;stroke-dasharray:none;stroke-dashoffset:0;display:inline\" transform=\"matrix(3.612991,0,0,-3.612991,-479.02685,3064.6499)\" word-spacing=\"normal\" xml:space=\"preserve\">\n",
        "<path d=\"m 230,709.41 0.03,0 0.03,0 0.04,0.01 0.01,0 0.02,0 0.01,0 0.02,0 0.01,0 0.02,0 0.01,0.01 0.01,0 0.02,0 0.01,0.01 0.01,0 0.01,0.01 0.01,0.01 0.01,0 0.01,0.01 0.01,0.01 0.01,0.01 0.01,0.01 0,0 0.01,0.01 0,0 0,0.01 0.01,0.01 0,0 0,0.01 0,0.01 0,0 0.01,0.01 0,0.01 0,0.01 0,0.01 0,0 0,0.01 0,0.01 c 0,0.2 -0.18,0.2 -0.35,0.2 h -5.39 c -0.17,0 -0.35,0 -0.35,-0.2 0,-0.2 0.18,-0.2 0.35,-0.2 z\" id=\"path7036\" inkscape:connector-curvature=\"0\" style=\"fill:#000000;stroke-width:0\"/>\n",
        "<path d=\"m 234.11,713.49 0,0.02 0,0.01 0,0.01 0,0.01 0,0.01 0,0.01 0,0.01 0,0 0,0.01 0,0.01 0,0.01 0,0.01 0,0 0,0.01 0,0.01 0,0.01 0,0 0,0.01 -0.01,0.01 0,0.01 0,0.01 0,0.01 -0.01,0.01 0,0.01 -0.01,0 0,0.01 -0.01,0 -0.01,0.01 0,0 -0.01,0.01 -0.01,0 0,0 -0.01,0 0,0 -0.01,0.01 -0.01,0 0,0 -0.01,0 0,0 -0.01,0 -0.01,0 -0.01,0 0,0 -0.01,0 -0.01,0 -0.01,0 -0.01,0 -0.01,0 -0.01,0 -0.01,0 -0.01,0 -0.01,0 c -0.62,-0.63 -1.49,-0.63 -1.81,-0.63 v -0.31 c 0.2,0 0.79,0 1.3,0.26 v -5.16 c 0,-0.36 -0.03,-0.48 -0.92,-0.48 h -0.32 v -0.31 c 0.35,0.04 1.21,0.04 1.61,0.04 0.4,0 1.27,0 1.62,-0.04 v 0.31 h -0.32 c -0.9,0 -0.93,0.11 -0.93,0.48 z\" id=\"path7038\" inkscape:connector-curvature=\"0\" style=\"fill:#000000;stroke-width:0\"/>\n",
        "<path d=\"m 241.11,710.43 0,0 0,0.01 0,0 0,0 0,0.01 -0.01,0 0,0 0,0.01 0,0 0,0.01 0,0 0,0 -0.01,0.01 0,0 0,0 0,0.01 0,0 -0.01,0 0,0.01 0,0 -0.01,0 0,0.01 -0.01,0 0,0 0,0 -0.01,0 0,0.01 -0.01,0 0,0 -0.01,0 0,0 0,0 0,0 -0.01,0 0,0 0,0 c -0.05,0 -0.05,-0.01 -0.14,-0.1 l -0.34,-0.39 c -0.27,0.36 -0.71,0.49 -1.13,0.49 -0.98,0 -1.86,-0.79 -1.86,-1.59 0,-0.11 0.03,-0.39 0.24,-0.64 0.23,-0.28 0.49,-0.34 0.96,-0.45 0.14,-0.04 0.49,-0.12 0.6,-0.14 0.22,-0.06 0.64,-0.21 0.64,-0.73 0,-0.57 -0.59,-1.23 -1.38,-1.23 -0.62,0 -1.35,0.22 -1.35,0.99 0,0.07 0.01,0.22 0.04,0.35 0,0.02 0,0.03 0,0.04 0,0.09 -0.08,0.09 -0.11,0.09 -0.09,0 -0.1,-0.01 -0.13,-0.14 l -0.35,-1.39 c -0.01,-0.03 -0.03,-0.07 -0.03,-0.1 0,-0.05 0.03,-0.09 0.1,-0.09 0.04,0 0.05,0.01 0.14,0.1 0.08,0.08 0.26,0.31 0.34,0.39 0.36,-0.4 0.91,-0.49 1.33,-0.49 1.05,0 1.9,0.91 1.9,1.73 0,0.3 -0.13,0.58 -0.28,0.74 -0.25,0.25 -0.35,0.28 -1.25,0.49 -0.14,0.03 -0.37,0.09 -0.44,0.11 -0.17,0.06 -0.46,0.23 -0.46,0.63 0,0.55 0.62,1.11 1.34,1.11 0.75,0 1.11,-0.43 1.11,-1.09 0,-0.09 -0.02,-0.25 -0.02,-0.31 0,-0.1 0.08,-0.1 0.11,-0.1 0.11,0 0.12,0.04 0.14,0.16 z\" id=\"path7040\" inkscape:connector-curvature=\"0\" style=\"fill:#000000;stroke-width:0\"/>\n",
        "<path d=\"m 243.96,707.14 0,0.06 0,0.06 -0.01,0.05 0,0.06 -0.01,0.05 -0.01,0.06 -0.01,0.05 -0.01,0.05 -0.01,0.04 -0.01,0.05 -0.02,0.04 -0.01,0.04 -0.02,0.04 -0.02,0.04 -0.02,0.04 -0.02,0.03 -0.02,0.04 -0.02,0.03 -0.02,0.03 -0.03,0.02 -0.02,0.03 -0.03,0.02 -0.03,0.02 -0.03,0.02 -0.03,0.02 -0.03,0.01 -0.03,0.01 -0.03,0.01 -0.03,0.01 -0.04,0.01 -0.03,0 -0.04,0 c -0.33,0 -0.53,-0.25 -0.53,-0.53 0,-0.27 0.2,-0.53 0.53,-0.53 0.12,0 0.25,0.04 0.35,0.13 0.03,0.02 0.04,0.03 0.05,0.03 0.01,0 0.02,-0.01 0.02,-0.14 0,-0.74 -0.35,-1.34 -0.68,-1.67 -0.11,-0.11 -0.11,-0.13 -0.11,-0.16 0,-0.07 0.05,-0.11 0.1,-0.11 0.11,0 0.91,0.77 0.91,1.94 z\" id=\"path7042\" inkscape:connector-curvature=\"0\" style=\"fill:#000000;stroke-width:0\"/>\n",
        "<path d=\"m 250.95,710.31 0,0.15 -0.01,0.15 0,0.15 -0.01,0.15 -0.01,0.14 -0.01,0.15 -0.01,0.15 -0.02,0.15 -0.03,0.14 -0.02,0.15 -0.04,0.14 -0.03,0.15 -0.05,0.14 -0.04,0.14 -0.06,0.14 -0.03,0.07 -0.03,0.07 c -0.46,0.95 -1.28,1.11 -1.7,1.11 -0.59,0 -1.32,-0.26 -1.73,-1.18 -0.32,-0.69 -0.37,-1.46 -0.37,-2.26 0,-0.75 0.04,-1.64 0.45,-2.4 0.43,-0.81 1.15,-1 1.64,-1 v 0.21 c -0.39,0 -0.97,0.25 -1.15,1.21 -0.11,0.6 -0.11,1.51 -0.11,2.1 0,0.64 0,1.29 0.08,1.83 0.19,1.19 0.93,1.27 1.18,1.27 0.33,0 0.99,-0.18 1.18,-1.16 0.1,-0.56 0.1,-1.31 0.1,-1.94 0,-0.75 0,-1.42 -0.11,-2.06 -0.15,-0.95 -0.72,-1.25 -1.17,-1.25 h 0 v -0.21 c 0.54,0 1.3,0.2 1.74,1.15 0.32,0.69 0.37,1.46 0.37,2.25 z\" id=\"path7044\" inkscape:connector-curvature=\"0\" style=\"fill:#000000;stroke-width:0\"/>\n",
        "<path d=\"m 256.8,710.11 0.01,0.01 0.01,0.01 0.01,0.01 0,0.01 0.01,0.01 0.01,0.01 0.01,0.01 0,0 0,0.01 0.01,0 0,0.01 0,0 0.01,0.01 0,0.01 0,0 0,0.01 0,0.01 0.01,0 0,0.01 0,0.01 0,0 0,0.01 0,0.01 0,0.01 0,0.01 0,0 c 0,0.08 -0.05,0.08 -0.18,0.08 h -3.26 c -0.18,0 -0.19,-0.01 -0.23,-0.14 l -0.39,-1.25 c -0.03,-0.08 -0.03,-0.09 -0.03,-0.11 0,-0.04 0.03,-0.1 0.12,-0.1 0.09,0 0.11,0.04 0.13,0.11 0.33,0.98 0.88,1.24 1.77,1.24 h 1.26 l -4.06,-4.19 c -0.05,-0.05 -0.12,-0.12 -0.12,-0.23 0,-0.08 0.06,-0.08 0.19,-0.08 h 3.37 c 0.18,0 0.19,0.01 0.23,0.14 l 0.5,1.55 c 0.03,0.09 0.03,0.1 0.03,0.11 0,0.01 0,0.1 -0.11,0.1 -0.09,0 -0.11,-0.03 -0.16,-0.18 -0.32,-0.95 -0.67,-1.44 -1.88,-1.44 h -1.33 z\" id=\"path7046\" inkscape:connector-curvature=\"0\" style=\"fill:#000000;stroke-width:0\"/>\n",
        "</g>      <g id=\"g7308\" style=\"display:inline\" transform=\"translate(2.547155e-6,-6.0000031)\">\n",
        "        <rect height=\"42.426407\" id=\"rect6109-8\" ry=\"10.253048\" style=\"fill:#fafafa;fill-opacity:0.91379311;stroke:#595959;stroke-width:1.38100004;stroke-linecap:round;stroke-miterlimit:4;stroke-opacity:0.83189655;stroke-dasharray:none;stroke-dashoffset:0;display:inline\" width=\"120.20815\" x=\"607.40472\" y=\"253.33153\"/>\n",
        "        <g font-size-adjust=\"none\" font-stretch=\"normal\" font-style=\"normal\" font-variant=\"normal\" font-weight=\"normal\" id=\"g7202\" letter-spacing=\"normal\" ns0:preamble=\"\" ns0:text=\"$0_S, 1_Z$\" stroke-miterlimit=\"10.433\" style=\"font-style:normal;font-variant:normal;font-weight:normal;font-stretch:normal;letter-spacing:normal;word-spacing:normal;text-anchor:start;fill:none;stroke:#000000;stroke-linecap:butt;stroke-linejoin:miter;stroke-miterlimit:10.43299961;stroke-opacity:1;stroke-dasharray:none;stroke-dashoffset:0;display:inline\" transform=\"matrix(3.612991,0,0,-3.612991,-186.76993,2836.9615)\" word-spacing=\"normal\" xml:space=\"preserve\">\n",
        "<path d=\"m 228.02,710.31 0,0.15 -0.01,0.15 0,0.15 -0.01,0.15 -0.01,0.14 -0.01,0.15 -0.01,0.15 -0.02,0.15 -0.02,0.14 -0.03,0.15 -0.03,0.14 -0.04,0.15 -0.04,0.14 -0.05,0.14 -0.06,0.14 -0.03,0.07 -0.03,0.07 c -0.46,0.95 -1.28,1.11 -1.7,1.11 -0.59,0 -1.32,-0.26 -1.73,-1.18 -0.32,-0.69 -0.37,-1.46 -0.37,-2.26 0,-0.75 0.04,-1.64 0.45,-2.4 0.43,-0.81 1.16,-1 1.64,-1 v 0.21 c -0.39,0 -0.97,0.25 -1.15,1.21 -0.11,0.6 -0.11,1.51 -0.11,2.1 0,0.64 0,1.29 0.08,1.83 0.19,1.19 0.93,1.27 1.18,1.27 0.33,0 0.99,-0.18 1.18,-1.16 0.1,-0.56 0.1,-1.31 0.1,-1.94 0,-0.75 0,-1.42 -0.11,-2.06 -0.15,-0.95 -0.72,-1.25 -1.17,-1.25 h 0 v -0.21 c 0.54,0 1.3,0.2 1.74,1.15 0.32,0.69 0.37,1.46 0.37,2.25 z\" id=\"path7204\" inkscape:connector-curvature=\"0\" style=\"fill:#000000;stroke-width:0\"/>\n",
        "<path d=\"m 233.36,710.43 0,0 0,0.01 0,0 0,0 0,0.01 0,0 -0.01,0 0,0.01 0,0 0,0.01 0,0 0,0 0,0.01 -0.01,0 0,0 0,0.01 0,0 -0.01,0 0,0.01 0,0 -0.01,0 0,0.01 0,0 -0.01,0 0,0 -0.01,0 0,0.01 -0.01,0 0,0 0,0 -0.01,0 0,0 0,0 -0.01,0 0,0 0,0 c -0.04,0 -0.05,-0.01 -0.14,-0.1 l -0.34,-0.39 c -0.27,0.36 -0.71,0.49 -1.13,0.49 -0.98,0 -1.85,-0.79 -1.85,-1.59 0,-0.11 0.02,-0.39 0.23,-0.64 0.23,-0.28 0.49,-0.34 0.96,-0.45 0.14,-0.04 0.49,-0.12 0.6,-0.14 0.22,-0.06 0.64,-0.21 0.64,-0.73 0,-0.57 -0.59,-1.23 -1.38,-1.23 -0.62,0 -1.35,0.22 -1.35,0.99 0,0.07 0.01,0.22 0.04,0.35 0,0.02 0,0.03 0,0.04 0,0.09 -0.08,0.09 -0.11,0.09 -0.09,0 -0.1,-0.01 -0.13,-0.14 l -0.35,-1.39 c -0.01,-0.03 -0.03,-0.07 -0.03,-0.1 0,-0.05 0.03,-0.09 0.1,-0.09 0.04,0 0.05,0.01 0.14,0.1 0.08,0.08 0.26,0.31 0.34,0.39 0.37,-0.4 0.91,-0.49 1.33,-0.49 1.05,0 1.9,0.91 1.9,1.73 0,0.3 -0.13,0.58 -0.28,0.74 -0.24,0.25 -0.35,0.28 -1.25,0.49 -0.14,0.03 -0.37,0.09 -0.44,0.11 -0.17,0.06 -0.46,0.23 -0.46,0.63 0,0.55 0.62,1.11 1.34,1.11 0.75,0 1.12,-0.43 1.12,-1.09 0,-0.09 -0.03,-0.25 -0.03,-0.31 0,-0.1 0.08,-0.1 0.12,-0.1 0.1,0 0.11,0.04 0.14,0.16 z\" id=\"path7206\" inkscape:connector-curvature=\"0\" style=\"fill:#000000;stroke-width:0\"/>\n",
        "<path d=\"m 236.21,707.14 0,0.06 0,0.06 -0.01,0.05 0,0.06 -0.01,0.05 -0.01,0.06 -0.01,0.05 -0.01,0.05 -0.01,0.04 -0.01,0.05 -0.02,0.04 -0.01,0.04 -0.02,0.04 -0.02,0.04 -0.01,0.04 -0.02,0.03 -0.03,0.04 -0.02,0.03 -0.02,0.03 -0.03,0.02 -0.02,0.03 -0.03,0.02 -0.03,0.02 -0.03,0.02 -0.03,0.02 -0.03,0.01 -0.03,0.01 -0.03,0.01 -0.03,0.01 -0.04,0.01 -0.03,0 -0.04,0 c -0.33,0 -0.53,-0.25 -0.53,-0.53 0,-0.27 0.2,-0.53 0.53,-0.53 0.12,0 0.25,0.04 0.35,0.13 0.03,0.02 0.04,0.03 0.05,0.03 0.01,0 0.02,-0.01 0.02,-0.14 0,-0.74 -0.35,-1.34 -0.68,-1.67 -0.11,-0.11 -0.11,-0.13 -0.11,-0.16 0,-0.07 0.05,-0.11 0.1,-0.11 0.11,0 0.91,0.77 0.91,1.94 z\" id=\"path7208\" inkscape:connector-curvature=\"0\" style=\"fill:#000000;stroke-width:0\"/>\n",
        "<path d=\"m 241.54,713.49 0,0.02 0,0.01 0,0.01 0,0.01 0,0.01 0,0.01 0,0.01 0,0 0,0.01 0,0.01 0,0.01 0,0.01 0,0 0,0.01 0,0.01 0,0.01 0,0 0,0.01 0,0.01 -0.01,0.01 0,0.01 0,0.01 -0.01,0.01 0,0.01 0,0 -0.01,0.01 -0.01,0 0,0.01 -0.01,0 -0.01,0.01 -0.01,0 0,0 -0.01,0 0,0 -0.01,0.01 0,0 -0.01,0 -0.01,0 0,0 -0.01,0 -0.01,0 0,0 -0.01,0 -0.01,0 -0.01,0 -0.01,0 -0.01,0 -0.01,0 -0.01,0 -0.01,0 -0.01,0 -0.01,0 c -0.61,-0.63 -1.49,-0.63 -1.81,-0.63 v -0.31 c 0.2,0 0.79,0 1.31,0.26 v -5.16 c 0,-0.36 -0.03,-0.48 -0.93,-0.48 h -0.32 v -0.31 c 0.35,0.04 1.22,0.04 1.62,0.04 0.39,0 1.26,0 1.61,-0.04 v 0.31 h -0.32 c -0.9,0 -0.93,0.11 -0.93,0.48 z\" id=\"path7210\" inkscape:connector-curvature=\"0\" style=\"fill:#000000;stroke-width:0\"/>\n",
        "<path d=\"m 249.05,710.11 0.01,0.01 0.01,0.01 0.01,0.01 0.01,0.01 0,0.01 0.01,0.01 0.01,0.01 0,0 0,0.01 0.01,0 0,0.01 0,0 0.01,0.01 0,0.01 0,0 0,0.01 0.01,0.01 0,0 0,0.01 0,0.01 0,0 0,0.01 0,0.01 0,0.01 0,0.01 0.01,0 c 0,0.08 -0.06,0.08 -0.19,0.08 h -3.26 c -0.18,0 -0.18,-0.01 -0.23,-0.14 l -0.39,-1.25 c -0.02,-0.08 -0.02,-0.09 -0.02,-0.11 0,-0.04 0.02,-0.1 0.12,-0.1 0.08,0 0.1,0.04 0.12,0.11 0.33,0.98 0.88,1.24 1.78,1.24 h 1.25 l -4.06,-4.19 c -0.05,-0.05 -0.12,-0.12 -0.12,-0.23 0,-0.08 0.06,-0.08 0.19,-0.08 h 3.37 c 0.18,0 0.19,0.01 0.23,0.14 l 0.5,1.55 c 0.03,0.09 0.03,0.1 0.03,0.11 0,0.01 0,0.1 -0.11,0.1 -0.09,0 -0.11,-0.03 -0.15,-0.18 -0.33,-0.95 -0.68,-1.44 -1.89,-1.44 h -1.33 z\" id=\"path7212\" inkscape:connector-curvature=\"0\" style=\"fill:#000000;stroke-width:0\"/>\n",
        "</g>      </g>\n",
        "      <g font-size-adjust=\"none\" font-stretch=\"normal\" font-style=\"normal\" font-variant=\"normal\" font-weight=\"normal\" id=\"content-3\" letter-spacing=\"normal\" ns0:preamble=\"\" ns0:text=\"$\\\\bf { e_s}$\" stroke-miterlimit=\"10.433\" style=\"font-style:normal;font-variant:normal;font-weight:normal;font-stretch:normal;letter-spacing:normal;word-spacing:normal;text-anchor:start;fill:none;stroke:#000000;stroke-linecap:butt;stroke-linejoin:miter;stroke-miterlimit:10.43299961;stroke-opacity:1;stroke-dasharray:none;stroke-dashoffset:0;display:inline\" transform=\"matrix(3.8394107,0,0,-3.8394107,-513.54556,2860.0426)\" word-spacing=\"normal\" xml:space=\"preserve\">\n",
        "<path d=\"m 228.04,709.29 0.02,0 0.02,0.01 0.02,0 0.01,0 0.02,0 0.02,0 0.01,0 0.02,0 0.01,0 0.02,0 0.01,0.01 0.01,0 0.02,0 0.01,0.01 0.01,0 0.01,0.01 0.01,0.01 0.01,0 0.01,0.01 0,0.01 0.01,0.01 0.01,0.01 0,0.01 0,0 0,0.01 0.01,0.01 0,0.01 0,0 0,0.01 0.01,0.01 0,0.01 0,0.01 0,0.01 0,0 0,0.01 0,0.01 0,0.01 0,0.02 0.01,0.01 0,0.01 0,0.01 0,0.01 c 0,0.31 -0.06,1.04 -0.56,1.54 -0.37,0.35 -0.9,0.53 -1.59,0.53 -1.59,0 -2.46,-1.02 -2.46,-2.27 0,-1.33 1,-2.29 2.6,-2.29 1.58,0 2.01,1.05 2.01,1.22 0,0.18 -0.19,0.18 -0.24,0.18 -0.17,0 -0.19,-0.05 -0.25,-0.21 -0.21,-0.48 -0.78,-0.8 -1.43,-0.8 -1.4,0 -1.41,1.33 -1.41,1.83 v 0.33 c 0.02,0.39 0.03,0.81 0.24,1.14 0.25,0.4 0.65,0.52 0.94,0.52 1.17,0 1.19,-1.31 1.2,-1.66 h -2.38 v -0.33 z\" id=\"path9433\" inkscape:connector-curvature=\"0\" style=\"fill:#000000;stroke-width:0\"/>\n",
        "<path d=\"m 231.69,708.56 0,0.01 0,0.01 0,0.02 0,0.01 0,0.01 0,0.01 0,0.01 0,0.01 0,0.01 0,0.01 0,0.01 -0.01,0.01 0,0.01 0,0.01 -0.01,0 0,0.01 0,0.01 -0.01,0.01 0,0 -0.01,0.01 -0.01,0 0,0.01 -0.01,0 0,0 -0.01,0.01 0,0 -0.01,0 0,0 -0.01,0 0,0 -0.01,0 0,0.01 -0.01,0 -0.01,0 0,0 -0.01,0 -0.01,0 0,0 -0.01,0 -0.01,0 -0.01,0 c -0.04,0 -0.06,0 -0.18,-0.06 -0.01,0 -0.1,-0.04 -0.13,-0.04 -0.01,0 -0.02,0 -0.05,0.01 -0.28,0.09 -0.58,0.09 -0.72,0.09 -0.2,0 -0.63,0 -0.98,-0.19 -0.39,-0.22 -0.45,-0.58 -0.45,-0.74 0,-0.75 0.92,-0.89 1.41,-0.97 0.42,-0.06 0.93,-0.14 0.93,-0.5 0,-0.47 -0.69,-0.47 -0.86,-0.47 -0.66,0 -0.9,0.3 -1.03,0.67 -0.05,0.12 -0.05,0.14 -0.23,0.14 -0.2,0 -0.22,-0.02 -0.22,-0.23 v -0.68 c 0,-0.14 0,-0.22 0.16,-0.22 0.06,0 0.08,0 0.22,0.09 0.04,0.02 0.16,0.08 0.2,0.11 0.36,-0.2 0.74,-0.2 0.9,-0.2 0.23,0 1.42,0 1.42,1.03 0,0.32 -0.16,0.54 -0.32,0.67 -0.33,0.27 -0.63,0.32 -1.21,0.41 -0.39,0.07 -0.81,0.13 -0.81,0.41 0,0.39 0.7,0.39 0.85,0.39 0.78,0 0.81,-0.32 0.83,-0.49 0.02,-0.14 0.06,-0.15 0.22,-0.15 0.2,0 0.22,0.02 0.22,0.22 z\" id=\"path9435\" inkscape:connector-curvature=\"0\" style=\"fill:#000000;stroke-width:0\"/>\n",
        "</g>      <g font-size-adjust=\"none\" font-stretch=\"normal\" font-style=\"normal\" font-variant=\"normal\" font-weight=\"normal\" id=\"g10101\" letter-spacing=\"normal\" ns0:preamble=\"\" ns0:text=\"$\\\\bf { e_x}$\" stroke-miterlimit=\"10.433\" style=\"font-style:normal;font-variant:normal;font-weight:normal;font-stretch:normal;letter-spacing:normal;word-spacing:normal;text-anchor:start;fill:none;stroke:#000000;stroke-linecap:butt;stroke-linejoin:miter;stroke-miterlimit:10.43299961;stroke-opacity:1;stroke-dasharray:none;stroke-dashoffset:0;display:inline\" transform=\"matrix(2.9570959,0,0,-2.9570959,-369.13785,2304.4378)\" word-spacing=\"normal\" xml:space=\"preserve\">\n",
        "<path d=\"m 228.04,709.29 0.02,0 0.02,0.01 0.02,0 0.01,0 0.02,0 0.02,0 0.01,0 0.02,0 0.01,0 0.02,0 0.01,0.01 0.01,0 0.02,0 0.01,0.01 0.01,0 0.01,0.01 0.01,0.01 0.01,0 0.01,0.01 0,0.01 0.01,0.01 0.01,0.01 0,0.01 0,0 0,0.01 0.01,0.01 0,0.01 0,0 0,0.01 0.01,0.01 0,0.01 0,0.01 0,0.01 0,0 0,0.01 0,0.01 0,0.01 0,0.02 0.01,0.01 0,0.01 0,0.01 0,0.01 c 0,0.31 -0.06,1.04 -0.56,1.54 -0.37,0.35 -0.9,0.53 -1.59,0.53 -1.59,0 -2.46,-1.02 -2.46,-2.27 0,-1.33 1,-2.29 2.6,-2.29 1.58,0 2.01,1.05 2.01,1.22 0,0.18 -0.19,0.18 -0.24,0.18 -0.17,0 -0.19,-0.05 -0.25,-0.21 -0.21,-0.48 -0.78,-0.8 -1.43,-0.8 -1.4,0 -1.41,1.33 -1.41,1.83 v 0.33 c 0.02,0.39 0.03,0.81 0.24,1.14 0.25,0.4 0.65,0.52 0.94,0.52 1.17,0 1.19,-1.31 1.2,-1.66 h -2.38 v -0.33 z\" id=\"path10103\" inkscape:connector-curvature=\"0\" style=\"fill:#000000;stroke-width:0\"/>\n",
        "<path d=\"m 231.43,707.31 0.97,0.97 c 0.16,0.05 0.34,0.05 0.64,0.05 v 0.39 c -0.22,-0.02 -0.45,-0.03 -0.67,-0.03 -0.24,0 -0.72,0.02 -0.78,0.03 v -0.39 c 0.09,0 0.14,-0.01 0.19,-0.04 l -0.65,-0.66 -0.68,0.7 h 0.19 v 0.39 c -0.04,0 -0.59,-0.03 -0.88,-0.03 -0.27,0 -0.53,0.01 -0.79,0.03 v -0.39 h 0.52 l 1.14,-1.19 -1,-1.01 c -0.09,-0.08 -0.1,-0.09 -0.31,-0.1 -0.11,-0.01 -0.36,-0.01 -0.39,-0.01 v -0.39 c 0.22,0.02 0.45,0.03 0.67,0.03 0.19,0 0.69,-0.02 0.78,-0.03 v 0.39 c -0.12,0 -0.14,0.01 -0.19,0.05 l 0.75,0.75 0.77,-0.8 h -0.18 v -0.39 c 0.01,0 0.57,0.03 0.89,0.03 0.25,0 0.52,-0.01 0.78,-0.03 v 0.39 h -0.52 z\" id=\"path10105\" inkscape:connector-curvature=\"0\" style=\"fill:#000000;stroke-width:0\"/>\n",
        "</g>      <g font-size-adjust=\"none\" font-stretch=\"normal\" font-style=\"normal\" font-variant=\"normal\" font-weight=\"normal\" id=\"g10298\" letter-spacing=\"normal\" ns0:preamble=\"\" ns0:text=\"$\\\\bf { e_r}$\" stroke-miterlimit=\"10.433\" style=\"font-style:normal;font-variant:normal;font-weight:normal;font-stretch:normal;letter-spacing:normal;word-spacing:normal;text-anchor:start;fill:none;stroke:#000000;stroke-linecap:butt;stroke-linejoin:miter;stroke-miterlimit:10.43299961;stroke-opacity:1;stroke-dasharray:none;stroke-dashoffset:0;display:inline\" transform=\"matrix(3.8394107,0,0,-3.8394107,-365.70983,2966.5784)\" word-spacing=\"normal\" xml:space=\"preserve\">\n",
        "<path d=\"m 228.04,709.29 0.02,0 0.02,0.01 0.02,0 0.01,0 0.02,0 0.02,0 0.01,0 0.02,0 0.01,0 0.02,0 0.01,0.01 0.01,0 0.02,0 0.01,0.01 0.01,0 0.01,0.01 0.01,0.01 0.01,0 0.01,0.01 0,0.01 0.01,0.01 0.01,0.01 0,0.01 0,0 0,0.01 0.01,0.01 0,0.01 0,0 0,0.01 0.01,0.01 0,0.01 0,0.01 0,0.01 0,0 0,0.01 0,0.01 0,0.01 0,0.02 0.01,0.01 0,0.01 0,0.01 0,0.01 c 0,0.31 -0.06,1.04 -0.56,1.54 -0.37,0.35 -0.9,0.53 -1.59,0.53 -1.59,0 -2.46,-1.02 -2.46,-2.27 0,-1.33 1,-2.29 2.6,-2.29 1.58,0 2.01,1.05 2.01,1.22 0,0.18 -0.19,0.18 -0.24,0.18 -0.17,0 -0.19,-0.05 -0.25,-0.21 -0.21,-0.48 -0.78,-0.8 -1.43,-0.8 -1.4,0 -1.41,1.33 -1.41,1.83 v 0.33 c 0.02,0.39 0.03,0.81 0.24,1.14 0.25,0.4 0.65,0.52 0.94,0.52 1.17,0 1.19,-1.31 1.2,-1.66 h -2.38 v -0.33 z\" id=\"path10300\" inkscape:connector-curvature=\"0\" style=\"fill:#000000;stroke-width:0\"/>\n",
        "<path d=\"m 230.37,707.09 0,0.06 0,0.06 0.01,0.06 0,0.06 0.01,0.06 0.01,0.05 0.01,0.06 0.01,0.06 0.02,0.06 0.01,0.05 0.02,0.06 0.02,0.05 0.02,0.06 0.03,0.05 0.02,0.05 0.03,0.05 0.03,0.04 0.03,0.05 0.03,0.04 0.04,0.04 0.03,0.04 0.04,0.04 0.04,0.03 0.04,0.03 0.05,0.03 0.04,0.03 0.05,0.02 0.05,0.02 0.05,0.01 0.06,0.02 0.05,0 0.06,0.01 c -0.01,-0.01 -0.1,-0.12 -0.1,-0.3 0,-0.27 0.2,-0.47 0.48,-0.47 0.27,0 0.47,0.2 0.47,0.47 0,0.38 -0.39,0.62 -0.82,0.62 -0.5,0 -0.84,-0.33 -1.02,-0.77 h -0.01 v 0.77 l -1.21,-0.06 v -0.38 c 0.41,0 0.46,0 0.46,-0.28 v -2.02 h -0.46 v -0.39 c 0.02,0 0.56,0.03 0.89,0.03 0.27,0 0.94,-0.03 0.99,-0.03 v 0.39 h -0.58 z\" id=\"path10302\" inkscape:connector-curvature=\"0\" style=\"fill:#000000;stroke-width:0\"/>\n",
        "</g>      <path d=\"M 817.0973,597.50181 816.15126,409.8481\" id=\"path6681\" inkscape:connector-curvature=\"0\" sodipodi:nodetypes=\"cc\" style=\"fill:none;stroke:#000000;stroke-width:2.29999995;stroke-linecap:butt;stroke-linejoin:miter;stroke-miterlimit:4;stroke-opacity:1;stroke-dasharray:none;marker-end:url(#TriangleOutM);display:inline\" transform=\"translate(-429.35253,-332.34999)\"/>\n",
        "      <path d=\"M 817.0973,597.50181 755.24633,535.46452\" id=\"path9956\" inkscape:connector-curvature=\"0\" sodipodi:nodetypes=\"cc\" style=\"fill:none;stroke:#000000;stroke-width:2.29999995;stroke-linecap:butt;stroke-linejoin:miter;stroke-miterlimit:4;stroke-opacity:1;stroke-dasharray:none;marker-end:url(#TriangleOutM);display:inline\" transform=\"translate(-429.35253,-332.34999)\"/>\n",
        "      <path d=\"M 817.98792,597.88605 1002.406,597.70133\" id=\"path9954\" inkscape:connector-curvature=\"0\" sodipodi:nodetypes=\"cc\" style=\"fill:none;stroke:#000000;stroke-width:2.29999995;stroke-linecap:butt;stroke-linejoin:miter;stroke-miterlimit:4;stroke-opacity:1;stroke-dasharray:none;marker-end:url(#TriangleOutM);display:inline\" transform=\"translate(-429.35253,-332.34999)\"/>\n",
        "      <g id=\"g7419\">\n",
        "        <text id=\"text5826\" sodipodi:linespacing=\"125%\" style=\"font-size:56px;font-style:normal;font-variant:normal;font-weight:normal;font-stretch:normal;text-align:start;line-height:125%;letter-spacing:0px;word-spacing:0px;writing-mode:lr-tb;text-anchor:start;fill:#000000;fill-opacity:1;stroke:none;display:inline;font-family:cmr10;-inkscape-font-specification:cmr10\" x=\"289.52609\" xml:space=\"preserve\" y=\"-257.31018\"><tspan id=\"tspan6336\" sodipodi:role=\"line\" x=\"289.52609\" y=\"-257.31018\">passive</tspan></text>\n",
        "        <text id=\"text5826-9\" sodipodi:linespacing=\"125%\" style=\"font-size:56px;font-style:normal;font-variant:normal;font-weight:normal;font-stretch:normal;text-align:start;line-height:125%;letter-spacing:0px;word-spacing:0px;writing-mode:lr-tb;text-anchor:start;fill:#000000;fill-opacity:1;stroke:none;display:inline;font-family:cmr10;-inkscape-font-specification:cmr10\" x=\"-138.82553\" xml:space=\"preserve\" y=\"-261.05746\"><tspan id=\"tspan5832-3\" sodipodi:role=\"line\" x=\"-138.82553\" y=\"-261.05746\">active</tspan></text>\n",
        "        <path d=\"m 155.1127,-318.22361 c 66,-10 75.57359,-26.14214 166.97056,9.65685\" id=\"path6342\" inkscape:connector-curvature=\"0\" sodipodi:nodetypes=\"cc\" style=\"fill:none;stroke:#000000;stroke-width:3.4000001;stroke-linecap:butt;stroke-linejoin:miter;stroke-miterlimit:4;stroke-opacity:1;stroke-dasharray:none;marker-start:none;marker-end:url(#Arrow1Mend);display:inline\"/>\n",
        "        <path d=\"m 122,-317.63782 c -68.688434,-10 -78.651993,-26.14214 -173.771913,9.65685\" id=\"path6992\" inkscape:connector-curvature=\"0\" sodipodi:nodetypes=\"cc\" style=\"fill:none;stroke:#000000;stroke-width:3.4685564;stroke-linecap:butt;stroke-linejoin:miter;stroke-miterlimit:4;stroke-opacity:1;stroke-dasharray:none;marker-start:none;marker-end:url(#Arrow1Mend);display:inline\"/>\n",
        "      </g>\n",
        "      <text id=\"text7429\" sodipodi:linespacing=\"125%\" style=\"font-size:56px;font-style:normal;font-variant:normal;font-weight:normal;font-stretch:normal;text-align:start;line-height:125%;letter-spacing:0px;word-spacing:0px;writing-mode:lr-tb;text-anchor:start;fill:#000000;fill-opacity:1;stroke:none;display:inline;font-family:cmr10;-inkscape-font-specification:cmr10\" transform=\"matrix(0.65751265,0.7534435,-0.7534435,0.65751265,0,0)\" x=\"178.71631\" xml:space=\"preserve\" y=\"373.18021\"><tspan id=\"tspan7431\" sodipodi:role=\"line\" x=\"178.71631\" y=\"373.18021\">capacitive</tspan></text>\n",
        "      <text id=\"text7433\" sodipodi:linespacing=\"125%\" style=\"font-size:56px;font-style:normal;font-variant:normal;font-weight:normal;font-stretch:normal;text-align:start;line-height:125%;letter-spacing:0px;word-spacing:0px;writing-mode:lr-tb;text-anchor:start;fill:#000000;fill-opacity:1;stroke:none;display:inline;font-family:cmr10;-inkscape-font-specification:cmr10\" transform=\"matrix(0.65751265,0.7534435,-0.7534435,0.65751265,0,0)\" x=\"-226.67628\" xml:space=\"preserve\" y=\"373.54184\"><tspan id=\"tspan7435\" sodipodi:role=\"line\" x=\"-226.67628\" y=\"373.54184\">inductive</tspan></text>\n",
        "      <path d=\"m -140.14564,298.69911 c 50.930268,43.15215 69.387216,39.75165 102.509364,132.15239\" id=\"path7437\" inkscape:connector-curvature=\"0\" sodipodi:nodetypes=\"cc\" style=\"fill:none;stroke:#000000;stroke-width:3.4000001;stroke-linecap:butt;stroke-linejoin:miter;stroke-miterlimit:4;stroke-opacity:1;stroke-dasharray:none;marker-start:none;marker-end:url(#Arrow1Mend);display:inline\"/>\n",
        "      <path d=\"M -162.35902,274.13573 C -199.9881,215.80775 -194.37708,197.68711 -283.89215,149.55791\" id=\"path7439\" inkscape:connector-curvature=\"0\" sodipodi:nodetypes=\"cc\" style=\"fill:none;stroke:#000000;stroke-width:3.4685564;stroke-linecap:butt;stroke-linejoin:miter;stroke-miterlimit:4;stroke-opacity:1;stroke-dasharray:none;marker-start:none;marker-end:url(#Arrow1Mend);display:inline\"/>\n",
        "    </g>\n",
        "  </g>\n",
        "  <g id=\"layer7\" inkscape:groupmode=\"layer\" inkscape:label=\"series reactance\" style=\"display:none\" transform=\"translate(439.35252,362.53207)\">\n",
        "    <path d=\"m 485.71428,185.21933 c 0,40.23789 -90.18265,72.85715 -201.42857,72.85715 -111.24593,0 -201.428578,-32.61926 -201.428578,-72.85715 0,-40.23789 90.182648,-72.85715 201.428578,-72.85715 111.24592,0 201.42857,32.61926 201.42857,72.85715 z\" id=\"path3364\" inkscape:transform-center-x=\"-101.03383\" inkscape:transform-center-y=\"100.56021\" sodipodi:cx=\"284.28571\" sodipodi:cy=\"185.21933\" sodipodi:rx=\"201.42857\" sodipodi:ry=\"72.857147\" sodipodi:type=\"arc\" style=\"fill:none;stroke:url(#linearGradient13846);stroke-width:6.66754389;stroke-miterlimit:4;stroke-opacity:0.83189655;stroke-dasharray:40.00526362, 13.33508787;stroke-dashoffset:0;marker-start:none;marker-mid:url(#Arrow2Mend-7-2);display:inline\" transform=\"matrix(-0.43584238,-0.46469013,0.4625399,0.10608022,526.01301,276.23094)\"/>\n",
        "    <g id=\"g8642\" transform=\"translate(15,0)\">\n",
        "      <path d=\"M 892.71307,-84.718545 C 905.44107,62.35967 802.20343,169.8399 525.01757,178.32519\" id=\"path5834\" inkscape:connector-curvature=\"0\" sodipodi:nodetypes=\"cc\" style=\"fill:none;stroke:#000000;stroke-width:3.79999995;stroke-linecap:butt;stroke-linejoin:miter;stroke-miterlimit:4;stroke-opacity:1;stroke-dasharray:none;marker-end:url(#Arrow1Mend);display:inline\"/>\n",
        "      <text id=\"text5826-1\" sodipodi:linespacing=\"125%\" style=\"font-size:56px;font-style:normal;font-variant:normal;font-weight:normal;font-stretch:normal;text-align:start;line-height:125%;letter-spacing:0px;word-spacing:0px;writing-mode:lr-tb;text-anchor:start;fill:#000000;fill-opacity:1;stroke:none;display:inline;font-family:cmr10;-inkscape-font-specification:cmr10\" x=\"585.82874\" xml:space=\"preserve\" y=\"-105.93175\"><tspan id=\"tspan8452\" sodipodi:role=\"line\" x=\"585.82874\" y=\"-105.93175\">series reactance path</tspan></text>\n",
        "    </g>\n",
        "    <path d=\"m 777.98554,453.4908 -143.25,-142.74999 -143.25001,-142.75 -143.25,-142.750003\" id=\"path13603\" inkscape:connector-curvature=\"0\" sodipodi:nodetypes=\"cccc\" style=\"fill:none;stroke:url(#linearGradient13870);stroke-width:3;stroke-linecap:butt;stroke-linejoin:miter;stroke-miterlimit:4;stroke-opacity:0.83189655;stroke-dasharray:24, 24;stroke-dashoffset:0;marker-start:url(#Arrow2Mend-7-2);marker-mid:url(#Arrow2Mend-7-2);marker-end:url(#Arrow2Mend-7-2);display:inline\"/>\n",
        "  </g>\n",
        "  <g id=\"layer10\" inkscape:groupmode=\"layer\" inkscape:label=\"series resistance\" style=\"display:none\" transform=\"translate(439.35252,362.53207)\">\n",
        "    <path d=\"m 485.71428,185.21933 c 0,40.23789 -90.18265,72.85715 -201.42857,72.85715 -111.24593,0 -201.428578,-32.61926 -201.428578,-72.85715 0,-40.23789 90.182648,-72.85715 201.428578,-72.85715 111.24592,0 201.42857,32.61926 201.42857,72.85715 z\" id=\"path12068\" sodipodi:cx=\"284.28571\" sodipodi:cy=\"185.21933\" sodipodi:rx=\"201.42857\" sodipodi:ry=\"72.857147\" sodipodi:type=\"arc\" style=\"fill:none;stroke:#000000;stroke-width:3.85136485;stroke-miterlimit:4;stroke-opacity:0.83189655;stroke-dasharray:23.10818961, 7.70272987;stroke-dashoffset:0;marker-start:none;marker-mid:url(#Arrow2Mend);display:inline\" transform=\"matrix(-0.09183536,-0.66895842,-1.6601487,-0.1568852,758.46612,419.67001)\"/>\n",
        "    <path d=\"m 28.284271,337.59855 202.232539,-0.35355 202.23254,-0.35356 202.23254,-0.35356 202.23254,-0.35355\" id=\"path12075\" inkscape:connector-curvature=\"0\" sodipodi:nodetypes=\"ccccc\" style=\"fill:none;stroke:#000000;stroke-width:3;stroke-linecap:butt;stroke-linejoin:miter;stroke-miterlimit:4;stroke-opacity:1;stroke-dasharray:24, 24;stroke-dashoffset:0;marker-start:url(#Arrow2Mend-7-2);marker-mid:url(#Arrow2Mend-7-2);marker-end:url(#Arrow2Mend-7-2)\"/>\n",
        "    <g id=\"g8642-8\" style=\"display:inline\" transform=\"translate(22.161896,11.66879)\">\n",
        "      <path d=\"M 892.71307,-84.718545 C 905.44107,62.35967 802.20343,169.8399 525.01757,178.32519\" id=\"path5834-8\" inkscape:connector-curvature=\"0\" sodipodi:nodetypes=\"cc\" style=\"fill:none;stroke:#000000;stroke-width:3.79999995;stroke-linecap:butt;stroke-linejoin:miter;stroke-miterlimit:4;stroke-opacity:1;stroke-dasharray:none;marker-end:url(#Arrow1Mend);display:inline\"/>\n",
        "      <text id=\"text5826-1-3\" sodipodi:linespacing=\"125%\" style=\"font-size:56px;font-style:normal;font-variant:normal;font-weight:normal;font-stretch:normal;text-align:start;line-height:125%;letter-spacing:0px;word-spacing:0px;writing-mode:lr-tb;text-anchor:start;fill:#000000;fill-opacity:1;stroke:none;display:inline;font-family:cmr10;-inkscape-font-specification:cmr10\" x=\"585.82874\" xml:space=\"preserve\" y=\"-105.93175\"><tspan id=\"tspan8452-8\" sodipodi:role=\"line\" x=\"585.82874\" y=\"-105.93175\">series resistance path</tspan></text>\n",
        "    </g>\n",
        "  </g>\n",
        "  <g id=\"layer8\" inkscape:groupmode=\"layer\" inkscape:label=\"series tline\" style=\"display:none\" transform=\"translate(439.35252,362.53207)\">\n",
        "    <path d=\"m 485.71428,185.21933 c 0,40.23789 -90.18265,72.85715 -201.42857,72.85715 -111.24593,0 -201.428578,-32.61926 -201.428578,-72.85715 0,-40.23789 90.182648,-72.85715 201.428578,-72.85715 111.24592,0 201.42857,32.61926 201.42857,72.85715 z\" id=\"path8636\" sodipodi:cx=\"284.28571\" sodipodi:cy=\"185.21933\" sodipodi:rx=\"201.42857\" sodipodi:ry=\"72.857147\" sodipodi:type=\"arc\" style=\"fill:none;stroke:url(#linearGradient8640);stroke-width:6.37968969;stroke-miterlimit:4;stroke-opacity:1;stroke-dasharray:38.27813814, 12.75937938;stroke-dashoffset:0;marker-start:none;marker-mid:url(#Arrow2Mend);display:inline\" transform=\"matrix(0.04159406,-0.71553304,0.45926654,0.59893507,421.79009,355.08729)\"/>\n",
        "    <path d=\"M 892.71307,-84.718545 C 905.44107,62.35967 833.31613,192.46732 556.13027,200.95261\" id=\"path8649\" inkscape:connector-curvature=\"0\" sodipodi:nodetypes=\"cc\" style=\"fill:none;stroke:#000000;stroke-width:3.79999995;stroke-linecap:butt;stroke-linejoin:miter;stroke-miterlimit:4;stroke-opacity:1;stroke-dasharray:none;marker-end:url(#Arrow1Mend);display:inline\"/>\n",
        "    <text id=\"text8651\" sodipodi:linespacing=\"125%\" style=\"font-size:56px;font-style:normal;font-variant:normal;font-weight:normal;font-stretch:normal;text-align:start;line-height:125%;letter-spacing:0px;word-spacing:0px;writing-mode:lr-tb;text-anchor:start;fill:#000000;fill-opacity:1;stroke:none;display:inline;font-family:cmr10;-inkscape-font-specification:cmr10\" x=\"585.82874\" xml:space=\"preserve\" y=\"-105.93175\"><tspan id=\"tspan8653\" sodipodi:role=\"line\" x=\"585.82874\" y=\"-105.93175\">series tline path</tspan></text>\n",
        "  </g>\n",
        "  <g id=\"layer9\" inkscape:groupmode=\"layer\" inkscape:label=\"rotations\" style=\"display:none\" transform=\"translate(439.35252,362.53207)\">\n",
        "    <path d=\"M -9.5459411,307.42518 C -32.390029,222.57237 5.9763059,174.47875 31.791531,211.25866 c 23.822722,33.94112 33.395252,70.71069 33.395252,70.71069\" id=\"path8662\" inkscape:connector-curvature=\"0\" sodipodi:nodetypes=\"csc\" style=\"fill:none;stroke:#000000;stroke-width:8.11100006;stroke-linecap:butt;stroke-linejoin:miter;stroke-miterlimit:4;stroke-opacity:1;stroke-dasharray:none;marker-start:none;marker-end:url(#Arrow2Mend-7);display:inline\"/>\n",
        "    <path d=\"m 523.58153,505.76416 c -37.24556,-81.92356 24.49925,-132.88594 77.29711,-122.68034 61.09713,11.80981 57.03658,66.83647 38.89208,104.61225\" id=\"path8662-6\" inkscape:connector-curvature=\"0\" sodipodi:nodetypes=\"csc\" style=\"fill:none;stroke:#000000;stroke-width:10.3567791;stroke-linecap:butt;stroke-linejoin:miter;stroke-miterlimit:4;stroke-opacity:1;stroke-dasharray:none;marker-start:none;marker-end:url(#Arrow2Mend-7);display:inline\"/>\n",
        "    <text id=\"text8651-1\" sodipodi:linespacing=\"125%\" style=\"font-size:56px;font-style:normal;font-variant:normal;font-weight:normal;font-stretch:normal;text-align:start;line-height:125%;letter-spacing:0px;word-spacing:0px;writing-mode:lr-tb;text-anchor:start;fill:#000000;fill-opacity:1;stroke:none;display:inline;font-family:cmr10;-inkscape-font-specification:cmr10\" x=\"758.92969\" xml:space=\"preserve\" y=\"586.36218\"><tspan id=\"tspan10056\" sodipodi:role=\"line\" x=\"758.92969\" y=\"586.36218\">basis rotation </tspan></text>\n",
        "    <text id=\"text8651-1-1\" sodipodi:linespacing=\"125%\" style=\"font-size:56px;font-style:normal;font-variant:normal;font-weight:normal;font-stretch:normal;text-align:center;line-height:125%;letter-spacing:0px;word-spacing:0px;writing-mode:lr-tb;text-anchor:middle;fill:#000000;fill-opacity:1;stroke:none;display:inline;font-family:cmr10;-inkscape-font-specification:cmr10\" x=\"-355.69281\" xml:space=\"preserve\" y=\"225.34343\"><tspan id=\"tspan10056-6\" sodipodi:role=\"line\" x=\"-355.69281\" y=\"225.34343\">series tline</tspan><tspan id=\"tspan10085\" sodipodi:role=\"line\" x=\"-346.34125\" y=\"295.34344\">rotation </tspan></text>\n",
        "    <path d=\"M -31.857864,227.67589 C -116.60303,178.28606 -124.90454,213.33988 -178.52691,266.72257\" id=\"path10097\" inkscape:connector-curvature=\"0\" sodipodi:nodetypes=\"cc\" style=\"fill:none;stroke:#000000;stroke-width:2.4000001;stroke-linecap:butt;stroke-linejoin:miter;stroke-miterlimit:4;stroke-opacity:1;stroke-dasharray:none;marker-start:none;marker-end:url(#DotM)\"/>\n",
        "    <path d=\"m 675.56985,487.38634 c 82.27482,25.7989 -50.6549,103.80645 70.66656,81.86967\" id=\"path10097-4\" inkscape:connector-curvature=\"0\" sodipodi:nodetypes=\"cc\" style=\"fill:none;stroke:#000000;stroke-width:2.4000001;stroke-linecap:butt;stroke-linejoin:miter;stroke-miterlimit:4;stroke-opacity:1;stroke-dasharray:none;marker-start:none;marker-end:url(#DotM);display:inline\"/>\n",
        "  </g>\n",
        "</svg>"
       ],
       "text": [
        "<IPython.core.display.SVG at 0xd15e6d0>"
       ]
      }
     ],
     "prompt_number": 1
    },
    {
     "cell_type": "code",
     "collapsed": false,
     "input": [
      "from GA.ga import Ga\n",
      "\n",
      "from sympy import * \n",
      "\n",
      "(ga,er,ex,es) = Ga.build('e_r e_x e_s',g=[1,1,1])\n",
      "(gaz,zr,zx) = Ga.build('z_r z_x',g=[1,1])\n",
      "\n",
      "Bz = er^ex # impedance plance \n",
      "Bs = es^ex # reflection coefficient plane\n",
      "Bx = er^es\n",
      "ZERO = er|ex # this is dumb\n",
      "I = ga.I()\n",
      "\n",
      "def down(p, N):\n",
      "    '''\n",
      "    stereographically project a vector in G3 downto the bivector N\n",
      "    '''\n",
      "    n= -1*N.dual()\n",
      "    return -(n^p)*(n-n*(n|p)).inv() \n",
      "\n",
      "def up(p):\n",
      "    '''\n",
      "    stereographically project a vector in G2 upto the space G3\n",
      "    '''\n",
      "    if p^Bz == ZERO:\n",
      "        N = Bz\n",
      "    elif  p^Bs == ZERO:\n",
      "        N = Bs\n",
      "        \n",
      "    n = -N.dual()\n",
      "    \n",
      "    return   n + 2*(p*p + 1).inv()*(p-n)\n",
      "    \n",
      "a,b,c,z,s,n = [ga.mv(k,'vector') for k in ['a','b','c','z','s' ,'n']]"
     ],
     "language": "python",
     "metadata": {},
     "outputs": [],
     "prompt_number": 2
    },
    {
     "cell_type": "markdown",
     "metadata": {},
     "source": [
      "\n",
      "\n",
      "Starting with an impedance vector $z$, defined by a vector in the impedance plane  $B_z$, this vector has two scalar components ( $z^r$, $z^x$) known as resistance and reactance"
     ]
    },
    {
     "cell_type": "code",
     "collapsed": false,
     "input": [
      "Bz.dual()"
     ],
     "language": "python",
     "metadata": {},
     "outputs": [
      {
       "latex": [
        "\\begin{equation*} -1 \\boldsymbol{e_{s}} \\end{equation*}"
       ],
       "metadata": {},
       "output_type": "pyout",
       "prompt_number": 3,
       "text": [
        "<GA.mv.Mv at 0xd371fd0>"
       ]
      }
     ],
     "prompt_number": 3
    },
    {
     "cell_type": "code",
     "collapsed": false,
     "input": [
      "z = z.proj([er,ex])\n",
      "z"
     ],
     "language": "python",
     "metadata": {},
     "outputs": [
      {
       "latex": [
        "\\begin{equation*} z^{r} \\boldsymbol{e_{r}} + z^{x} \\boldsymbol{e_{x}} \\end{equation*}"
       ],
       "metadata": {},
       "output_type": "pyout",
       "prompt_number": 4,
       "text": [
        "<GA.mv.Mv at 0xe69e3d0>"
       ]
      }
     ],
     "prompt_number": 4
    },
    {
     "cell_type": "markdown",
     "metadata": {},
     "source": [
      "stereographically  up-projecting this onto the sphere to point $p$, "
     ]
    },
    {
     "cell_type": "code",
     "collapsed": false,
     "input": [
      "p = up(z)\n",
      "p"
     ],
     "language": "python",
     "metadata": {},
     "outputs": [
      {
       "latex": [
        "\\begin{equation*} \\frac{2 z^{r}}{{\\left ( z^{r} \\right )}^{2} + {\\left ( z^{x} \\right )}^{2} + 1} \\boldsymbol{e_{r}} + \\frac{2 z^{x}}{{\\left ( z^{r} \\right )}^{2} + {\\left ( z^{x} \\right )}^{2} + 1} \\boldsymbol{e_{x}} + \\frac{{\\left ( z^{r} \\right )}^{2} + {\\left ( z^{x} \\right )}^{2} - 1}{{\\left ( z^{r} \\right )}^{2} + {\\left ( z^{x} \\right )}^{2} + 1} \\boldsymbol{e_{s}} \\end{equation*}"
       ],
       "metadata": {},
       "output_type": "pyout",
       "prompt_number": 5,
       "text": [
        "<GA.mv.Mv at 0xe69eb90>"
       ]
      }
     ],
     "prompt_number": 5
    },
    {
     "cell_type": "code",
     "collapsed": false,
     "input": [
      "p.norm2()"
     ],
     "language": "python",
     "metadata": {},
     "outputs": [
      {
       "latex": [
        "\\begin{equation*} 1 \\end{equation*}"
       ],
       "metadata": {},
       "output_type": "pyout",
       "prompt_number": 6,
       "text": [
        "<GA.mv.Mv at 0xe713590>"
       ]
      }
     ],
     "prompt_number": 6
    },
    {
     "cell_type": "markdown",
     "metadata": {},
     "source": [
      "If we stereo-project this back onto the impedance plane"
     ]
    },
    {
     "cell_type": "code",
     "collapsed": false,
     "input": [
      "down(p, Bz)"
     ],
     "language": "python",
     "metadata": {},
     "outputs": [
      {
       "latex": [
        "\\begin{equation*} z^{r} \\boldsymbol{e_{r}} + z^{x} \\boldsymbol{e_{x}} \\end{equation*}"
       ],
       "metadata": {},
       "output_type": "pyout",
       "prompt_number": 7,
       "text": [
        "<GA.mv.Mv at 0xe835b50>"
       ]
      }
     ],
     "prompt_number": 7
    },
    {
     "cell_type": "code",
     "collapsed": false,
     "input": [
      "down(p,Bs).simplify()"
     ],
     "language": "python",
     "metadata": {},
     "outputs": [
      {
       "latex": [
        "\\begin{equation*} \\frac{2 z^{x}}{{\\left ( z^{r} \\right )}^{2} + 2 z^{r} + {\\left ( z^{x} \\right )}^{2} + 1} \\boldsymbol{e_{x}} + \\frac{{\\left ( z^{r} \\right )}^{2} + {\\left ( z^{x} \\right )}^{2} - 1}{{\\left ( z^{r} \\right )}^{2} + 2 z^{r} + {\\left ( z^{x} \\right )}^{2} + 1} \\boldsymbol{e_{s}} \\end{equation*}"
       ],
       "metadata": {},
       "output_type": "pyout",
       "prompt_number": 8,
       "text": [
        "<GA.mv.Mv at 0xe886650>"
       ]
      }
     ],
     "prompt_number": 8
    },
    {
     "cell_type": "code",
     "collapsed": false,
     "input": [
      "(z-er)*(z+er).inv()"
     ],
     "language": "python",
     "metadata": {},
     "outputs": [
      {
       "latex": [
        "\\begin{equation*} \\frac{{\\left ( z^{r} \\right )}^{2} + {\\left ( z^{x} \\right )}^{2} - 1}{{\\left ( z^{r} \\right )}^{2} + 2 z^{r} + {\\left ( z^{x} \\right )}^{2} + 1}  - \\frac{2 z^{x}}{{\\left ( z^{r} \\right )}^{2} + 2 z^{r} + {\\left ( z^{x} \\right )}^{2} + 1} \\boldsymbol{e_{r}\\wedge e_{x}} \\end{equation*}"
       ],
       "metadata": {},
       "output_type": "pyout",
       "prompt_number": 9,
       "text": [
        "<GA.mv.Mv at 0xe835d50>"
       ]
      }
     ],
     "prompt_number": 9
    },
    {
     "cell_type": "code",
     "collapsed": false,
     "input": [
      "p"
     ],
     "language": "python",
     "metadata": {},
     "outputs": [
      {
       "latex": [
        "\\begin{equation*} \\frac{2 z^{r}}{{\\left ( z^{r} \\right )}^{2} + {\\left ( z^{x} \\right )}^{2} + 1} \\boldsymbol{e_{r}} + \\frac{2 z^{x}}{{\\left ( z^{r} \\right )}^{2} + {\\left ( z^{x} \\right )}^{2} + 1} \\boldsymbol{e_{x}} + \\frac{{\\left ( z^{r} \\right )}^{2} + {\\left ( z^{x} \\right )}^{2} - 1}{{\\left ( z^{r} \\right )}^{2} + {\\left ( z^{x} \\right )}^{2} + 1} \\boldsymbol{e_{s}} \\end{equation*}"
       ],
       "metadata": {},
       "output_type": "pyout",
       "prompt_number": 10,
       "text": [
        "<GA.mv.Mv at 0xe69eb90>"
       ]
      }
     ],
     "prompt_number": 10
    },
    {
     "cell_type": "code",
     "collapsed": false,
     "input": [
      "R=((-pi/4)*Bx).exp()\n",
      "R"
     ],
     "language": "python",
     "metadata": {},
     "outputs": [
      {
       "latex": [
        "\\begin{equation*} \\frac{\\sqrt{2}}{2}  - \\frac{\\sqrt{2}}{2} \\boldsymbol{e_{r}\\wedge e_{s}} \\end{equation*}"
       ],
       "metadata": {},
       "output_type": "pyout",
       "prompt_number": 11,
       "text": [
        "<GA.mv.Mv at 0xe675290>"
       ]
      }
     ],
     "prompt_number": 11
    },
    {
     "cell_type": "code",
     "collapsed": false,
     "input": [
      "R*p*R.rev()"
     ],
     "language": "python",
     "metadata": {},
     "outputs": [
      {
       "latex": [
        "\\begin{equation*} \\frac{- {\\left ( z^{r} \\right )}^{2} - {\\left ( z^{x} \\right )}^{2} + 1}{{\\left ( z^{r} \\right )}^{2} + {\\left ( z^{x} \\right )}^{2} + 1} \\boldsymbol{e_{r}} + \\frac{2 z^{x}}{{\\left ( z^{r} \\right )}^{2} + {\\left ( z^{x} \\right )}^{2} + 1} \\boldsymbol{e_{x}} + \\frac{2 z^{r}}{{\\left ( z^{r} \\right )}^{2} + {\\left ( z^{x} \\right )}^{2} + 1} \\boldsymbol{e_{s}} \\end{equation*}"
       ],
       "metadata": {},
       "output_type": "pyout",
       "prompt_number": 12,
       "text": [
        "<GA.mv.Mv at 0xe8a2ed0>"
       ]
      }
     ],
     "prompt_number": 12
    },
    {
     "cell_type": "code",
     "collapsed": false,
     "input": [
      "down(R*p*R.rev(),Bz)"
     ],
     "language": "python",
     "metadata": {},
     "outputs": [
      {
       "latex": [
        "\\begin{equation*} \\frac{- {\\left ( z^{r} \\right )}^{2} - {\\left ( z^{x} \\right )}^{2} + 1}{{\\left ( z^{r} \\right )}^{2} - 2 z^{r} + {\\left ( z^{x} \\right )}^{2} + 1} \\boldsymbol{e_{r}} + \\frac{2 z^{x}}{{\\left ( z^{r} \\right )}^{2} - 2 z^{r} + {\\left ( z^{x} \\right )}^{2} + 1} \\boldsymbol{e_{x}} \\end{equation*}"
       ],
       "metadata": {},
       "output_type": "pyout",
       "prompt_number": 13,
       "text": [
        "<GA.mv.Mv at 0xe8a2d90>"
       ]
      }
     ],
     "prompt_number": 13
    }
   ],
   "metadata": {}
  }
 ]
}