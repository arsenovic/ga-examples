{
 "metadata": {
  "name": "",
  "signature": "sha256:2c83e041ef4dda06e6c18a8139a265fd174c2c136f1f7176182cecbd90fede03"
 },
 "nbformat": 3,
 "nbformat_minor": 0,
 "worksheets": [
  {
   "cells": [
    {
     "cell_type": "code",
     "collapsed": false,
     "input": [
      "from sympy import * \n",
      "init_printing()\n",
      "from galgebra.ga import Ga\n",
      "\n",
      "def augment(ga,sym='n',sig=1):\n",
      "    '''\n",
      "    augments an existing Geometric Algebra by a single dimension of specified\n",
      "    signature\n",
      "    '''\n",
      "    \n",
      "    g = ga.g\n",
      "    g_proj =  eye(len(ga.basis)+1)*sig\n",
      "    for m in range(0,shape(g)[0]):\n",
      "        for n in range(0,shape(g)[1]):\n",
      "            g_proj[m,n] = g[m,n]\n",
      "    basis = ' '.join([str(k) for k in ga.basis] +[sym])\n",
      "    \n",
      "    \n",
      "    GA =  Ga(basis, g=g_proj) \n",
      "    GA.ga_orginal = ga\n",
      "    return GA"
     ],
     "language": "python",
     "metadata": {},
     "outputs": [],
     "prompt_number": 1
    },
    {
     "cell_type": "code",
     "collapsed": false,
     "input": [
      "affine =  lambda ga: augment(ga, 'n',0)\n",
      "projective = lambda ga: augment(ga, 'n',1)\n",
      "conformal = lambda ga: augment(augment(ga, 'n_+',1),'n_-',-1)"
     ],
     "language": "python",
     "metadata": {},
     "outputs": [],
     "prompt_number": 3
    },
    {
     "cell_type": "code",
     "collapsed": false,
     "input": [
      "# euclidean geometries\n",
      "ge2 = Ga('e1 e2',g=[1,1])\n",
      "ge3 = Ga('e1 e2 e3',g=[1,1,1])\n",
      "\n",
      "# projective  geometries \n",
      "gp2 = projective(ge2)\n",
      "gp3 = projective(ge3)\n",
      "\n",
      "# conformal  geometries \n",
      "gc2 = conformal(ge2)\n",
      "gc3 = conformal(ge3)"
     ],
     "language": "python",
     "metadata": {},
     "outputs": [],
     "prompt_number": 5
    },
    {
     "cell_type": "code",
     "collapsed": false,
     "input": [
      "gc3.mv('x', 'vector')"
     ],
     "language": "python",
     "metadata": {},
     "outputs": [
      {
       "latex": [
        "\\begin{equation*} x = x^{1} e_{1} + x^{2} e_{2} + x^{3} e_{3} + x^{4} n_{+} + x^{5} n_{-} \\end{equation*}"
       ],
       "metadata": {},
       "output_type": "pyout",
       "prompt_number": 6,
       "text": [
        "x__1*e1 + x__2*e2 + x__3*e3 + x__4*n_+ + x__5*n_-"
       ]
      }
     ],
     "prompt_number": 6
    },
    {
     "cell_type": "code",
     "collapsed": false,
     "input": [
      "gp2.mv('p','vector')"
     ],
     "language": "python",
     "metadata": {},
     "outputs": [
      {
       "latex": [
        "\\begin{equation*} p = p^{1} e_{1} + p^{2} e_{2} + p^{3} n \\end{equation*}"
       ],
       "metadata": {},
       "output_type": "pyout",
       "prompt_number": 7,
       "text": [
        "p__1*e1 + p__2*e2 + p__3*n"
       ]
      }
     ],
     "prompt_number": 7
    },
    {
     "cell_type": "code",
     "collapsed": false,
     "input": [
      "alpha=ge3.mv('alpha','scalar')\n",
      "a=ge3.mv('a','vector')\n",
      "B = ge3.mv('B','bivector')"
     ],
     "language": "python",
     "metadata": {},
     "outputs": [],
     "prompt_number": 22
    },
    {
     "cell_type": "code",
     "collapsed": false,
     "input": [
      "R = alpha+B\n",
      "R"
     ],
     "language": "python",
     "metadata": {},
     "outputs": [
      {
       "latex": [
        "\\begin{equation*} \\alpha   + B^{12} e_{1}\\wedge e_{2} + B^{13} e_{1}\\wedge e_{3} + B^{23} e_{2}\\wedge e_{3} \\end{equation*}"
       ],
       "metadata": {},
       "output_type": "pyout",
       "prompt_number": 31,
       "text": [
        "alpha + B__12*e1^e2 + B__13*e1^e3 + B__23*e2^e3"
       ]
      }
     ],
     "prompt_number": 31
    },
    {
     "cell_type": "code",
     "collapsed": false,
     "input": [
      "e1,e2,e3 = ge3.mv()\n",
      "e12= e1*e2\n",
      "e12*a*e12\n"
     ],
     "language": "python",
     "metadata": {},
     "outputs": [
      {
       "latex": [
        "\\begin{equation*} a^{1} e_{1} + a^{2} e_{2} - a^{3} e_{3} \\end{equation*}"
       ],
       "metadata": {},
       "output_type": "pyout",
       "prompt_number": 32,
       "text": [
        "a__1*e1 + a__2*e2 - a__3*e3"
       ]
      }
     ],
     "prompt_number": 32
    },
    {
     "cell_type": "code",
     "collapsed": false,
     "input": [
      "-e3*a*e3"
     ],
     "language": "python",
     "metadata": {},
     "outputs": [
      {
       "latex": [
        "\\begin{equation*} a^{1} e_{1} + a^{2} e_{2} - a^{3} e_{3} \\end{equation*}"
       ],
       "metadata": {},
       "output_type": "pyout",
       "prompt_number": 33,
       "text": [
        "a__1*e1 + a__2*e2 - a__3*e3"
       ]
      }
     ],
     "prompt_number": 33
    },
    {
     "cell_type": "code",
     "collapsed": false,
     "input": [
      "I = e1*e2*e3\n",
      "I\n"
     ],
     "language": "python",
     "metadata": {},
     "outputs": [
      {
       "latex": [
        "\\begin{equation*}  e_{1}\\wedge e_{2}\\wedge e_{3} \\end{equation*}"
       ],
       "metadata": {},
       "output_type": "pyout",
       "prompt_number": 36,
       "text": [
        "e1^e2^e3"
       ]
      }
     ],
     "prompt_number": 36
    },
    {
     "cell_type": "code",
     "collapsed": false,
     "input": [
      "I*e3"
     ],
     "language": "python",
     "metadata": {},
     "outputs": [
      {
       "latex": [
        "\\begin{equation*}  e_{1}\\wedge e_{2} \\end{equation*}"
       ],
       "metadata": {},
       "output_type": "pyout",
       "prompt_number": 41,
       "text": [
        "e1^e2"
       ]
      }
     ],
     "prompt_number": 41
    },
    {
     "cell_type": "code",
     "collapsed": false,
     "input": [
      "b = R*a*R.rev()\n",
      "b"
     ],
     "language": "python",
     "metadata": {},
     "outputs": [
      {
       "latex": [
        "\\begin{equation*} \\left ( - {\\left ( B^{12} \\right )}^{2} a^{1} + 2 B^{12} B^{23} a^{3} + 2 B^{12} a^{2} \\alpha  - {\\left ( B^{13} \\right )}^{2} a^{1} - 2 B^{13} B^{23} a^{2} + 2 B^{13} a^{3} \\alpha  + {\\left ( B^{23} \\right )}^{2} a^{1} + a^{1} \\alpha ^{2}\\right ) e_{1} + \\left ( - {\\left ( B^{12} \\right )}^{2} a^{2} - 2 B^{12} B^{13} a^{3} - 2 B^{12} a^{1} \\alpha  + {\\left ( B^{13} \\right )}^{2} a^{2} - 2 B^{13} B^{23} a^{1} - {\\left ( B^{23} \\right )}^{2} a^{2} + 2 B^{23} a^{3} \\alpha  + a^{2} \\alpha ^{2}\\right ) e_{2} + \\left ( {\\left ( B^{12} \\right )}^{2} a^{3} - 2 B^{12} B^{13} a^{2} + 2 B^{12} B^{23} a^{1} - {\\left ( B^{13} \\right )}^{2} a^{3} - 2 B^{13} a^{1} \\alpha  - {\\left ( B^{23} \\right )}^{2} a^{3} - 2 B^{23} a^{2} \\alpha  + a^{3} \\alpha ^{2}\\right ) e_{3} \\end{equation*}"
       ],
       "metadata": {},
       "output_type": "pyout",
       "prompt_number": 29,
       "text": [
        "(-B__12**2*a__1 + 2*B__12*B__23*a__3 + 2*B__12*a__2*alpha - B__13**2*a__1 - 2*B__13*B__23*a__2 + 2*B__13*a__3*alpha + B__23**2*a__1 + a__1*alpha**2)*e1 + (-B__12**2*a__2 - 2*B__12*B__13*a__3 - 2*B__12*a__1*alpha + B__13**2*a__2 - 2*B__13*B__23*a__1 - B__23**2*a__2 + 2*B__23*a__3*alpha + a__2*alpha**2)*e2 + (B__12**2*a__3 - 2*B__12*B__13*a__2 + 2*B__12*B__23*a__1 - B__13**2*a__3 - 2*B__13*a__1*alpha - B__23**2*a__3 - 2*B__23*a__2*alpha + a__3*alpha**2)*e3"
       ]
      }
     ],
     "prompt_number": 29
    },
    {
     "cell_type": "heading",
     "level": 2,
     "metadata": {},
     "source": [
      "asfeas"
     ]
    },
    {
     "cell_type": "code",
     "collapsed": false,
     "input": [
      "ge3,e1,e2,e3 = Ga.build('e1 e2 e3',g=[1,1,1])"
     ],
     "language": "python",
     "metadata": {},
     "outputs": [],
     "prompt_number": 31
    },
    {
     "cell_type": "code",
     "collapsed": false,
     "input": [
      "a= ge3.mv('a','vector')\n",
      "b= ge3.mv('b','vector')\n",
      "\n"
     ],
     "language": "python",
     "metadata": {},
     "outputs": [
      {
       "latex": [
        "\\begin{equation*} \\left ( - a^{2} b^{3} + a^{3} b^{2}\\right ) e_{1} + \\left ( a^{1} b^{3} - a^{3} b^{1}\\right ) e_{2} + \\left ( - a^{1} b^{2} + a^{2} b^{1}\\right ) e_{3} \\end{equation*}"
       ],
       "metadata": {},
       "output_type": "pyout",
       "prompt_number": 39,
       "text": [
        "(-a__2*b__3 + a__3*b__2)*e1 + (a__1*b__3 - a__3*b__1)*e2 + (-a__1*b__2 + a__2*b__1)*e3"
       ]
      }
     ],
     "prompt_number": 39
    },
    {
     "cell_type": "code",
     "collapsed": false,
     "input": [
      "e12 = e1*e2\n",
      "e13 = e1*e3\n",
      "e13.dual()"
     ],
     "language": "python",
     "metadata": {},
     "outputs": [
      {
       "latex": [
        "\\begin{equation*}  e_{2} \\end{equation*}"
       ],
       "metadata": {},
       "output_type": "pyout",
       "prompt_number": 36,
       "text": [
        "e2"
       ]
      }
     ],
     "prompt_number": 36
    },
    {
     "cell_type": "code",
     "collapsed": false,
     "input": [
      "import galge"
     ],
     "language": "python",
     "metadata": {},
     "outputs": [
      {
       "ename": "NameError",
       "evalue": "name 'galgebra' is not defined",
       "output_type": "pyerr",
       "traceback": [
        "\u001b[1;31m---------------------------------------------------------------------------\u001b[0m\n\u001b[1;31mNameError\u001b[0m                                 Traceback (most recent call last)",
        "\u001b[1;32m<ipython-input-20-2179ae459fe1>\u001b[0m in \u001b[0;36m<module>\u001b[1;34m()\u001b[0m\n\u001b[1;32m----> 1\u001b[1;33m \u001b[0mgalgebra\u001b[0m\u001b[1;33m\u001b[0m\u001b[0m\n\u001b[0m",
        "\u001b[1;31mNameError\u001b[0m: name 'galgebra' is not defined"
       ]
      }
     ],
     "prompt_number": 20
    },
    {
     "cell_type": "code",
     "collapsed": false,
     "input": [],
     "language": "python",
     "metadata": {},
     "outputs": []
    }
   ],
   "metadata": {}
  }
 ]
}