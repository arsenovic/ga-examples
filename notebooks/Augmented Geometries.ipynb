{
 "metadata": {
  "name": "",
  "signature": "sha256:15df2e87af0a58531734c3a6856a3a116fa090bdc631185b15e874b9e5073d72"
 },
 "nbformat": 3,
 "nbformat_minor": 0,
 "worksheets": [
  {
   "cells": [
    {
     "cell_type": "code",
     "collapsed": false,
     "input": [
      "from sympy import * \n",
      "init_printing()\n",
      "from galgebra.ga import Ga\n",
      "\n",
      "def augment(ga,sym='n',sig=1):\n",
      "    '''\n",
      "    augments an existing Geometric Algebra by a single dimension of specified\n",
      "    signature\n",
      "    '''\n",
      "    \n",
      "    g = ga.g\n",
      "    g_proj =  eye(len(ga.basis)+1)*sig\n",
      "    for m in range(0,shape(g)[0]):\n",
      "        for n in range(0,shape(g)[1]):\n",
      "            g_proj[m,n] = g[m,n]\n",
      "    basis = ' '.join([str(k) for k in ga.basis] +[sym])\n",
      "    \n",
      "    \n",
      "    GA =  Ga(basis, g=g_proj) \n",
      "    GA.ga_orginal = ga\n",
      "    return GA"
     ],
     "language": "python",
     "metadata": {},
     "outputs": [],
     "prompt_number": 2
    },
    {
     "cell_type": "code",
     "collapsed": false,
     "input": [
      "affine =  lambda ga: augment(ga, 'n',0)\n",
      "projective = lambda ga: augment(ga, 'n',1)\n",
      "conformal = lambda ga: augment(augment(ga, 'n_+',1),'n_-',-1)"
     ],
     "language": "python",
     "metadata": {},
     "outputs": [],
     "prompt_number": 3
    },
    {
     "cell_type": "code",
     "collapsed": false,
     "input": [
      "# euclidean geometries\n",
      "ge2 = Ga('e1 e2',g=[1,1])\n",
      "ge3 = Ga('e1 e2 e3',g=[1,1,1])\n",
      "\n",
      "# projective  geometries \n",
      "gp2 = projective(g2)\n",
      "gp3 = projective(g3)\n",
      "\n",
      "# conformal  geometries \n",
      "gc2 = conformal(g2)\n",
      "gc3 = conformal(g3)"
     ],
     "language": "python",
     "metadata": {},
     "outputs": [],
     "prompt_number": 24
    },
    {
     "cell_type": "code",
     "collapsed": false,
     "input": [
      "gc3.mv('x', 'vector')"
     ],
     "language": "python",
     "metadata": {},
     "outputs": [
      {
       "latex": [
        "\\begin{equation*} x = x^{1} e_{1} + x^{2} e_{2} + x^{3} e_{3} + x^{4} n_{+} + x^{5} n_{-} \\end{equation*}"
       ],
       "metadata": {},
       "output_type": "pyout",
       "prompt_number": 25,
       "text": [
        "x__1*e1 + x__2*e2 + x__3*e3 + x__4*n_+ + x__5*n_-"
       ]
      }
     ],
     "prompt_number": 25
    },
    {
     "cell_type": "code",
     "collapsed": false,
     "input": [
      "gp2.mv('p','vector')"
     ],
     "language": "python",
     "metadata": {},
     "outputs": [
      {
       "latex": [
        "\\begin{equation*} p = p^{1} e_{1} + p^{2} e_{2} + p^{3} n \\end{equation*}"
       ],
       "metadata": {},
       "output_type": "pyout",
       "prompt_number": 26,
       "text": [
        "p__1*e1 + p__2*e2 + p__3*n"
       ]
      }
     ],
     "prompt_number": 26
    },
    {
     "cell_type": "code",
     "collapsed": false,
     "input": [],
     "language": "python",
     "metadata": {},
     "outputs": []
    }
   ],
   "metadata": {}
  }
 ]
}