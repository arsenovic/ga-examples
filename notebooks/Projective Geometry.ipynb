{
 "metadata": {
  "name": "",
  "signature": "sha256:97febf437917eff55800ee37a388f94a13ba02e49c9f2919acdda377eeb7acd8"
 },
 "nbformat": 3,
 "nbformat_minor": 0,
 "worksheets": [
  {
   "cells": [
    {
     "cell_type": "code",
     "collapsed": false,
     "input": [
      "%nbtoc"
     ],
     "language": "python",
     "metadata": {},
     "outputs": [
      {
       "html": [
        "<!-- extracted from https://gist.github.com/magican/5574556 -->\n",
        "<div id=\"toc-wrapper\">\n",
        "    <div class=\"header\">Contents <a href=\"#\" class=\"hide-btn\">[hide]</a></div>\n",
        "    <div id=\"toc\"></div>\n",
        "</div>\n",
        " \n",
        "<style>\n",
        "  #toc {\n",
        "    overflow-y: scroll;\n",
        "    max-height: 300px;\n",
        "  }\n",
        "  #toc-wrapper {\n",
        "    position: fixed; top: 120px; max-width:430px; right: 20px;\n",
        "    border: thin solid rgba(0, 0, 0, 0.38); opacity: .8;\n",
        "    border-radius: 5px; background-color: #fff; padding:10px;\n",
        "    z-index: 100;\n",
        "  }\n",
        "  #toc-wrapper.closed {\n",
        "      min-width: 100px;\n",
        "      width: auto;\n",
        "      transition: width;\n",
        "  }\n",
        "  #toc-wrapper:hover{\n",
        "      opacity:1;\n",
        "  }\n",
        "  #toc-wrapper .header {\n",
        "      font-size:18px; font-weight: bold;\n",
        "  }\n",
        "  #toc-wrapper .hide-btn {\n",
        "      font-size: 14px;\n",
        "  }\n",
        " \n",
        "</style>\n",
        "\n",
        "<style>\n",
        "  ol.nested {\n",
        "    counter-reset: item;\n",
        "    list-style: none;\n",
        "  }\n",
        "  li.nested {\n",
        "        display: block;\n",
        "    }\n",
        "  li.nested:before {\n",
        "        counter-increment: item;\n",
        "        content: counters(item, \".\")\" \";\n",
        "    }\n",
        "</style>\n"
       ],
       "metadata": {},
       "output_type": "display_data"
      },
      {
       "javascript": [
        "// adapted from https://gist.github.com/magican/5574556\n",
        "\n",
        "function clone_anchor(element) {\n",
        "  // clone link\n",
        "  var h = element.find(\"div.text_cell_render\").children().first();\n",
        "  var a = h.find('a').clone();\n",
        "  var new_a = $(\"<a>\");\n",
        "  new_a.attr(\"href\", a.attr(\"href\"));\n",
        "  new_a.text(h[0].innerText);\n",
        "  return new_a;\n",
        "}\n",
        "\n",
        "function ol_depth(element) {\n",
        "  // get depth of nested ol\n",
        "  var d = 0;\n",
        "  while (element.prop(\"tagName\").toLowerCase() == 'ol') {\n",
        "    d += 1;\n",
        "    element = element.parent();\n",
        "  }\n",
        "  return d;\n",
        "}\n",
        "\n",
        "function table_of_contents(threshold) {\n",
        "  if (threshold === undefined) {\n",
        "    threshold = 4;\n",
        "  }\n",
        "  var cells = IPython.notebook.get_cells();\n",
        "  \n",
        "  var ol = $(\"<ol/>\");\n",
        "  $(\"#toc\").empty().append(ol);\n",
        "  \n",
        "  for (var i=0; i < cells.length; i++) {\n",
        "    var cell = cells[i];\n",
        "    \n",
        "    if (cell.cell_type !== 'heading') continue;\n",
        "    \n",
        "    var level = cell.level;\n",
        "    if (level > threshold) continue;\n",
        "    \n",
        "    var depth = ol_depth(ol);\n",
        "\n",
        "    // walk down levels\n",
        "    for (; depth < level; depth++) {\n",
        "      var new_ol = $(\"<ol/>\");\n",
        "      ol.append(new_ol);\n",
        "      ol = new_ol;\n",
        "    }\n",
        "    // walk up levels\n",
        "    for (; depth > level; depth--) {\n",
        "      ol = ol.parent();\n",
        "    }\n",
        "    //\n",
        "    ol.append(\n",
        "      $(\"<li/>\").append(clone_anchor(cell.element))\n",
        "    );\n",
        "  }\n",
        "\n",
        "  $('#toc-wrapper .header').click(function(){\n",
        "    $('#toc').slideToggle();\n",
        "    $('#toc-wrapper').toggleClass('closed');\n",
        "    if ($('#toc-wrapper').hasClass('closed')){\n",
        "      $('#toc-wrapper .hide-btn').text('[show]');\n",
        "    } else {\n",
        "      $('#toc-wrapper .hide-btn').text('[hide]');\n",
        "    }\n",
        "    return false;\n",
        "  })\n",
        "\n",
        "  $(window).resize(function(){\n",
        "    $('#toc').css({maxHeight: $(window).height() - 200})\n",
        "  })\n",
        "\n",
        "  $(window).trigger('resize')\n",
        "}\n",
        "\n",
        "table_of_contents();\n",
        "\n",
        "\n"
       ],
       "metadata": {},
       "output_type": "display_data"
      }
     ],
     "prompt_number": 1
    },
    {
     "cell_type": "heading",
     "level": 1,
     "metadata": {},
     "source": [
      "Introduction"
     ]
    },
    {
     "cell_type": "heading",
     "level": 2,
     "metadata": {},
     "source": [
      "Abstract"
     ]
    },
    {
     "cell_type": "markdown",
     "metadata": {},
     "source": [
      "\n",
      "This notebook demonstrates the application of geometric algebra to projective geometry. The calculations are performed using the symbolic `galgebra` module from  [sympy](www.sympy.org), which is found in Alan Bromborsky's [GitHub](https://github.com/brombo/) repo's.\n",
      "\n"
     ]
    },
    {
     "cell_type": "heading",
     "level": 2,
     "metadata": {},
     "source": [
      "Motivation"
     ]
    },
    {
     "cell_type": "markdown",
     "metadata": {},
     "source": [
      "A common theme in applied mathematics is that a  complicated problem in a simple space can be traded for a simple problem in a more complicated space. Think of using the Fourier transform to linearize convolution. "
     ]
    },
    {
     "cell_type": "code",
     "collapsed": false,
     "input": [
      "from IPython.display import *\n",
      "Image('pics/generic commutative diagram.png')"
     ],
     "language": "python",
     "metadata": {},
     "outputs": [
      {
       "metadata": {},
       "output_type": "pyout",
       "png": "[encoded data removed]",
       "prompt_number": 2,
       "text": [
        "<IPython.core.display.Image at 0xbee8b90>"
       ]
      }
     ],
     "prompt_number": 2
    },
    {
     "cell_type": "markdown",
     "metadata": {},
     "source": [
      "Similarly, Projective Geometry is slightly more complicated than Euclidean space, but it makes certain transformations, like translation and shearing,  simpler.  Additionally, it removes the perculiarities of  zero and infinity. Computer graphics people use projective geometry regularly.\n",
      " \n",
      "While these features provide sufficient  motivation, there are more fundamental reason to study alternative geometries. One reason is to illustrate the freedom of algebraic interpretation. In Eucliean space a vector is a vector is a vector. In projective geometry a vector may be represented as a bivector. We can choose to think of a vector as a vector or as a bivector to suite our needs. \n",
      "\n",
      "So, having more ways to view a given problem is never a bad thing, and can only add to the richness of possible solutions. Lets roll.\n",
      "\n",
      "More information can be found in the [references](#References) below. "
     ]
    },
    {
     "cell_type": "heading",
     "level": 2,
     "metadata": {},
     "source": [
      "References"
     ]
    },
    {
     "cell_type": "markdown",
     "metadata": {},
     "source": [
      "* [1]C. Doran, Geometric Algebra for Physicists, 1st Pbk. Ed. with Corr edition. Cambridge; New York: Cambridge University Press, 2007.\n",
      "* [2]J. Vince, Geometric Algebra for Computer Graphics, 2008 edition. London: Springer, 2008.\n",
      "* [3]C. Perwass, Geometric Algebra with Applications in Engineering, Softcover reprint of hardcover 1st ed. 2009. Springer, 2010."
     ]
    },
    {
     "cell_type": "heading",
     "level": 1,
     "metadata": {},
     "source": [
      "The Projective Plane"
     ]
    },
    {
     "cell_type": "heading",
     "level": 2,
     "metadata": {},
     "source": [
      "Theory"
     ]
    },
    {
     "cell_type": "markdown",
     "metadata": {},
     "source": [
      "The projective plane describes the application of projective geomtry to 2D space, illustrated in the image below (taken from [[2]](#References) ). In this example, the orginal 2D space created by the basis $e_1, e_2$ is extended by a third orthonormal vector $n$. A vector in the plane (  $q$ ) is represented by the vector in 3D pace ( $p$ ). From this geometric construction we can relate vectors in both spaces. "
     ]
    },
    {
     "cell_type": "code",
     "collapsed": false,
     "input": [
      "Image('pics/projective plane.png') "
     ],
     "language": "python",
     "metadata": {},
     "outputs": [
      {
       "metadata": {},
       "output_type": "pyout",
       "png": "[encoded data removed]",
       "prompt_number": 3,
       "text": [
        "<IPython.core.display.Image at 0xbd56f50>"
       ]
      }
     ],
     "prompt_number": 3
    },
    {
     "cell_type": "heading",
     "level": 3,
     "metadata": {},
     "source": [
      "Projecting Down onto the plane"
     ]
    },
    {
     "cell_type": "markdown",
     "metadata": {},
     "source": [
      "First we need to define the mapping between a vector in G3, and the\n",
      "projective plane. From the illustration above it is clear that \n",
      "\n",
      "\\begin{eqnarray*}\n",
      "n+q & = & \\lambda p\n",
      "\\end{eqnarray*}\n",
      "\n",
      "\n",
      "Taking the inner product with $n$, solving for $\\lambda$ \n",
      "\n",
      "\\begin{eqnarray*}\n",
      "n^{2}+n\\cdot q & = & \\lambda p\\cdot n\\\\\n",
      "n^{2} & = & \\lambda p\\cdot n\\\\\n",
      "\\lambda & = & \\frac{n^{2}}{p\\cdot n}\n",
      "\\end{eqnarray*}\n",
      "\n",
      "\n",
      "Combining this with the equation above, solving for $q$\n",
      "\n",
      "\\begin{eqnarray*}\n",
      "q & = & \\frac{n^{2}}{p\\cdot n}p-n\n",
      "\\end{eqnarray*}\n",
      "\n",
      "\n",
      "This can be re-arranged, to provide \n",
      "\n",
      "\\begin{eqnarray*}\n",
      "q & = & \\frac{n^{2}}{p\\cdot n}p-n\\\\\n",
      " & = & \\frac{n^{2}p-nn\\cdot p}{p\\cdot n}\\\\\n",
      " & = & n\\frac{np-n\\cdot p}{p\\cdot n}\\\\\n",
      " & = & n\\frac{n\\wedge p}{n\\cdot p}\\\\\n",
      " q & = & \\frac{p\\wedge n}{p\\cdot n} n\\\\\n",
      "\\end{eqnarray*}\n",
      "\n",
      "This form illustrates that the vector q can be put into correspondence with the bivector $P= \\frac{p \\wedge n}{p\\cdot n}$.  This is a nice visual interpretation: the bivector $P$ is formed by extending the $n$ vector to the $p$ vector, which sweeps out $q$ in the projection plane. \n",
      "\n",
      "So a vector is the extension of the zero  point ( $n$ ) to a point $p$. \n",
      "\n",
      "It also demonstrates that the magnitude of $p$ is irrelevant to the vector $q$, as it will get factored out of the fraction."
     ]
    },
    {
     "cell_type": "heading",
     "level": 3,
     "metadata": {},
     "source": [
      "Projecting up into G3 "
     ]
    },
    {
     "cell_type": "markdown",
     "metadata": {},
     "source": [
      "Projecting a vector from the plane into 3D space is trivial, due to the homogeneity of the perspective relationship. Setting $\\lambda =1$\n",
      "\n",
      "$$p= q+n$$\n",
      "\n",
      "note that this implies, \n",
      "\n",
      "$$\\lambda n\\wedge p= n\\wedge q$$"
     ]
    },
    {
     "cell_type": "heading",
     "level": 2,
     "metadata": {},
     "source": [
      "Ok lets do it"
     ]
    },
    {
     "cell_type": "markdown",
     "metadata": {},
     "source": [
      "First we build the geometric algebra of 3D space  using an orthonormal basis of $\\boldsymbol{(e_1, e_2, n)}$, using `Ga.build()`. This returns the object representing the algebra, and the basis vectors. \n",
      "    \n",
      " * (For an intruduction to the `sympy.galgebra` module, see the ** [[ Sould make an Intro Tutorial ]] **)"
     ]
    },
    {
     "cell_type": "code",
     "collapsed": false,
     "input": [
      "from sympy import * \n",
      "from galgebra.ga import Ga\n",
      "\n",
      "# create G3 from the  orthonoormal basis: e1, e2,n. \n",
      "(ga,e1,e2,n) = Ga.build('e1 e2 n',g=[1,1,1])"
     ],
     "language": "python",
     "metadata": {},
     "outputs": [],
     "prompt_number": 4
    },
    {
     "cell_type": "code",
     "collapsed": false,
     "input": [
      "# assign some more commonly used variables\n",
      "e12 = e1^e2 # projection plane\n",
      "ZERO = e1|e2 # this is dumb\n",
      "I = ga.I()"
     ],
     "language": "python",
     "metadata": {},
     "outputs": [],
     "prompt_number": 5
    },
    {
     "cell_type": "markdown",
     "metadata": {},
     "source": [
      "\n",
      "\n"
     ]
    },
    {
     "cell_type": "code",
     "collapsed": false,
     "input": [
      "# projection of vector a onto Blade B\n",
      "proj = lambda a,B:  (a|B)*B.inv()\n",
      "# rejection  of vector a onto Blade B\n",
      "rej  = lambda a,B: (a^B)*B.inv()\n",
      "\n",
      "# up project a vector from  original space to projection space\n",
      "up = lambda q: q+n\n",
      "# down project a vector from  projection space to the original space\n",
      "down = lambda p: n*(n^p)*(n|p).inv()\n",
      "\n",
      "# normalize projection vector so that p_n = 1\n",
      "norm = lambda p:  p*(p|n).inv()\n",
      "\n",
      "# 'normalized projection vector': creates a projection vector with n = 1\n",
      "npv = lambda s: proj(ga.mv(s,'vector'),e12)+n"
     ],
     "language": "python",
     "metadata": {},
     "outputs": [],
     "prompt_number": 6
    },
    {
     "cell_type": "heading",
     "level": 3,
     "metadata": {},
     "source": [
      "Verify Projection Functions"
     ]
    },
    {
     "cell_type": "markdown",
     "metadata": {},
     "source": [
      "Given a projection vector"
     ]
    },
    {
     "cell_type": "code",
     "collapsed": false,
     "input": [
      "p = ga.mv('p','vector')\n",
      "p"
     ],
     "language": "python",
     "metadata": {},
     "outputs": [
      {
       "latex": [
        "\\begin{equation*} p = p^{1} e_{1} + p^{2} e_{2} + p^{3} n \\end{equation*}"
       ],
       "metadata": {},
       "output_type": "pyout",
       "prompt_number": 7,
       "text": [
        "p__1*e1 + p__2*e2 + p__3*n"
       ]
      }
     ],
     "prompt_number": 7
    },
    {
     "cell_type": "markdown",
     "metadata": {},
     "source": [
      "Ensure that projecting up, and then down gives us what we started with."
     ]
    },
    {
     "cell_type": "code",
     "collapsed": false,
     "input": [
      "q = proj(p,e12)\n",
      "q == down(up(q)) "
     ],
     "language": "python",
     "metadata": {},
     "outputs": [
      {
       "metadata": {},
       "output_type": "pyout",
       "prompt_number": 8,
       "text": [
        "True"
       ]
      }
     ],
     "prompt_number": 8
    },
    {
     "cell_type": "heading",
     "level": 3,
     "metadata": {},
     "source": [
      " Vectors  $ \\rightarrow $ Points"
     ]
    },
    {
     "cell_type": "markdown",
     "metadata": {},
     "source": [
      "The projection vector $p$ can be thought of as representing the point in the projection plane $q$. Vectors in projective space are homogeneous, meaning that two  projection vectors with different magnitudes represent the same point in the original space. "
     ]
    },
    {
     "cell_type": "code",
     "collapsed": false,
     "input": [
      "p"
     ],
     "language": "python",
     "metadata": {},
     "outputs": [
      {
       "latex": [
        "\\begin{equation*} p = p^{1} e_{1} + p^{2} e_{2} + p^{3} n \\end{equation*}"
       ],
       "metadata": {},
       "output_type": "pyout",
       "prompt_number": 9,
       "text": [
        "p__1*e1 + p__2*e2 + p__3*n"
       ]
      }
     ],
     "prompt_number": 9
    },
    {
     "cell_type": "code",
     "collapsed": false,
     "input": [
      "q = (p^n*(n|p).inv())*n\n",
      "q\n"
     ],
     "language": "python",
     "metadata": {},
     "outputs": [
      {
       "latex": [
        "\\begin{equation*} \\frac{p^{1}}{p^{3}} e_{1} + \\frac{p^{2}}{p^{3}} e_{2} \\end{equation*}"
       ],
       "metadata": {},
       "output_type": "pyout",
       "prompt_number": 10,
       "text": [
        "p__1*e1/p__3 + p__2*e2/p__3"
       ]
      }
     ],
     "prompt_number": 10
    },
    {
     "cell_type": "markdown",
     "metadata": {},
     "source": [
      "So its clear that the magnitude of $p$ will cancel out in the fraction, hence its homogeneous."
     ]
    },
    {
     "cell_type": "heading",
     "level": 3,
     "metadata": {},
     "source": [
      "Points at $0$ and $\\infty$ "
     ]
    },
    {
     "cell_type": "markdown",
     "metadata": {},
     "source": [
      "The values  of $0$ and $\\infty$  are represented by projective vectors parallel and perpendicular to $n$.\n",
      "\n",
      "\n",
      "** [ THESE CAUSE EXCEPTIONS] **\n",
      "\n",
      "    AttributeError: 'int' object has no attribute 'is_commutative'"
     ]
    },
    {
     "cell_type": "code",
     "collapsed": false,
     "input": [
      "#down(proj(a,n)) # a vector parallel  to a"
     ],
     "language": "python",
     "metadata": {},
     "outputs": [],
     "prompt_number": 11
    },
    {
     "cell_type": "code",
     "collapsed": false,
     "input": [
      "#down(rej(a, n)) # a vector perpendicular to n  "
     ],
     "language": "python",
     "metadata": {},
     "outputs": [],
     "prompt_number": 12
    },
    {
     "cell_type": "heading",
     "level": 3,
     "metadata": {},
     "source": [
      "Bivectors $\\rightarrow$ Vectors, or Lines"
     ]
    },
    {
     "cell_type": "markdown",
     "metadata": {},
     "source": [
      "Recall that the relation between a vector in the projection space and orginal space is given by\n",
      "\n",
      "$$\n",
      "q  =  \\underbrace{\\frac{p\\wedge n}{p\\cdot n}}_{P} n =  Pn\\\\\n",
      "$$"
     ]
    },
    {
     "cell_type": "code",
     "collapsed": false,
     "input": [
      "P = p^n*(n|p).inv()\n",
      "P"
     ],
     "language": "python",
     "metadata": {},
     "outputs": [
      {
       "latex": [
        "\\begin{equation*} \\frac{p^{1}}{p^{3}} e_{1}\\wedge n + \\frac{p^{2}}{p^{3}} e_{2}\\wedge n \\end{equation*}"
       ],
       "metadata": {},
       "output_type": "pyout",
       "prompt_number": 13,
       "text": [
        "p__1*e1^n/p__3 + p__2*e2^n/p__3"
       ]
      }
     ],
     "prompt_number": 13
    },
    {
     "cell_type": "code",
     "collapsed": false,
     "input": [
      "P*n"
     ],
     "language": "python",
     "metadata": {},
     "outputs": [
      {
       "latex": [
        "\\begin{equation*} \\frac{p^{1}}{p^{3}} e_{1} + \\frac{p^{2}}{p^{3}} e_{2} \\end{equation*}"
       ],
       "metadata": {},
       "output_type": "pyout",
       "prompt_number": 14,
       "text": [
        "p__1*e1/p__3 + p__2*e2/p__3"
       ]
      }
     ],
     "prompt_number": 14
    },
    {
     "cell_type": "code",
     "collapsed": false,
     "input": [],
     "language": "python",
     "metadata": {},
     "outputs": [],
     "prompt_number": 14
    },
    {
     "cell_type": "markdown",
     "metadata": {},
     "source": [
      "Given that a  line in the original space is represented as a bivector in the projection space. The advantage of this is that the geometrical  entities ( like lines, planes, etc)  become objects which can be operated on like vectors, ie rotated, reflected, etc. \n",
      "\n",
      "Below is an illustration (taken from [[3]](#References)), which shows two projection  vector $p_h$ and $q_h$, and their bivector $p_h\\wedge q_h$"
     ]
    },
    {
     "cell_type": "code",
     "collapsed": false,
     "input": [
      "Image('pics/projective bivector.png')"
     ],
     "language": "python",
     "metadata": {},
     "outputs": [
      {
       "metadata": {},
       "output_type": "pyout",
       "png": "[encoded data removed]",
       "prompt_number": 15,
       "text": [
        "<IPython.core.display.Image at 0xd3de4d0>"
       ]
      }
     ],
     "prompt_number": 15
    },
    {
     "cell_type": "markdown",
     "metadata": {},
     "source": [
      "Taking the outer product of two projection vectors. (Note i dropped the '$_h$' subscript because its a little too much ). "
     ]
    },
    {
     "cell_type": "code",
     "collapsed": true,
     "input": [
      "p, q = [ga.mv(k, 'vector') for k in ['p','q']]\n",
      "p,q = npv('p'), npv('q') # would be nice to have a cleaner way to do this\n",
      "\n",
      "Z = p^q\n",
      "Z"
     ],
     "language": "python",
     "metadata": {},
     "outputs": [
      {
       "latex": [
        "\\begin{equation*} \\left ( p^{1} q^{2} - p^{2} q^{1}\\right ) e_{1}\\wedge e_{2} + \\left ( p^{1} - q^{1}\\right ) e_{1}\\wedge n + \\left ( p^{2} - q^{2}\\right ) e_{2}\\wedge n \\end{equation*}"
       ],
       "metadata": {},
       "output_type": "pyout",
       "prompt_number": 16,
       "text": [
        "(p__1*q__2 - p__2*q__1)*e1^e2 + (p__1 - q__1)*e1^n + (p__2 - q__2)*e2^n"
       ]
      }
     ],
     "prompt_number": 16
    },
    {
     "cell_type": "code",
     "collapsed": false,
     "input": [],
     "language": "python",
     "metadata": {},
     "outputs": [],
     "prompt_number": 16
    },
    {
     "cell_type": "markdown",
     "metadata": {},
     "source": [
      "The coefficients  of this bivector are $\\Delta_y$, $\\Delta_x$ and $x_0\\Delta-y_0\\Delta_x$, which define the parameters of a line. \n",
      "\n"
     ]
    },
    {
     "cell_type": "markdown",
     "metadata": {},
     "source": [
      "The dual of this is "
     ]
    },
    {
     "cell_type": "code",
     "collapsed": false,
     "input": [
      "z=Z.dual()\n",
      "z"
     ],
     "language": "python",
     "metadata": {},
     "outputs": [
      {
       "latex": [
        "\\begin{equation*} \\left ( - p^{2} + q^{2}\\right ) e_{1} + \\left ( p^{1} - q^{1}\\right ) e_{2} + \\left ( - p^{1} q^{2} + p^{2} q^{1}\\right ) n \\end{equation*}"
       ],
       "metadata": {},
       "output_type": "pyout",
       "prompt_number": 17,
       "text": [
        "(-p__2 + q__2)*e1 + (p__1 - q__1)*e2 + (-p__1*q__2 + p__2*q__1)*n"
       ]
      }
     ],
     "prompt_number": 17
    },
    {
     "cell_type": "heading",
     "level": 3,
     "metadata": {},
     "source": [
      "Intersections (the *meet* operator)"
     ]
    },
    {
     "cell_type": "code",
     "collapsed": false,
     "input": [
      "# the meet of A and B\n",
      "meet = lambda A,B:  A.dual()|B"
     ],
     "language": "python",
     "metadata": {},
     "outputs": [],
     "prompt_number": 18
    },
    {
     "cell_type": "markdown",
     "metadata": {},
     "source": [
      "To  demonstrate, we can show that meet'ing our basis bivectors together yields their vector of intersection "
     ]
    },
    {
     "cell_type": "code",
     "collapsed": false,
     "input": [
      "e12 = e1^e2\n",
      "e2n = e2^n\n",
      "en1 = n^e1"
     ],
     "language": "python",
     "metadata": {},
     "outputs": [],
     "prompt_number": 19
    },
    {
     "cell_type": "code",
     "collapsed": false,
     "input": [
      "meet(e12, e2n)"
     ],
     "language": "python",
     "metadata": {},
     "outputs": [
      {
       "latex": [
        "\\begin{equation*}  e_{2} \\end{equation*}"
       ],
       "metadata": {},
       "output_type": "pyout",
       "prompt_number": 20,
       "text": [
        "e2"
       ]
      }
     ],
     "prompt_number": 20
    },
    {
     "cell_type": "code",
     "collapsed": false,
     "input": [
      "meet(en1, e2n)"
     ],
     "language": "python",
     "metadata": {},
     "outputs": [
      {
       "latex": [
        "\\begin{equation*} - n \\end{equation*}"
       ],
       "metadata": {},
       "output_type": "pyout",
       "prompt_number": 21,
       "text": [
        "-n"
       ]
      }
     ],
     "prompt_number": 21
    },
    {
     "cell_type": "markdown",
     "metadata": {},
     "source": [
      "In projective space, a line is represented by joining two vectors. This is just the outerproduct."
     ]
    },
    {
     "cell_type": "code",
     "collapsed": false,
     "input": [],
     "language": "python",
     "metadata": {},
     "outputs": [],
     "prompt_number": 22
    },
    {
     "cell_type": "code",
     "collapsed": false,
     "input": [],
     "language": "python",
     "metadata": {},
     "outputs": [],
     "prompt_number": 22
    },
    {
     "cell_type": "markdown",
     "metadata": {},
     "source": [
      "This yields a nice visualization; a bivector in G3 will intersect the projection plane in a line, defined by the points $p$ and $q$. "
     ]
    },
    {
     "cell_type": "heading",
     "level": 3,
     "metadata": {},
     "source": [
      "Numerical Example"
     ]
    },
    {
     "cell_type": "markdown",
     "metadata": {},
     "source": [
      "Here is a numerical exmaples which demonstrates that the outer product in projective space determines a line in the original space. Given the two  points $p$ and $q$"
     ]
    },
    {
     "cell_type": "code",
     "collapsed": false,
     "input": [
      "p = 1*e1 + 2*e2\n",
      "q = 3*e1 + 3*e2"
     ],
     "language": "python",
     "metadata": {},
     "outputs": [],
     "prompt_number": 23
    },
    {
     "cell_type": "markdown",
     "metadata": {},
     "source": [
      "The line $PQ$ is represented by $( p_h\\wedge q_h)^*$"
     ]
    },
    {
     "cell_type": "code",
     "collapsed": false,
     "input": [
      "PQ =(up(p)^up(q)).dual()\n",
      "PQ"
     ],
     "language": "python",
     "metadata": {},
     "outputs": [
      {
       "latex": [
        "\\begin{equation*}  e_{1} -2 e_{2} + 3 n \\end{equation*}"
       ],
       "metadata": {},
       "output_type": "pyout",
       "prompt_number": 24,
       "text": [
        "e1 - 2*e2 + 3*n"
       ]
      }
     ],
     "prompt_number": 24
    },
    {
     "cell_type": "markdown",
     "metadata": {},
     "source": [
      "To see where two arbitrary line interset we can use  the meet"
     ]
    },
    {
     "cell_type": "code",
     "collapsed": false,
     "input": [
      "rv = lambda : randint(-10,10)*e1 + randint(-10,10)*e2\n",
      "p,q,r,s = [rv() for k in range(4)]"
     ],
     "language": "python",
     "metadata": {},
     "outputs": [],
     "prompt_number": 29
    },
    {
     "cell_type": "heading",
     "level": 2,
     "metadata": {},
     "source": [
      "Scratch\n"
     ]
    },
    {
     "cell_type": "code",
     "collapsed": false,
     "input": [
      "p, q = [ga.mv(k, 'vector') for k in ['p','q']]\n",
      "p,q = npv('p'), npv('q') \n",
      "\n",
      "p_,q_ = down(p),down(q)"
     ],
     "language": "python",
     "metadata": {},
     "outputs": [],
     "prompt_number": 30
    },
    {
     "cell_type": "code",
     "collapsed": false,
     "input": [
      "e0"
     ],
     "language": "python",
     "metadata": {},
     "outputs": [
      {
       "ename": "NameError",
       "evalue": "name 'e0' is not defined",
       "output_type": "pyerr",
       "traceback": [
        "\u001b[1;31m---------------------------------------------------------------------------\u001b[0m\n\u001b[1;31mNameError\u001b[0m                                 Traceback (most recent call last)",
        "\u001b[1;32m<ipython-input-31-6e4b87f59d80>\u001b[0m in \u001b[0;36m<module>\u001b[1;34m()\u001b[0m\n\u001b[1;32m----> 1\u001b[1;33m \u001b[0me0\u001b[0m\u001b[1;33m\u001b[0m\u001b[0m\n\u001b[0m",
        "\u001b[1;31mNameError\u001b[0m: name 'e0' is not defined"
       ]
      }
     ],
     "prompt_number": 31
    },
    {
     "cell_type": "code",
     "collapsed": false,
     "input": [],
     "language": "python",
     "metadata": {},
     "outputs": [],
     "prompt_number": 31
    },
    {
     "cell_type": "code",
     "collapsed": false,
     "input": [],
     "language": "python",
     "metadata": {},
     "outputs": []
    }
   ],
   "metadata": {}
  }
 ]
}