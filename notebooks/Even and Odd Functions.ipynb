{
 "metadata": {
  "name": "",
  "signature": "sha256:7d2443b70bc0f78bee1ca94f032741d73988b2a31f788ed0739e162fe73c6f53"
 },
 "nbformat": 3,
 "nbformat_minor": 0,
 "worksheets": [
  {
   "cells": [
    {
     "cell_type": "heading",
     "level": 2,
     "metadata": {},
     "source": [
      "Mirroring: Reversing Order of a Vector's Components"
     ]
    },
    {
     "cell_type": "markdown",
     "metadata": {},
     "source": [
      "Given an $N$-dimensional euclidean vector space, the reversal of a vectors components can be produced by $k$-reflections in hyperplanes normal to $n_i$\n",
      "\n",
      "$$ a^{'} = -(n_1 n_{2}\\cdots n_{k }) a (n_k \\cdots n_2 n_1 )$$\n",
      "\n",
      "where \n",
      "$$ k =  N/2 $$\n",
      "\n",
      "and \n",
      "\n",
      "$$ n_i = e_i-e_{N-i} $$\n",
      "\n",
      "Note that for vector spaces with an odd number of dimensions the middle component cancels it self out. Bellow are some explicit examples, illustrating the operation for various dimensions."
     ]
    },
    {
     "cell_type": "code",
     "collapsed": false,
     "input": [
      "from sympy import * \n",
      "from galgebra.ga import Ga\n",
      "import sympy\n"
     ],
     "language": "python",
     "metadata": {},
     "outputs": [],
     "prompt_number": 37
    },
    {
     "cell_type": "heading",
     "level": 3,
     "metadata": {},
     "source": [
      "2D"
     ]
    },
    {
     "cell_type": "code",
     "collapsed": false,
     "input": [
      "(ga,e1,e2) = Ga.build('e1 e2',g=[1,1])\n",
      "a=ga.mv('a','vector')\n",
      "\n",
      "n = sqrt(2)/2*(e1-e2)\n",
      "-n*a*n"
     ],
     "language": "python",
     "metadata": {},
     "outputs": [
      {
       "latex": [
        "\\begin{equation*} a^{2} e_{1} + a^{1} e_{2} \\end{equation*}"
       ],
       "metadata": {},
       "output_type": "pyout",
       "prompt_number": 38,
       "text": [
        "a__2*e1 + a__1*e2"
       ]
      }
     ],
     "prompt_number": 38
    },
    {
     "cell_type": "heading",
     "level": 3,
     "metadata": {},
     "source": [
      "3D"
     ]
    },
    {
     "cell_type": "code",
     "collapsed": false,
     "input": [
      "(ga,e1,e2,e3) = Ga.build('e1 e2 e3',g=[1,1,1])\n",
      "a=ga.mv('a','vector')\n",
      "\n",
      "\n",
      "n = sqrt(2)/2*(e1-e3)\n",
      "-n*a*n"
     ],
     "language": "python",
     "metadata": {},
     "outputs": [
      {
       "latex": [
        "\\begin{equation*} a^{3} e_{1} + a^{2} e_{2} + a^{1} e_{3} \\end{equation*}"
       ],
       "metadata": {},
       "output_type": "pyout",
       "prompt_number": 39,
       "text": [
        "a__3*e1 + a__2*e2 + a__1*e3"
       ]
      }
     ],
     "prompt_number": 39
    },
    {
     "cell_type": "heading",
     "level": 3,
     "metadata": {},
     "source": [
      "4D"
     ]
    },
    {
     "cell_type": "code",
     "collapsed": false,
     "input": [
      "(ga,e1,e2,e3,e4) = Ga.build('e1 e2 e3 e4',g=[1,1,1,1])\n",
      "a=ga.mv('a','vector')\n",
      "n = sqrt(2)/2*(e1-e4)\n",
      "m = sqrt(2)/2*(e2-e3)\n",
      "\n",
      "m*n*a*n*m"
     ],
     "language": "python",
     "metadata": {},
     "outputs": [
      {
       "latex": [
        "\\begin{equation*} a^{4} e_{1} + a^{3} e_{2} + a^{2} e_{3} + a^{1} e_{4} \\end{equation*}"
       ],
       "metadata": {},
       "output_type": "pyout",
       "prompt_number": 40,
       "text": [
        "a__4*e1 + a__3*e2 + a__2*e3 + a__1*e4"
       ]
      }
     ],
     "prompt_number": 40
    },
    {
     "cell_type": "heading",
     "level": 3,
     "metadata": {},
     "source": [
      "5D"
     ]
    },
    {
     "cell_type": "code",
     "collapsed": false,
     "input": [
      "(ga,e1,e2,e3,e4, e5) = Ga.build('e1 e2 e3 e4 e5',g=[1,1,1,1,1])\n",
      "a=ga.mv('a','vector')\n",
      "n = sqrt(2)/2*(e1-e5)\n",
      "m = sqrt(2)/2*(e2-e4)\n",
      "\n",
      "a_flip = m*n*a*n*m\n",
      "a_flip"
     ],
     "language": "python",
     "metadata": {},
     "outputs": [
      {
       "latex": [
        "\\begin{equation*} a^{5} e_{1} + a^{4} e_{2} + a^{3} e_{3} + a^{2} e_{4} + a^{1} e_{5} \\end{equation*}"
       ],
       "metadata": {},
       "output_type": "pyout",
       "prompt_number": 41,
       "text": [
        "a__5*e1 + a__4*e2 + a__3*e3 + a__2*e4 + a__1*e5"
       ]
      }
     ],
     "prompt_number": 41
    },
    {
     "cell_type": "heading",
     "level": 3,
     "metadata": {},
     "source": [
      "6D"
     ]
    },
    {
     "cell_type": "code",
     "collapsed": false,
     "input": [
      "(ga,e1,e2,e3,e4, e5, e6) = Ga.build('e1 e2 e3 e4 e5 e6',g=[1,1,1,1,1,1])\n",
      "a=ga.mv('a','vector')\n",
      "n = sqrt(2)/2*(e1-e6)\n",
      "m = sqrt(2)/2*(e2-e5)\n",
      "o = sqrt(2)/2*(e3-e4)\n",
      "\n",
      "a_flip = -m*n*o*a*o*n*m\n",
      "a_flip"
     ],
     "language": "python",
     "metadata": {},
     "outputs": [
      {
       "latex": [
        "\\begin{equation*} a^{6} e_{1} + a^{5} e_{2} + a^{4} e_{3} + a^{3} e_{4} + a^{2} e_{5} + a^{1} e_{6} \\end{equation*}"
       ],
       "metadata": {},
       "output_type": "pyout",
       "prompt_number": 42,
       "text": [
        "a__6*e1 + a__5*e2 + a__4*e3 + a__3*e4 + a__2*e5 + a__1*e6"
       ]
      }
     ],
     "prompt_number": 42
    },
    {
     "cell_type": "heading",
     "level": 3,
     "metadata": {},
     "source": [
      "Ok, lets write a function for n-D"
     ]
    },
    {
     "cell_type": "code",
     "collapsed": false,
     "input": [
      "\n",
      "def mirror(a):\n",
      "    e = a.Ga.mv_basis  # vector basis\n",
      "    N = len(e)       # dimension of space\n",
      "    n = range(N-1)   # reflection vectors\n",
      "    a_mir = a        # outputs\n",
      "    for i in range(len(e)/2):\n",
      "        n[i] = sqrt(2)/2* (e[i] - e[N-1-i])\n",
      "        a_mir = -n[i]*a_mir*n[i]\n",
      "    return a_mir\n",
      "\n",
      "a_mir = mirror(a)\n",
      "a_mir"
     ],
     "language": "python",
     "metadata": {},
     "outputs": [
      {
       "latex": [
        "\\begin{equation*} a^{6} e_{1} + a^{5} e_{2} + a^{4} e_{3} + a^{3} e_{4} + a^{2} e_{5} + a^{1} e_{6} \\end{equation*}"
       ],
       "metadata": {},
       "output_type": "pyout",
       "prompt_number": 43,
       "text": [
        "a__6*e1 + a__5*e2 + a__4*e3 + a__3*e4 + a__2*e5 + a__1*e6"
       ]
      }
     ],
     "prompt_number": 43
    },
    {
     "cell_type": "heading",
     "level": 2,
     "metadata": {},
     "source": [
      "Even and Odd modes"
     ]
    },
    {
     "cell_type": "markdown",
     "metadata": {},
     "source": [
      "A discrete function of length $N$ can be thought of as an $N$-dimensional vector. Any such function may broken up into *even* and *odd* modes. \n",
      "\n",
      "\\begin{eqnarray*}\n",
      "a &=& {\\frac{1}{2} (a+a^{'})} + \\frac{1}{2} (a-a^{'})\\\\\n",
      "a &=&  a_e + a_o\n",
      "\\end{eqnarray*}\n",
      "\n",
      "where $a^{'}$ is the mirrored version of $a$, as described above."
     ]
    },
    {
     "cell_type": "code",
     "collapsed": false,
     "input": [
      "half = Rational(1,2)\n",
      "even = lambda a: half*(a+mirror(a))\n",
      "odd = lambda a: half*(a-mirror(a))"
     ],
     "language": "python",
     "metadata": {},
     "outputs": [],
     "prompt_number": 47
    },
    {
     "cell_type": "heading",
     "level": 3,
     "metadata": {},
     "source": [
      "2D"
     ]
    },
    {
     "cell_type": "code",
     "collapsed": false,
     "input": [
      "(ga,e1,e2) = Ga.build('e1 e2',g=[1,1])\n",
      "\n",
      "a = ga.mv('a','vector')\n",
      "a_e = even(a)\n",
      "a_e"
     ],
     "language": "python",
     "metadata": {},
     "outputs": [
      {
       "latex": [
        "\\begin{equation*} \\left ( \\frac{a^{1}}{2} + \\frac{a^{2}}{2}\\right ) e_{1} + \\left ( \\frac{a^{1}}{2} + \\frac{a^{2}}{2}\\right ) e_{2} \\end{equation*}"
       ],
       "metadata": {},
       "output_type": "pyout",
       "prompt_number": 53,
       "text": [
        "(a__1/2 + a__2/2)*e1 + (a__1/2 + a__2/2)*e2"
       ]
      }
     ],
     "prompt_number": 53
    },
    {
     "cell_type": "code",
     "collapsed": false,
     "input": [
      "a_o = odd(a)\n",
      "a_o"
     ],
     "language": "python",
     "metadata": {},
     "outputs": [
      {
       "latex": [
        "\\begin{equation*} \\left ( \\frac{a^{1}}{2} - \\frac{a^{2}}{2}\\right ) e_{1} + \\left ( - \\frac{a^{1}}{2} + \\frac{a^{2}}{2}\\right ) e_{2} \\end{equation*}"
       ],
       "metadata": {},
       "output_type": "pyout",
       "prompt_number": 49,
       "text": [
        "(a__1/2 - a__2/2)*e1 + (-a__1/2 + a__2/2)*e2"
       ]
      }
     ],
     "prompt_number": 49
    }
   ],
   "metadata": {}
  }
 ]
}