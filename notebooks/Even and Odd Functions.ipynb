{
 "metadata": {
  "name": "",
  "signature": "sha256:32ee15d3ae374d5726f5ba55cbce400d8fc25826fafc2bdf4a008446ae24e7c3"
 },
 "nbformat": 3,
 "nbformat_minor": 0,
 "worksheets": [
  {
   "cells": [
    {
     "cell_type": "heading",
     "level": 2,
     "metadata": {},
     "source": [
      "Mirroring: Reversing Order of a Vector's Components"
     ]
    },
    {
     "cell_type": "markdown",
     "metadata": {},
     "source": [
      "Given an $N$-dimensional euclidean vector space, the reversal of a vectors components can be produced by $k$-reflections in hyperplanes normal to $n_i$\n",
      "\n",
      "$$ a^{'} = -(n_1 n_{2}\\cdots n_{k }) a (n_k \\cdots n_2 n_1 )$$\n",
      "\n",
      "where \n",
      "$$ k =  N/2 $$\n",
      "\n",
      "and \n",
      "\n",
      "$$ n_i = e_i-e_{N-i} $$\n",
      "\n",
      "Note that for vector spaces with an odd number of dimensions the middle component cancels it self out. Bellow are some explicit examples, illustrating the operation for various dimensions."
     ]
    },
    {
     "cell_type": "code",
     "collapsed": false,
     "input": [
      "from sympy import * \n",
      "from galgebra.ga import Ga\n",
      "import sympy\n"
     ],
     "language": "python",
     "metadata": {},
     "outputs": [],
     "prompt_number": 37
    },
    {
     "cell_type": "heading",
     "level": 3,
     "metadata": {},
     "source": [
      "2D"
     ]
    },
    {
     "cell_type": "code",
     "collapsed": false,
     "input": [
      "(ga,e1,e2) = Ga.build('e1 e2',g=[1,1])\n",
      "a=ga.mv('a','vector')\n",
      "\n",
      "n = sqrt(2)/2*(e1-e2)\n",
      "-n*a*n"
     ],
     "language": "python",
     "metadata": {},
     "outputs": [
      {
       "latex": [
        "\\begin{equation*} a^{2} e_{1} + a^{1} e_{2} \\end{equation*}"
       ],
       "metadata": {},
       "output_type": "pyout",
       "prompt_number": 38,
       "text": [
        "a__2*e1 + a__1*e2"
       ]
      }
     ],
     "prompt_number": 38
    },
    {
     "cell_type": "heading",
     "level": 3,
     "metadata": {},
     "source": [
      "3D"
     ]
    },
    {
     "cell_type": "code",
     "collapsed": false,
     "input": [
      "(ga,e1,e2,e3) = Ga.build('e1 e2 e3',g=[1,1,1])\n",
      "a=ga.mv('a','vector')\n",
      "\n",
      "\n",
      "n = sqrt(2)/2*(e1-e3)\n",
      "-n*a*n"
     ],
     "language": "python",
     "metadata": {},
     "outputs": [
      {
       "latex": [
        "\\begin{equation*} a^{3} e_{1} + a^{2} e_{2} + a^{1} e_{3} \\end{equation*}"
       ],
       "metadata": {},
       "output_type": "pyout",
       "prompt_number": 39,
       "text": [
        "a__3*e1 + a__2*e2 + a__1*e3"
       ]
      }
     ],
     "prompt_number": 39
    },
    {
     "cell_type": "heading",
     "level": 3,
     "metadata": {},
     "source": [
      "4D"
     ]
    },
    {
     "cell_type": "code",
     "collapsed": false,
     "input": [
      "(ga,e1,e2,e3,e4) = Ga.build('e1 e2 e3 e4',g=[1,1,1,1])\n",
      "a=ga.mv('a','vector')\n",
      "n = sqrt(2)/2*(e1-e4)\n",
      "m = sqrt(2)/2*(e2-e3)\n",
      "\n",
      "m*n*a*n*m"
     ],
     "language": "python",
     "metadata": {},
     "outputs": [
      {
       "latex": [
        "\\begin{equation*} a^{4} e_{1} + a^{3} e_{2} + a^{2} e_{3} + a^{1} e_{4} \\end{equation*}"
       ],
       "metadata": {},
       "output_type": "pyout",
       "prompt_number": 40,
       "text": [
        "a__4*e1 + a__3*e2 + a__2*e3 + a__1*e4"
       ]
      }
     ],
     "prompt_number": 40
    },
    {
     "cell_type": "heading",
     "level": 3,
     "metadata": {},
     "source": [
      "5D"
     ]
    },
    {
     "cell_type": "code",
     "collapsed": false,
     "input": [
      "(ga,e1,e2,e3,e4, e5) = Ga.build('e1 e2 e3 e4 e5',g=[1,1,1,1,1])\n",
      "a=ga.mv('a','vector')\n",
      "n = sqrt(2)/2*(e1-e5)\n",
      "m = sqrt(2)/2*(e2-e4)\n",
      "\n",
      "a_flip = m*n*a*n*m\n",
      "a_flip"
     ],
     "language": "python",
     "metadata": {},
     "outputs": [
      {
       "latex": [
        "\\begin{equation*} a^{5} e_{1} + a^{4} e_{2} + a^{3} e_{3} + a^{2} e_{4} + a^{1} e_{5} \\end{equation*}"
       ],
       "metadata": {},
       "output_type": "pyout",
       "prompt_number": 41,
       "text": [
        "a__5*e1 + a__4*e2 + a__3*e3 + a__2*e4 + a__1*e5"
       ]
      }
     ],
     "prompt_number": 41
    },
    {
     "cell_type": "heading",
     "level": 3,
     "metadata": {},
     "source": [
      "6D"
     ]
    },
    {
     "cell_type": "code",
     "collapsed": false,
     "input": [
      "(ga,e1,e2,e3,e4, e5, e6) = Ga.build('e1 e2 e3 e4 e5 e6',g=[1,1,1,1,1,1])\n",
      "a=ga.mv('a','vector')\n",
      "n = sqrt(2)/2*(e1-e6)\n",
      "m = sqrt(2)/2*(e2-e5)\n",
      "o = sqrt(2)/2*(e3-e4)\n",
      "\n",
      "a_flip = -m*n*o*a*o*n*m\n",
      "a_flip"
     ],
     "language": "python",
     "metadata": {},
     "outputs": [
      {
       "latex": [
        "\\begin{equation*} a^{6} e_{1} + a^{5} e_{2} + a^{4} e_{3} + a^{3} e_{4} + a^{2} e_{5} + a^{1} e_{6} \\end{equation*}"
       ],
       "metadata": {},
       "output_type": "pyout",
       "prompt_number": 42,
       "text": [
        "a__6*e1 + a__5*e2 + a__4*e3 + a__3*e4 + a__2*e5 + a__1*e6"
       ]
      }
     ],
     "prompt_number": 42
    },
    {
     "cell_type": "heading",
     "level": 3,
     "metadata": {},
     "source": [
      "Ok, lets write a function for n-D"
     ]
    },
    {
     "cell_type": "code",
     "collapsed": false,
     "input": [
      "\n",
      "def mirror(a):\n",
      "    e = a.Ga.mv_basis  # vector basis\n",
      "    N = len(e)       # dimension of space\n",
      "    n = range(N-1)   # reflection vectors\n",
      "    a_mir = a        # outputs\n",
      "    for i in range(len(e)/2):\n",
      "        n[i] = sqrt(2)/2* (e[i] - e[N-1-i])\n",
      "        a_mir = -n[i]*a_mir*n[i]\n",
      "    return a_mir\n",
      "\n",
      "a_mir = mirror(a)\n",
      "a_mir"
     ],
     "language": "python",
     "metadata": {},
     "outputs": [
      {
       "latex": [
        "\\begin{equation*} a^{6} e_{1} + a^{5} e_{2} + a^{4} e_{3} + a^{3} e_{4} + a^{2} e_{5} + a^{1} e_{6} \\end{equation*}"
       ],
       "metadata": {},
       "output_type": "pyout",
       "prompt_number": 43,
       "text": [
        "a__6*e1 + a__5*e2 + a__4*e3 + a__3*e4 + a__2*e5 + a__1*e6"
       ]
      }
     ],
     "prompt_number": 43
    },
    {
     "cell_type": "heading",
     "level": 2,
     "metadata": {},
     "source": [
      "Even and Odd modes"
     ]
    },
    {
     "cell_type": "markdown",
     "metadata": {},
     "source": [
      "A discrete function of length $N$ can be thought of as an $N$-dimensional vector. Any such function may broken up into *even* and *odd* modes. \n",
      "\n",
      "\\begin{eqnarray*}\n",
      "a &=& {\\frac{1}{2} (a+a^{'})} + \\frac{1}{2} (a-a^{'})\\\\\n",
      "a &=&  a_e + a_o\n",
      "\\end{eqnarray*}\n",
      "\n",
      "where $a^{'}$ is the mirrored version of $a$, as described above."
     ]
    },
    {
     "cell_type": "code",
     "collapsed": false,
     "input": [
      "half = Rational(1,2)\n",
      "even = lambda a: half*(a+mirror(a))\n",
      "odd = lambda a: half*(a-mirror(a))"
     ],
     "language": "python",
     "metadata": {},
     "outputs": [],
     "prompt_number": 47
    },
    {
     "cell_type": "heading",
     "level": 3,
     "metadata": {},
     "source": [
      "2D"
     ]
    },
    {
     "cell_type": "code",
     "collapsed": false,
     "input": [
      "(ga,e1,e2) = Ga.build('e1 e2',g=[1,1])\n",
      "\n",
      "a = ga.mv('a','vector')\n",
      "a_e = even(a)\n",
      "a_e"
     ],
     "language": "python",
     "metadata": {},
     "outputs": [
      {
       "latex": [
        "\\begin{equation*} \\left ( \\frac{a^{1}}{2} + \\frac{a^{2}}{2}\\right ) e_{1} + \\left ( \\frac{a^{1}}{2} + \\frac{a^{2}}{2}\\right ) e_{2} \\end{equation*}"
       ],
       "metadata": {},
       "output_type": "pyout",
       "prompt_number": 53,
       "text": [
        "(a__1/2 + a__2/2)*e1 + (a__1/2 + a__2/2)*e2"
       ]
      }
     ],
     "prompt_number": 53
    },
    {
     "cell_type": "code",
     "collapsed": false,
     "input": [
      "a_o = odd(a)\n",
      "a_o"
     ],
     "language": "python",
     "metadata": {},
     "outputs": [
      {
       "latex": [
        "\\begin{equation*} \\left ( \\frac{a^{1}}{2} - \\frac{a^{2}}{2}\\right ) e_{1} + \\left ( - \\frac{a^{1}}{2} + \\frac{a^{2}}{2}\\right ) e_{2} \\end{equation*}"
       ],
       "metadata": {},
       "output_type": "pyout",
       "prompt_number": 49,
       "text": [
        "(a__1/2 - a__2/2)*e1 + (-a__1/2 + a__2/2)*e2"
       ]
      }
     ],
     "prompt_number": 49
    },
    {
     "cell_type": "code",
     "collapsed": false,
     "input": [
      "import numpy as np\n",
      "a,b,c,d,e,f,g,h = rand(8)*2-1\n",
      "\n",
      "A = np.array([[a,-b,c,-d],[b,a,d,c],[c,-d,a,-b],[d,c,b,a]])\n",
      "w,v = np.linalg.eig(A)\n",
      "print v.real.round(),'\\n\\n',v.imag.round()\n"
     ],
     "language": "python",
     "metadata": {},
     "outputs": [
      {
       "output_type": "stream",
       "stream": "stdout",
       "text": [
        "[[ 1.  1. -1. -1.]\n",
        " [ 0.  0. -0. -0.]\n",
        " [-0. -0. -1. -1.]\n",
        " [ 0.  0. -0. -0.]] \n",
        "\n",
        "[[ 0. -0.  0. -0.]\n",
        " [-1.  1.  0. -0.]\n",
        " [-0.  0.  0. -0.]\n",
        " [ 0. -0.  0. -0.]]\n"
       ]
      },
      {
       "metadata": {},
       "output_type": "pyout",
       "prompt_number": 90,
       "text": [
        "array([[ 0.56109806, -0.849747  ,  0.57541564,  0.8059883 ],\n",
        "       [ 0.849747  ,  0.56109806, -0.8059883 ,  0.57541564],\n",
        "       [ 0.57541564,  0.8059883 ,  0.56109806, -0.849747  ],\n",
        "       [-0.8059883 ,  0.57541564,  0.849747  ,  0.56109806]])"
       ]
      }
     ],
     "prompt_number": 90
    },
    {
     "cell_type": "code",
     "collapsed": false,
     "input": [
      "B=np.array([[a,-b,c,-d],[b,a,d,c],[c,-d,e,-f],[d,c,f,e]])\n",
      "w,v=np.linalg.eig(B)\n",
      "print v.real.round(),'\\n\\n',v.imag.round()\n",
      "B"
     ],
     "language": "python",
     "metadata": {},
     "outputs": [
      {
       "output_type": "stream",
       "stream": "stdout",
       "text": [
        "[[ 0.  0. -0. -0.]\n",
        " [ 1.  1.  0.  0.]\n",
        " [ 0.  0. -0. -0.]\n",
        " [-0. -0.  1.  1.]] \n",
        "\n",
        "[[ 1. -1. -0.  0.]\n",
        " [ 0. -0. -0.  0.]\n",
        " [-0.  0. -1.  1.]\n",
        " [-0.  0.  0. -0.]]\n"
       ]
      },
      {
       "metadata": {},
       "output_type": "pyout",
       "prompt_number": 91,
       "text": [
        "array([[ 0.56109806, -0.849747  ,  0.57541564,  0.8059883 ],\n",
        "       [ 0.849747  ,  0.56109806, -0.8059883 ,  0.57541564],\n",
        "       [ 0.57541564,  0.8059883 ,  0.98118652,  0.72075923],\n",
        "       [-0.8059883 ,  0.57541564, -0.72075923,  0.98118652]])"
       ]
      }
     ],
     "prompt_number": 91
    },
    {
     "cell_type": "code",
     "collapsed": false,
     "input": [
      "A = rand(16).reshape(4,4)\n",
      "B= A.dot(A.T)\n",
      "w,v=eig(B)\n",
      "v"
     ],
     "language": "python",
     "metadata": {},
     "outputs": [
      {
       "metadata": {},
       "output_type": "pyout",
       "prompt_number": 89,
       "text": [
        "array([[-0.57181314, -0.79320599,  0.20919038, -0.00966301],\n",
        "       [-0.46821525,  0.45397199,  0.41212905, -0.63626531],\n",
        "       [-0.43642739,  0.0857735 , -0.87627736, -0.18523505],\n",
        "       [-0.5131621 ,  0.39670719,  0.13611396,  0.7488398 ]])"
       ]
      }
     ],
     "prompt_number": 89
    },
    {
     "cell_type": "heading",
     "level": 2,
     "metadata": {},
     "source": [
      "Adjoint"
     ]
    },
    {
     "cell_type": "code",
     "collapsed": false,
     "input": [
      "A = rf.rand_c(4,4).real\n"
     ],
     "language": "python",
     "metadata": {},
     "outputs": [],
     "prompt_number": 28
    },
    {
     "cell_type": "code",
     "collapsed": false,
     "input": [
      "A"
     ],
     "language": "python",
     "metadata": {},
     "outputs": [
      {
       "metadata": {},
       "output_type": "pyout",
       "prompt_number": 29,
       "text": [
        "array([[ 0.73384446,  0.52828717,  0.317727  , -0.42940287],\n",
        "       [-0.48811232, -0.19851145,  0.48974857,  0.80382761],\n",
        "       [-0.69890454,  0.0814669 , -0.84368555,  0.1964267 ],\n",
        "       [ 0.34837301, -0.03762983,  0.79328238, -0.7660797 ]])"
       ]
      }
     ],
     "prompt_number": 29
    },
    {
     "cell_type": "code",
     "collapsed": false,
     "input": [
      "A.T"
     ],
     "language": "python",
     "metadata": {},
     "outputs": [
      {
       "metadata": {},
       "output_type": "pyout",
       "prompt_number": 30,
       "text": [
        "array([[ 0.73384446, -0.48811232, -0.69890454,  0.34837301],\n",
        "       [ 0.52828717, -0.19851145,  0.0814669 , -0.03762983],\n",
        "       [ 0.317727  ,  0.48974857, -0.84368555,  0.79328238],\n",
        "       [-0.42940287,  0.80382761,  0.1964267 , -0.7660797 ]])"
       ]
      }
     ],
     "prompt_number": 30
    },
    {
     "cell_type": "code",
     "collapsed": false,
     "input": [
      "a = rf.rand_c(4).real"
     ],
     "language": "python",
     "metadata": {},
     "outputs": [],
     "prompt_number": 31
    },
    {
     "cell_type": "code",
     "collapsed": false,
     "input": [
      "b = A.dot(a)\n",
      "b"
     ],
     "language": "python",
     "metadata": {},
     "outputs": [
      {
       "metadata": {},
       "output_type": "pyout",
       "prompt_number": 32,
       "text": [
        "array([-0.51105556,  0.7976698 ,  0.44954596, -0.71354178])"
       ]
      }
     ],
     "prompt_number": 32
    },
    {
     "cell_type": "code",
     "collapsed": false,
     "input": [
      "A.T.dot(b) "
     ],
     "language": "python",
     "metadata": {},
     "outputs": [
      {
       "metadata": {},
       "output_type": "pyout",
       "prompt_number": 33,
       "text": [
        "array([-1.32715615, -0.36485711, -0.71703406,  1.49557043])"
       ]
      }
     ],
     "prompt_number": 33
    },
    {
     "cell_type": "code",
     "collapsed": false,
     "input": [
      "a"
     ],
     "language": "python",
     "metadata": {},
     "outputs": [
      {
       "metadata": {},
       "output_type": "pyout",
       "prompt_number": 34,
       "text": [
        "array([-0.45009876,  0.24825684,  0.03999841,  0.75596272])"
       ]
      }
     ],
     "prompt_number": 34
    },
    {
     "cell_type": "code",
     "collapsed": false,
     "input": [
      "A.dot(A.T)"
     ],
     "language": "python",
     "metadata": {},
     "outputs": [
      {
       "metadata": {},
       "output_type": "pyout",
       "prompt_number": 35,
       "text": [
        "array([[ 1.10295229, -0.65262911, -0.82225717,  0.81677629],\n",
        "       [-0.65262911,  1.16365291,  0.06967122, -0.38986231],\n",
        "       [-0.82225717,  0.06967122,  1.24549317, -1.06630445],\n",
        "       [ 0.81677629, -0.38986231, -1.06630445,  1.3389548 ]])"
       ]
      }
     ],
     "prompt_number": 35
    },
    {
     "cell_type": "code",
     "collapsed": false,
     "input": [],
     "language": "python",
     "metadata": {},
     "outputs": []
    }
   ],
   "metadata": {}
  }
 ]
}