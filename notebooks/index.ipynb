{
 "metadata": {
  "kernelspec": {
   "codemirror_mode": {
    "name": "ipython",
    "version": 2
   },
   "display_name": "IPython (Python 2)",
   "language": "python",
   "name": "python2"
  },
  "name": "",
  "signature": "sha256:0793908638dae43a88e76a71df856942e4d3b52d25a6963243aee046520441a8"
 },
 "nbformat": 3,
 "nbformat_minor": 0,
 "worksheets": [
  {
   "cells": [
    {
     "cell_type": "heading",
     "level": 1,
     "metadata": {},
     "source": [
      "Geometric Alebra Examples "
     ]
    },
    {
     "cell_type": "markdown",
     "metadata": {},
     "source": [
      "- [Projective Geometry](Projective Geometry.ipynb)\n"
     ]
    }
   ],
   "metadata": {}
  }
 ]
}